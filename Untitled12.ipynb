{
 "cells": [
  {
   "cell_type": "code",
   "execution_count": 2,
   "id": "3a7dcead-23fc-40ac-9476-5b0beb423aaa",
   "metadata": {},
   "outputs": [
    {
     "name": "stdin",
     "output_type": "stream",
     "text": [
      "enter your salary 5000000\n"
     ]
    },
    {
     "name": "stdout",
     "output_type": "stream",
     "text": [
      "1237500.0\n"
     ]
    }
   ],
   "source": [
    "x=int(input(\"enter your salary\"))\n",
    "if x <= 250000:\n",
    "    tax=0\n",
    "if (x <= 500000) and (x>250000):\n",
    "    tax=(x-250000)*5/100\n",
    "if (x <= 750000) and (x>500000):\n",
    "    tax=(x-500000)*10/100+12500\n",
    "if (x <= 1000000) and (x>750000):\n",
    "    tax=(x-750000)*15/100+37500\n",
    "if (x<=1250000) and (x>1000000):\n",
    "    tax=(x-1000000)*20/100+75000\n",
    "if (x<=1500000) and (x>1250000):\n",
    "    tax=(x-1250000)*25/100+125000\n",
    "if (x>1500000):\n",
    "    tax=(x-1500000)*30/100+187500\n",
    "print(tax) "
   ]
  },
  {
   "cell_type": "code",
   "execution_count": 3,
   "id": "5316a9b1-884d-4055-a68a-1925627d7869",
   "metadata": {},
   "outputs": [
    {
     "name": "stdin",
     "output_type": "stream",
     "text": [
      "enter your salary 5000000\n"
     ]
    },
    {
     "name": "stdout",
     "output_type": "stream",
     "text": [
      "1237500.0\n"
     ]
    }
   ],
   "source": [
    "x=int(input(\"enter your salary\"))\n",
    "def aaron(a,b,c,d):\n",
    "    tax=(a-b)*c/100+d\n",
    "    return tax\n",
    "\n",
    "if x <= 250000:\n",
    "    tax=(0,0,0,0)\n",
    "if (x <= 500000) and (x>250000):\n",
    "    tax=aaron(x,250000,5,0)\n",
    "if (x <= 750000) and (x>500000):\n",
    "    tax=aaron(x,500000,10,12500)\n",
    "if (x <= 1000000) and (x>750000):\n",
    "    tax=aaron(x,750000,15,37500)\n",
    "if (x<=1250000) and (x>1000000):\n",
    "    tax=aaron(x,1000000,20,75000)\n",
    "if (x<=1500000) and (x>1250000):\n",
    "    tax=aaron(x,1250000,25,125000)\n",
    "if (x>1500000):\n",
    "    tax= tax=aaron(x,1500000,30,187500)\n",
    "print(tax) "
   ]
  },
  {
   "cell_type": "code",
   "execution_count": 16,
   "id": "deba1780-5de6-4cfe-8439-dc8ec1930f20",
   "metadata": {},
   "outputs": [],
   "source": [
    "import pandas as c\n"
   ]
  },
  {
   "cell_type": "code",
   "execution_count": 59,
   "id": "196af30e-9e33-4796-85b3-a4095c8e90e0",
   "metadata": {},
   "outputs": [],
   "source": [
    "x=c.read_excel(\"salary.xlsx\")"
   ]
  },
  {
   "cell_type": "code",
   "execution_count": 60,
   "id": "89bc23a7-b508-451d-84b1-fe2953b9072e",
   "metadata": {},
   "outputs": [
    {
     "data": {
      "text/html": [
       "<div>\n",
       "<style scoped>\n",
       "    .dataframe tbody tr th:only-of-type {\n",
       "        vertical-align: middle;\n",
       "    }\n",
       "\n",
       "    .dataframe tbody tr th {\n",
       "        vertical-align: top;\n",
       "    }\n",
       "\n",
       "    .dataframe thead th {\n",
       "        text-align: right;\n",
       "    }\n",
       "</style>\n",
       "<table border=\"1\" class=\"dataframe\">\n",
       "  <thead>\n",
       "    <tr style=\"text-align: right;\">\n",
       "      <th></th>\n",
       "      <th>Salary</th>\n",
       "      <th>Age</th>\n",
       "    </tr>\n",
       "  </thead>\n",
       "  <tbody>\n",
       "    <tr>\n",
       "      <th>0</th>\n",
       "      <td>1000000</td>\n",
       "      <td>40</td>\n",
       "    </tr>\n",
       "  </tbody>\n",
       "</table>\n",
       "</div>"
      ],
      "text/plain": [
       "    Salary  Age\n",
       "0  1000000   40"
      ]
     },
     "execution_count": 60,
     "metadata": {},
     "output_type": "execute_result"
    }
   ],
   "source": [
    "x"
   ]
  },
  {
   "cell_type": "code",
   "execution_count": 20,
   "id": "1bd7acba-bdf5-4f77-8134-54d4a61adad5",
   "metadata": {},
   "outputs": [
    {
     "name": "stdout",
     "output_type": "stream",
     "text": [
      "0\n"
     ]
    }
   ],
   "source": [
    "a=x.loc[0,\"Salary\"]\n",
    "if a <= 250000:\n",
    "    tax=0\n",
    "if (a <= 500000) and (a>250000):\n",
    "    tax=(a-250000)*5/100\n",
    "if (a <= 750000) and (a>500000):\n",
    "    tax=(a-500000)*10/100+12500\n",
    "if (a <= 1000000) and (a>750000):\n",
    "    tax=(a-750000)*15/100+37500\n",
    "if (a<=1250000) and (a>1000000):\n",
    "    tax=(a-1000000)*20/100+75000\n",
    "if (a<=1500000) and (a>1250000):\n",
    "    tax=(a-1250000)*25/100+125000\n",
    "if (a>1500000):\n",
    "    tax=(a-1500000)*30/100+187500\n",
    "print(tax) \n",
    "    "
   ]
  },
  {
   "cell_type": "code",
   "execution_count": 26,
   "id": "e2ea9b40-6196-4ea9-b8f2-249f31a3f820",
   "metadata": {},
   "outputs": [
    {
     "name": "stdout",
     "output_type": "stream",
     "text": [
      "0\n"
     ]
    }
   ],
   "source": [
    "a=x.loc[0,\"Salary\"]\n",
    "if a <= 250000:\n",
    "    tax=0\n",
    "print(tax)"
   ]
  },
  {
   "cell_type": "code",
   "execution_count": 30,
   "id": "77440355-8d3c-4bea-9e59-7d8b83bc8830",
   "metadata": {},
   "outputs": [
    {
     "name": "stdout",
     "output_type": "stream",
     "text": [
      "0\n"
     ]
    }
   ],
   "source": [
    "a=x.loc[1,\"Salary\"]\n",
    "if a<=500000 and a>250000:\n",
    "    tax=(a-250000)*(5/100)\n",
    "print(tax)"
   ]
  },
  {
   "cell_type": "code",
   "execution_count": 66,
   "id": "1bf6a564-34f4-41d9-9883-3968a5173cf8",
   "metadata": {},
   "outputs": [],
   "source": [
    "x=c.read_excel(\"salary.xlsx\")"
   ]
  },
  {
   "cell_type": "code",
   "execution_count": 67,
   "id": "22f43016-8652-4687-a371-58f6852186da",
   "metadata": {},
   "outputs": [
    {
     "data": {
      "text/html": [
       "<div>\n",
       "<style scoped>\n",
       "    .dataframe tbody tr th:only-of-type {\n",
       "        vertical-align: middle;\n",
       "    }\n",
       "\n",
       "    .dataframe tbody tr th {\n",
       "        vertical-align: top;\n",
       "    }\n",
       "\n",
       "    .dataframe thead th {\n",
       "        text-align: right;\n",
       "    }\n",
       "</style>\n",
       "<table border=\"1\" class=\"dataframe\">\n",
       "  <thead>\n",
       "    <tr style=\"text-align: right;\">\n",
       "      <th></th>\n",
       "      <th>Salary</th>\n",
       "      <th>Age</th>\n",
       "    </tr>\n",
       "  </thead>\n",
       "  <tbody>\n",
       "    <tr>\n",
       "      <th>0</th>\n",
       "      <td>600000</td>\n",
       "      <td>70</td>\n",
       "    </tr>\n",
       "  </tbody>\n",
       "</table>\n",
       "</div>"
      ],
      "text/plain": [
       "   Salary  Age\n",
       "0  600000   70"
      ]
     },
     "execution_count": 67,
     "metadata": {},
     "output_type": "execute_result"
    }
   ],
   "source": [
    "x"
   ]
  },
  {
   "cell_type": "code",
   "execution_count": 34,
   "id": "edffb745-a131-4125-8d4c-c63d97b4e8cf",
   "metadata": {},
   "outputs": [
    {
     "name": "stdout",
     "output_type": "stream",
     "text": [
      "0\n"
     ]
    }
   ],
   "source": [
    "a=x.loc[0,\"Age\"]\n",
    "b=x.loc[0,\"Salary\"]\n",
    "if a<=60 and b>250000:\n",
    "    tax=0\n",
    "print(tax)"
   ]
  },
  {
   "cell_type": "code",
   "execution_count": 35,
   "id": "9bf65d7c-d744-4fd6-b073-b6ad33601772",
   "metadata": {},
   "outputs": [
    {
     "name": "stdout",
     "output_type": "stream",
     "text": [
      "0\n"
     ]
    }
   ],
   "source": [
    "if a<=60 and b>250000 and b<=500000:\n",
    "    tax=b*(10/100)\n",
    "print(tax)"
   ]
  },
  {
   "cell_type": "code",
   "execution_count": 36,
   "id": "81bcbbf8-8b5d-4712-a87b-49d1becb618f",
   "metadata": {},
   "outputs": [
    {
     "name": "stdout",
     "output_type": "stream",
     "text": [
      "0\n"
     ]
    }
   ],
   "source": [
    "if a<=60 and b>500000 and b<=1000000:\n",
    "    tax=b*(20/100)\n",
    "print(tax)"
   ]
  },
  {
   "cell_type": "code",
   "execution_count": 37,
   "id": "21683cc6-b0db-40f9-82f7-6b786a43fe5f",
   "metadata": {},
   "outputs": [
    {
     "name": "stdout",
     "output_type": "stream",
     "text": [
      "0\n"
     ]
    }
   ],
   "source": [
    "if a<=60 and b>1000000:\n",
    "    tax=b*(10/100)\n",
    "print(tax)"
   ]
  },
  {
   "cell_type": "code",
   "execution_count": 38,
   "id": "31cd4841-b596-4077-b517-ab8fda78048c",
   "metadata": {},
   "outputs": [
    {
     "name": "stdout",
     "output_type": "stream",
     "text": [
      "0\n"
     ]
    }
   ],
   "source": [
    "if a<=60 and a<=80 and b<=300000:\n",
    "    tax=0\n",
    "print(tax)"
   ]
  },
  {
   "cell_type": "code",
   "execution_count": 40,
   "id": "9107cc65-a17a-45e4-87c5-b9903f83b06b",
   "metadata": {},
   "outputs": [
    {
     "name": "stdout",
     "output_type": "stream",
     "text": [
      "10000.0\n"
     ]
    }
   ],
   "source": [
    "if a>60 and a<=80 and b<=300000 and b<=500000:\n",
    "    tax=b*(10/100)\n",
    "print(tax)"
   ]
  },
  {
   "cell_type": "code",
   "execution_count": 41,
   "id": "889619d9-43ee-47e9-b14b-b0946dd77fb8",
   "metadata": {},
   "outputs": [
    {
     "name": "stdout",
     "output_type": "stream",
     "text": [
      "10000.0\n"
     ]
    }
   ],
   "source": [
    "if a>60 and a<=80 and b<=500000 and b<=1000000:\n",
    "    tax=b*(20/100)\n",
    "print(tax)"
   ]
  },
  {
   "cell_type": "code",
   "execution_count": 42,
   "id": "db5af35d-c0b9-412c-a9f7-fdc037085e7b",
   "metadata": {},
   "outputs": [
    {
     "name": "stdout",
     "output_type": "stream",
     "text": [
      "10000.0\n"
     ]
    }
   ],
   "source": [
    "if a>60 and a<=80 and b<=1000000:\n",
    "    tax=b*(30/100)\n",
    "print(tax)"
   ]
  },
  {
   "cell_type": "code",
   "execution_count": 43,
   "id": "46cdd65d-4e4d-41c8-9b65-afcb2c171d93",
   "metadata": {},
   "outputs": [
    {
     "name": "stdout",
     "output_type": "stream",
     "text": [
      "10000.0\n"
     ]
    }
   ],
   "source": [
    "if a>80 and b<=500000:\n",
    "    tax=0\n",
    "print(tax)"
   ]
  },
  {
   "cell_type": "code",
   "execution_count": 45,
   "id": "39572680-fa18-4acf-81fc-73e7793c1d45",
   "metadata": {},
   "outputs": [
    {
     "name": "stdout",
     "output_type": "stream",
     "text": [
      "10000.0\n"
     ]
    }
   ],
   "source": [
    "if a>80 and b>500000 and b<=1000000:\n",
    "    tax=b*(20/100)\n",
    "print(tax)"
   ]
  },
  {
   "cell_type": "code",
   "execution_count": 46,
   "id": "49c700eb-9f9c-4924-9a9e-42dc1d1746f9",
   "metadata": {},
   "outputs": [
    {
     "name": "stdout",
     "output_type": "stream",
     "text": [
      "10000.0\n"
     ]
    }
   ],
   "source": [
    "if a>80 and a<=100 and b>1000000:\n",
    "    tax=b*(30/100)\n",
    "print(tax)"
   ]
  },
  {
   "cell_type": "code",
   "execution_count": 68,
   "id": "b15b26d2-d67d-44b6-9509-c9c7cab96b44",
   "metadata": {},
   "outputs": [
    {
     "name": "stdout",
     "output_type": "stream",
     "text": [
      "180000.0\n"
     ]
    }
   ],
   "source": [
    "a=x.loc[0,\"Age\"]\n",
    "b=x.loc[0,\"Salary\"]\n",
    "if a<=60 and b>250000:\n",
    "    tax=0\n",
    "if a<=60 and b>250000 and b<=500000:\n",
    "    tax=b*(10/100)\n",
    "if a<=60 and b>500000 and b<=1000000:\n",
    "    tax=b*(20/100)\n",
    "if a<=60 and b>1000000:\n",
    "    tax=b*(10/100)\n",
    "if a<=60 and a<=80 and b<=300000:\n",
    "    tax=0\n",
    "if a>60 and a<=80 and b<=300000 and b<=500000:\n",
    "    tax=b*(10/100)\n",
    "if a>60 and a<=80 and b<=300000 and b<=500000:\n",
    "    tax=b*(10/100)\n",
    "if a>60 and a<=80 and b<=500000 and b<=1000000:\n",
    "    tax=b*(20/100)\n",
    "if a>60 and a<=80 and b<=1000000:\n",
    "    tax=b*(30/100)\n",
    "if a>80 and b<=500000:\n",
    "    tax=0\n",
    "if a>80 and b>500000 and b<=1000000:\n",
    "    tax=b*(20/100)\n",
    "if a>80 and a<=100 and b>1000000:\n",
    "    tax=b*(30/100)\n",
    "print(tax)"
   ]
  },
  {
   "cell_type": "code",
   "execution_count": 71,
   "id": "55541b01-3461-4de8-99c2-d7e870c7b26c",
   "metadata": {},
   "outputs": [],
   "source": [
    "x=c.read_excel(\"salary.xlsx\")"
   ]
  },
  {
   "cell_type": "code",
   "execution_count": 72,
   "id": "0171746f-67ce-4954-a2aa-fd1b7277dbab",
   "metadata": {},
   "outputs": [
    {
     "data": {
      "text/html": [
       "<div>\n",
       "<style scoped>\n",
       "    .dataframe tbody tr th:only-of-type {\n",
       "        vertical-align: middle;\n",
       "    }\n",
       "\n",
       "    .dataframe tbody tr th {\n",
       "        vertical-align: top;\n",
       "    }\n",
       "\n",
       "    .dataframe thead th {\n",
       "        text-align: right;\n",
       "    }\n",
       "</style>\n",
       "<table border=\"1\" class=\"dataframe\">\n",
       "  <thead>\n",
       "    <tr style=\"text-align: right;\">\n",
       "      <th></th>\n",
       "      <th>Salary</th>\n",
       "      <th>Age</th>\n",
       "      <th>HRA</th>\n",
       "    </tr>\n",
       "  </thead>\n",
       "  <tbody>\n",
       "    <tr>\n",
       "      <th>0</th>\n",
       "      <td>600000</td>\n",
       "      <td>70</td>\n",
       "      <td>10000</td>\n",
       "    </tr>\n",
       "  </tbody>\n",
       "</table>\n",
       "</div>"
      ],
      "text/plain": [
       "   Salary  Age    HRA\n",
       "0  600000   70  10000"
      ]
     },
     "execution_count": 72,
     "metadata": {},
     "output_type": "execute_result"
    }
   ],
   "source": [
    "x"
   ]
  },
  {
   "cell_type": "code",
   "execution_count": 73,
   "id": "b4b408c9-6bdd-49ec-91d2-ebeeb3d61844",
   "metadata": {},
   "outputs": [],
   "source": []
  },
  {
   "cell_type": "code",
   "execution_count": 83,
   "id": "1fce0ba6-4c8b-4093-92a2-84dd58553ea2",
   "metadata": {},
   "outputs": [
    {
     "name": "stdout",
     "output_type": "stream",
     "text": [
      "     Salary       Age       HRA\n",
      "0  450000.0  180031.5  184500.0\n"
     ]
    }
   ],
   "source": [
    "a=x.loc[0,\"Age\"]\n",
    "b=x.loc[0,\"Salary\"]\n",
    "c=x.loc[0,\"HRA\"]\n",
    "if a<=60 and b>250000:\n",
    "    tax=0\n",
    "if a<=60 and b>250000 and b<=500000:\n",
    "    tax=b*(10/100)\n",
    "if a<=60 and b>500000 and b<=1000000:\n",
    "    tax=b*(20/100)\n",
    "if a<=60 and b>1000000:\n",
    "    tax=b*(10/100)\n",
    "if a<=60 and a<=80 and b<=300000:\n",
    "    tax=0\n",
    "if a>60 and a<=80 and b<=300000 and b<=500000:\n",
    "    tax=b*(10/100)\n",
    "if a>60 and a<=80 and b<=300000 and b<=500000:\n",
    "    tax=b*(10/100)\n",
    "if a>60 and a<=80 and b<=500000 and b<=1000000:\n",
    "    tax=b*(20/100)\n",
    "if a>60 and a<=80 and b<=1000000:\n",
    "    tax=b*(30/100)\n",
    "if a>80 and b<=500000:\n",
    "    tax=0\n",
    "if a>80 and b>500000 and b<=1000000:\n",
    "    tax=b*(20/100)\n",
    "if a>80 and a<=100 and b>1000000:\n",
    "    tax=b*(30/100)\n",
    "if c<((10/100)*(a)):\n",
    "    Tax=0\n",
    "if c>((10/100)*(a)):\n",
    "    Tax=(50/100)*(x-(10/100)*(x))\n",
    "t=tax+Tax\n",
    "print(t)"
   ]
  },
  {
   "cell_type": "code",
   "execution_count": null,
   "id": "1701cada-0ed5-48b7-bc7a-c2f9faa54b00",
   "metadata": {},
   "outputs": [],
   "source": []
  }
 ],
 "metadata": {
  "kernelspec": {
   "display_name": "Python 3",
   "language": "python",
   "name": "python3"
  },
  "language_info": {
   "codemirror_mode": {
    "name": "ipython",
    "version": 3
   },
   "file_extension": ".py",
   "mimetype": "text/x-python",
   "name": "python",
   "nbconvert_exporter": "python",
   "pygments_lexer": "ipython3",
   "version": "3.8.8"
  }
 },
 "nbformat": 4,
 "nbformat_minor": 5
}
