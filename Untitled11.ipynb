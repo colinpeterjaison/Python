{
 "cells": [
  {
   "cell_type": "code",
   "execution_count": 3,
   "id": "c17ebe64-9c4b-4faa-b453-036ab4d37282",
   "metadata": {},
   "outputs": [
    {
     "name": "stdin",
     "output_type": "stream",
     "text": [
      "Enter Standard Time 20\n",
      "Enter Time 15\n",
      "Enter Rate 2\n"
     ]
    },
    {
     "name": "stdout",
     "output_type": "stream",
     "text": [
      "35.0\n"
     ]
    }
   ],
   "source": [
    "s=int(input(\"Enter Standard Time\"))\n",
    "t=int(input(\"Enter Time\"))\n",
    "r=int(input(\"Enter Rate\"))\n",
    "total_earnings=t*r+((s-t)*(1/2))*r\n",
    "print(total_earnings)\n",
    "    "
   ]
  },
  {
   "cell_type": "code",
   "execution_count": 4,
   "id": "f2f2ec29-5238-44ba-978e-afbcc58b30d3",
   "metadata": {},
   "outputs": [],
   "source": [
    "import pandas as c\n"
   ]
  },
  {
   "cell_type": "code",
   "execution_count": 5,
   "id": "0e2a69cb-8730-4c56-93e4-6e17d9c766a4",
   "metadata": {},
   "outputs": [],
   "source": [
    "x=c.read_excel(\"14-12-2021.xlsx\")"
   ]
  },
  {
   "cell_type": "code",
   "execution_count": 6,
   "id": "4b11cca9-17da-472b-9cb8-bcc6f0e330ec",
   "metadata": {},
   "outputs": [
    {
     "data": {
      "text/html": [
       "<div>\n",
       "<style scoped>\n",
       "    .dataframe tbody tr th:only-of-type {\n",
       "        vertical-align: middle;\n",
       "    }\n",
       "\n",
       "    .dataframe tbody tr th {\n",
       "        vertical-align: top;\n",
       "    }\n",
       "\n",
       "    .dataframe thead th {\n",
       "        text-align: right;\n",
       "    }\n",
       "</style>\n",
       "<table border=\"1\" class=\"dataframe\">\n",
       "  <thead>\n",
       "    <tr style=\"text-align: right;\">\n",
       "      <th></th>\n",
       "      <th>Name</th>\n",
       "      <th>T</th>\n",
       "      <th>S</th>\n",
       "      <th>R</th>\n",
       "    </tr>\n",
       "  </thead>\n",
       "  <tbody>\n",
       "    <tr>\n",
       "      <th>0</th>\n",
       "      <td>Colin</td>\n",
       "      <td>45</td>\n",
       "      <td>67</td>\n",
       "      <td>600</td>\n",
       "    </tr>\n",
       "  </tbody>\n",
       "</table>\n",
       "</div>"
      ],
      "text/plain": [
       "    Name   T   S    R\n",
       "0  Colin  45  67  600"
      ]
     },
     "execution_count": 6,
     "metadata": {},
     "output_type": "execute_result"
    }
   ],
   "source": [
    "x"
   ]
  },
  {
   "cell_type": "code",
   "execution_count": 13,
   "id": "8f699ab7-a4b6-4d2f-87b1-3b425aa5849f",
   "metadata": {},
   "outputs": [
    {
     "name": "stdout",
     "output_type": "stream",
     "text": [
      "33600.0\n"
     ]
    }
   ],
   "source": [
    "t=x.loc[0,\"T\"]\n",
    "s=x.loc[0,\"S\"]\n",
    "r=x.loc[0,\"R\"]\n",
    "total_earnings=t*r+((s-t)*(1/2))*r\n",
    "print(total_earnings)\n",
    "    "
   ]
  },
  {
   "cell_type": "code",
   "execution_count": 15,
   "id": "58309d15-2a59-4a2c-8187-baad57e53ec6",
   "metadata": {},
   "outputs": [],
   "source": [
    "x=c.read_excel(\"miles 14-12-2021.xlsx\")"
   ]
  },
  {
   "cell_type": "code",
   "execution_count": 16,
   "id": "7542b8ba-9b77-4c37-b14e-0349f89dafb3",
   "metadata": {},
   "outputs": [
    {
     "data": {
      "text/html": [
       "<div>\n",
       "<style scoped>\n",
       "    .dataframe tbody tr th:only-of-type {\n",
       "        vertical-align: middle;\n",
       "    }\n",
       "\n",
       "    .dataframe tbody tr th {\n",
       "        vertical-align: top;\n",
       "    }\n",
       "\n",
       "    .dataframe thead th {\n",
       "        text-align: right;\n",
       "    }\n",
       "</style>\n",
       "<table border=\"1\" class=\"dataframe\">\n",
       "  <thead>\n",
       "    <tr style=\"text-align: right;\">\n",
       "      <th></th>\n",
       "      <th>N</th>\n",
       "      <th>T</th>\n",
       "      <th>W</th>\n",
       "      <th>S</th>\n",
       "    </tr>\n",
       "  </thead>\n",
       "  <tbody>\n",
       "    <tr>\n",
       "      <th>0</th>\n",
       "      <td>5000</td>\n",
       "      <td>19</td>\n",
       "      <td>420</td>\n",
       "      <td>2</td>\n",
       "    </tr>\n",
       "  </tbody>\n",
       "</table>\n",
       "</div>"
      ],
      "text/plain": [
       "      N   T    W  S\n",
       "0  5000  19  420  2"
      ]
     },
     "execution_count": 16,
     "metadata": {},
     "output_type": "execute_result"
    }
   ],
   "source": [
    "x"
   ]
  },
  {
   "cell_type": "code",
   "execution_count": 18,
   "id": "fe98f2c0-225f-4fdb-b7c5-fb11d8021b5d",
   "metadata": {},
   "outputs": [
    {
     "name": "stdout",
     "output_type": "stream",
     "text": [
      "ManPower: 113.0952380952381\n"
     ]
    }
   ],
   "source": [
    "n=x.loc[0,\"N\"]\n",
    "t=x.loc[0,\"T\"]\n",
    "w=x.loc[0,\"W\"]\n",
    "s=x.loc[0,\"S\"]\n",
    "manpower=((n*t)/w)/s\n",
    "print(\"ManPower:\",manpower)\n",
    "manpower_for_85=manpower/0.85"
   ]
  },
  {
   "cell_type": "code",
   "execution_count": 21,
   "id": "1a096592-ccc3-4e70-8b0a-5560a541423d",
   "metadata": {},
   "outputs": [],
   "source": [
    "x=c.read_excel(\"miles 14-12-2021.xlsx\")"
   ]
  },
  {
   "cell_type": "code",
   "execution_count": 22,
   "id": "ac5d8f58-79c4-4070-a6c9-fb5fef1e3b87",
   "metadata": {},
   "outputs": [
    {
     "data": {
      "text/html": [
       "<div>\n",
       "<style scoped>\n",
       "    .dataframe tbody tr th:only-of-type {\n",
       "        vertical-align: middle;\n",
       "    }\n",
       "\n",
       "    .dataframe tbody tr th {\n",
       "        vertical-align: top;\n",
       "    }\n",
       "\n",
       "    .dataframe thead th {\n",
       "        text-align: right;\n",
       "    }\n",
       "</style>\n",
       "<table border=\"1\" class=\"dataframe\">\n",
       "  <thead>\n",
       "    <tr style=\"text-align: right;\">\n",
       "      <th></th>\n",
       "      <th>N</th>\n",
       "      <th>T</th>\n",
       "      <th>W</th>\n",
       "      <th>S</th>\n",
       "      <th>a</th>\n",
       "      <th>b</th>\n",
       "      <th>c</th>\n",
       "    </tr>\n",
       "  </thead>\n",
       "  <tbody>\n",
       "    <tr>\n",
       "      <th>0</th>\n",
       "      <td>5000</td>\n",
       "      <td>19</td>\n",
       "      <td>420</td>\n",
       "      <td>2</td>\n",
       "      <td>5</td>\n",
       "      <td>8</td>\n",
       "      <td>6</td>\n",
       "    </tr>\n",
       "    <tr>\n",
       "      <th>1</th>\n",
       "      <td>704</td>\n",
       "      <td>8</td>\n",
       "      <td>470</td>\n",
       "      <td>2</td>\n",
       "      <td>1</td>\n",
       "      <td>4</td>\n",
       "      <td>3</td>\n",
       "    </tr>\n",
       "    <tr>\n",
       "      <th>2</th>\n",
       "      <td>1874</td>\n",
       "      <td>10</td>\n",
       "      <td>461</td>\n",
       "      <td>7</td>\n",
       "      <td>3</td>\n",
       "      <td>5</td>\n",
       "      <td>2</td>\n",
       "    </tr>\n",
       "    <tr>\n",
       "      <th>3</th>\n",
       "      <td>2309</td>\n",
       "      <td>12</td>\n",
       "      <td>266</td>\n",
       "      <td>10</td>\n",
       "      <td>5</td>\n",
       "      <td>6</td>\n",
       "      <td>1</td>\n",
       "    </tr>\n",
       "  </tbody>\n",
       "</table>\n",
       "</div>"
      ],
      "text/plain": [
       "      N   T    W   S  a  b  c\n",
       "0  5000  19  420   2  5  8  6\n",
       "1   704   8  470   2  1  4  3\n",
       "2  1874  10  461   7  3  5  2\n",
       "3  2309  12  266  10  5  6  1"
      ]
     },
     "execution_count": 22,
     "metadata": {},
     "output_type": "execute_result"
    }
   ],
   "source": [
    "x"
   ]
  },
  {
   "cell_type": "code",
   "execution_count": 28,
   "id": "1657f629-fc4f-4ddd-8d03-89dc1f68f643",
   "metadata": {},
   "outputs": [
    {
     "name": "stdout",
     "output_type": "stream",
     "text": [
      "ManPower: 113.0952380952381\n",
      "133.05322128851543\n",
      "ManPower: 113.0952380952381\n",
      "133.05322128851543\n",
      "ManPower: 5.991489361702127\n",
      "7.048811013767209\n",
      "ManPower: 10.416541353383458\n",
      "12.254754533392305\n"
     ]
    }
   ],
   "source": [
    "D=0\n",
    "d=0\n",
    "for y in x.index:\n",
    "        n=x.loc[D,\"N\"]\n",
    "        t=x.loc[D,\"T\"]\n",
    "        w=x.loc[D,\"W\"]\n",
    "        s=x.loc[D,\"S\"]\n",
    "        D=D+d\n",
    "        d=d+1\n",
    "        manpower=((n*t)/w)/s\n",
    "        print(\"ManPower:\",manpower)\n",
    "        manpower_for_85=manpower/0.85\n",
    "        print(manpower_for_85)\n",
    "        \n",
    "        \n",
    "    \n",
    "    "
   ]
  },
  {
   "cell_type": "code",
   "execution_count": null,
   "id": "1c454732-56cf-4540-9313-3faee691b737",
   "metadata": {},
   "outputs": [],
   "source": []
  }
 ],
 "metadata": {
  "kernelspec": {
   "display_name": "Python 3",
   "language": "python",
   "name": "python3"
  },
  "language_info": {
   "codemirror_mode": {
    "name": "ipython",
    "version": 3
   },
   "file_extension": ".py",
   "mimetype": "text/x-python",
   "name": "python",
   "nbconvert_exporter": "python",
   "pygments_lexer": "ipython3",
   "version": "3.8.8"
  }
 },
 "nbformat": 4,
 "nbformat_minor": 5
}
