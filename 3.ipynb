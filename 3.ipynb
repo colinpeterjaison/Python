{
 "cells": [
  {
   "cell_type": "code",
   "execution_count": 1,
   "id": "35311d83-1422-4809-bd32-9345d98f299e",
   "metadata": {},
   "outputs": [],
   "source": [
    "x=20"
   ]
  },
  {
   "cell_type": "code",
   "execution_count": 2,
   "id": "8dabd307-6881-4be6-91f6-08a13172dde0",
   "metadata": {},
   "outputs": [
    {
     "name": "stdin",
     "output_type": "stream",
     "text": [
      "Enter a number: 5\n"
     ]
    },
    {
     "name": "stdout",
     "output_type": "stream",
     "text": [
      "x less than 15\n"
     ]
    }
   ],
   "source": [
    "x=int(input(\"Enter a number:\"))\n",
    "if x>15:\n",
    "    print(\"x is greater than 15\")\n",
    "    print(\"Hello\")\n",
    "if x<15:\n",
    "    print(\"x less than 15\")\n",
    "if x==15:\n",
    "    print(\"Enter some other number\")"
   ]
  },
  {
   "cell_type": "code",
   "execution_count": 28,
   "id": "6aea9a0e-eed2-4014-89fe-4cb4567d23e8",
   "metadata": {},
   "outputs": [],
   "source": [
    "def interst():\n",
    "    p=int(input(\"Enter a number\"))\n",
    "    n=int(input(\"Enter a number\"))\n",
    "    if n>6:\n",
    "        r=10\n",
    "    if n<=6:\n",
    "        r=8\n",
    "    pnr=int(p)*int(n)*int(r)\n",
    "    x=int(p)+(pnr/100)\n",
    "    print(x)"
   ]
  },
  {
   "cell_type": "code",
   "execution_count": 30,
   "id": "81a5f904-7174-41c2-9e5c-173d063ee675",
   "metadata": {},
   "outputs": [
    {
     "name": "stdin",
     "output_type": "stream",
     "text": [
      "Enter a number 50000\n",
      "Enter a number 6\n"
     ]
    },
    {
     "name": "stdout",
     "output_type": "stream",
     "text": [
      "74000.0\n"
     ]
    }
   ],
   "source": [
    "interst()"
   ]
  },
  {
   "cell_type": "code",
   "execution_count": 2,
   "id": "e51479a7-42e7-42c8-bc5b-9f657b5581b0",
   "metadata": {},
   "outputs": [],
   "source": [
    "def interst():\n",
    "    p=int(input(\"Enter a number\"))\n",
    "    n=int(input(\"Enter a number\"))\n",
    "    if p>=50000:\n",
    "        r=10\n",
    "    pnr=int(p)*int(n)*int(r)\n",
    "    x=int(p)+(pnr/100)\n",
    "    print(x)\n",
    "    \n",
    "        \n",
    "    "
   ]
  },
  {
   "cell_type": "code",
   "execution_count": 3,
   "id": "8e551e45-0b09-4bd5-90f7-bb80aeaac3a9",
   "metadata": {},
   "outputs": [
    {
     "name": "stdin",
     "output_type": "stream",
     "text": [
      "Enter a number 100000\n",
      "Enter a number 2\n"
     ]
    },
    {
     "name": "stdout",
     "output_type": "stream",
     "text": [
      "120000.0\n"
     ]
    }
   ],
   "source": [
    "interst()"
   ]
  },
  {
   "cell_type": "code",
   "execution_count": 19,
   "id": "5f732ea0-b61d-4ed7-af97-2f9e11475031",
   "metadata": {},
   "outputs": [],
   "source": [
    "def calculator():\n",
    "    x=int(input(\"Enter Number:\"))\n",
    "    y=int(input(\"Enter Number:\"))\n",
    "    z=str(input())\n",
    "    if z==\"+\":\n",
    "        v=x+y\n",
    "        print(v)\n",
    "    if z==\"-\":\n",
    "        v=x-y\n",
    "        print(v)\n",
    "    if z==\"*\":\n",
    "        v=x*y\n",
    "        print(v)\n",
    "    if z==\"/\":\n",
    "        v=x/y\n",
    "        print(v)"
   ]
  },
  {
   "cell_type": "code",
   "execution_count": 20,
   "id": "a43330ef-05eb-408c-be22-5d541fd18df2",
   "metadata": {},
   "outputs": [
    {
     "name": "stdin",
     "output_type": "stream",
     "text": [
      "Enter Number: 500\n",
      "Enter Number: 100\n",
      " +\n"
     ]
    },
    {
     "name": "stdout",
     "output_type": "stream",
     "text": [
      "600\n"
     ]
    }
   ],
   "source": [
    "calculator()"
   ]
  },
  {
   "cell_type": "code",
   "execution_count": 21,
   "id": "e38a669b-d9be-4597-97e3-73fe004f11f4",
   "metadata": {},
   "outputs": [
    {
     "name": "stdin",
     "output_type": "stream",
     "text": [
      "Enter Number: 500\n",
      "Enter Number: 100\n",
      " -\n"
     ]
    },
    {
     "name": "stdout",
     "output_type": "stream",
     "text": [
      "400\n"
     ]
    }
   ],
   "source": [
    "calculator()\n"
   ]
  },
  {
   "cell_type": "code",
   "execution_count": 22,
   "id": "d1d3850f-0479-40e1-a911-560e3a9a004e",
   "metadata": {},
   "outputs": [
    {
     "name": "stdin",
     "output_type": "stream",
     "text": [
      "Enter Number: 500\n",
      "Enter Number: 100\n",
      " *\n"
     ]
    },
    {
     "name": "stdout",
     "output_type": "stream",
     "text": [
      "50000\n"
     ]
    }
   ],
   "source": [
    "calculator()"
   ]
  },
  {
   "cell_type": "code",
   "execution_count": 23,
   "id": "d7e90ab3-4d42-4977-bbd5-8cde97926aa8",
   "metadata": {},
   "outputs": [
    {
     "name": "stdin",
     "output_type": "stream",
     "text": [
      "Enter Number: 500\n",
      "Enter Number: 100\n",
      " /\n"
     ]
    },
    {
     "name": "stdout",
     "output_type": "stream",
     "text": [
      "5.0\n"
     ]
    }
   ],
   "source": [
    "calculator()\n"
   ]
  },
  {
   "cell_type": "code",
   "execution_count": 9,
   "id": "3c975130-d3bc-456b-9ad8-f69296703600",
   "metadata": {},
   "outputs": [],
   "source": [
    "def positive_negative():\n",
    "    x=int(input(\"Enter a number\"))\n",
    "    if x==0:\n",
    "        print(\"Zero\")\n",
    "    if x>0:\n",
    "        print(\"positive\")\n",
    "    if x<0:\n",
    "        print(\"negative\")"
   ]
  },
  {
   "cell_type": "code",
   "execution_count": 12,
   "id": "65e342c3-c5e7-48b1-883b-d623ca933daa",
   "metadata": {},
   "outputs": [
    {
     "name": "stdin",
     "output_type": "stream",
     "text": [
      "Enter a number -1\n"
     ]
    },
    {
     "name": "stdout",
     "output_type": "stream",
     "text": [
      "negative\n"
     ]
    }
   ],
   "source": [
    "positive_negative()"
   ]
  },
  {
   "cell_type": "code",
   "execution_count": 13,
   "id": "29649d70-0d1e-4d80-bd15-802848040d7e",
   "metadata": {},
   "outputs": [
    {
     "name": "stdin",
     "output_type": "stream",
     "text": [
      "Enter a number 5\n"
     ]
    },
    {
     "name": "stdout",
     "output_type": "stream",
     "text": [
      "positive\n"
     ]
    }
   ],
   "source": [
    "positive_negative()"
   ]
  },
  {
   "cell_type": "code",
   "execution_count": 14,
   "id": "af8abfe1-3107-45de-8b5d-557fb8ad4ae8",
   "metadata": {},
   "outputs": [
    {
     "name": "stdin",
     "output_type": "stream",
     "text": [
      "Enter a number 0\n"
     ]
    },
    {
     "name": "stdout",
     "output_type": "stream",
     "text": [
      "Zero\n"
     ]
    }
   ],
   "source": [
    "positive_negative()\n"
   ]
  },
  {
   "cell_type": "code",
   "execution_count": 15,
   "id": "2e092ded-3e4d-4338-8570-a9101104f900",
   "metadata": {},
   "outputs": [],
   "source": [
    "def positive_negative():\n",
    "    x=int(input(\"Enter a number\"))\n",
    "    if x>=0:\n",
    "        if x==0:\n",
    "            print(\"zero\")\n",
    "        else:\n",
    "            print(\"Positive\")\n",
    "    else:\n",
    "        print(\"negative\")"
   ]
  },
  {
   "cell_type": "code",
   "execution_count": 16,
   "id": "e9d1c9b5-1bb8-438b-8d89-3bc816527c65",
   "metadata": {},
   "outputs": [
    {
     "name": "stdin",
     "output_type": "stream",
     "text": [
      "Enter a number 5\n"
     ]
    },
    {
     "name": "stdout",
     "output_type": "stream",
     "text": [
      "Positive\n"
     ]
    }
   ],
   "source": [
    "positive_negative()"
   ]
  },
  {
   "cell_type": "code",
   "execution_count": 17,
   "id": "96c44968-4f71-4bfd-ab78-f40ef0345897",
   "metadata": {},
   "outputs": [
    {
     "name": "stdin",
     "output_type": "stream",
     "text": [
      "Enter a number -5\n"
     ]
    },
    {
     "name": "stdout",
     "output_type": "stream",
     "text": [
      "negative\n"
     ]
    }
   ],
   "source": [
    "positive_negative()\n"
   ]
  },
  {
   "cell_type": "code",
   "execution_count": 18,
   "id": "5a0a9d27-acc1-498d-9dbf-ab3c5b34cef4",
   "metadata": {},
   "outputs": [
    {
     "name": "stdin",
     "output_type": "stream",
     "text": [
      "Enter a number 0\n"
     ]
    },
    {
     "name": "stdout",
     "output_type": "stream",
     "text": [
      "zero\n"
     ]
    }
   ],
   "source": [
    "positive_negative()"
   ]
  },
  {
   "cell_type": "code",
   "execution_count": 20,
   "id": "ccc524e0-62d5-48e7-9a33-141a7d18a73f",
   "metadata": {},
   "outputs": [],
   "source": [
    "def interst():\n",
    "    p=int(input(\"Enter a number\"))\n",
    "    n=int(input(\"Enter a number\"))\n",
    "    if n<=6:\n",
    "        r=8\n",
    "    else:\n",
    "        r=10\n",
    "    if p>50000:\n",
    "        r=10\n",
    "    pnr=int(p)*int(n)*int(r)\n",
    "    x=int(p)+(pnr/100)\n",
    "    print(x)"
   ]
  },
  {
   "cell_type": "code",
   "execution_count": 22,
   "id": "a6caedcc-7f25-4679-b69e-bace24bd7e14",
   "metadata": {},
   "outputs": [
    {
     "name": "stdin",
     "output_type": "stream",
     "text": [
      "Enter a number 53000\n",
      "Enter a number 3\n"
     ]
    },
    {
     "name": "stdout",
     "output_type": "stream",
     "text": [
      "68900.0\n"
     ]
    }
   ],
   "source": [
    "interst()"
   ]
  },
  {
   "cell_type": "code",
   "execution_count": 23,
   "id": "b32f663b-595b-4819-a454-a72a2df30e7f",
   "metadata": {},
   "outputs": [
    {
     "name": "stdin",
     "output_type": "stream",
     "text": [
      "Enter a number 4000\n",
      "Enter a number 7\n"
     ]
    },
    {
     "name": "stdout",
     "output_type": "stream",
     "text": [
      "6800.0\n"
     ]
    }
   ],
   "source": [
    "interst()\n"
   ]
  },
  {
   "cell_type": "code",
   "execution_count": 24,
   "id": "c0a97689-cca0-4c5e-afe9-20585b69e83d",
   "metadata": {},
   "outputs": [
    {
     "name": "stdin",
     "output_type": "stream",
     "text": [
      "Enter a number 900000\n",
      "Enter a number 9\n"
     ]
    },
    {
     "name": "stdout",
     "output_type": "stream",
     "text": [
      "1710000.0\n"
     ]
    }
   ],
   "source": [
    "interst()"
   ]
  },
  {
   "cell_type": "code",
   "execution_count": 26,
   "id": "c42cdcac-410a-4900-8de0-39e1c70e6637",
   "metadata": {},
   "outputs": [
    {
     "name": "stdout",
     "output_type": "stream",
     "text": [
      "Adonis is a very big big big big kundan\n"
     ]
    }
   ],
   "source": [
    "x=\"Adonis is a very big big big big kundan\"\n",
    "print(x)"
   ]
  },
  {
   "cell_type": "code",
   "execution_count": 31,
   "id": "3f97d7b3-0c32-4367-b5e2-7b3c027800fc",
   "metadata": {},
   "outputs": [
    {
     "data": {
      "text/plain": [
       "'H'"
      ]
     },
     "execution_count": 31,
     "metadata": {},
     "output_type": "execute_result"
    }
   ],
   "source": [
    "x=\"Hello George\"\n",
    "x[0]"
   ]
  },
  {
   "cell_type": "code",
   "execution_count": 28,
   "id": "a550e85a-c7e3-4eec-9eb9-4d4ed7b4d259",
   "metadata": {},
   "outputs": [
    {
     "data": {
      "text/plain": [
       "'e'"
      ]
     },
     "execution_count": 28,
     "metadata": {},
     "output_type": "execute_result"
    }
   ],
   "source": [
    "x[1]"
   ]
  },
  {
   "cell_type": "code",
   "execution_count": 29,
   "id": "8469001f-53f6-49bf-a0c3-01b6eb64cd5f",
   "metadata": {},
   "outputs": [
    {
     "data": {
      "text/plain": [
       "'l'"
      ]
     },
     "execution_count": 29,
     "metadata": {},
     "output_type": "execute_result"
    }
   ],
   "source": [
    "x[3]"
   ]
  },
  {
   "cell_type": "code",
   "execution_count": 32,
   "id": "b3ea059b-739a-4743-8fc4-859ecef23159",
   "metadata": {},
   "outputs": [
    {
     "data": {
      "text/plain": [
       "'HELLO GEORGE'"
      ]
     },
     "execution_count": 32,
     "metadata": {},
     "output_type": "execute_result"
    }
   ],
   "source": [
    "x.upper()"
   ]
  },
  {
   "cell_type": "code",
   "execution_count": 33,
   "id": "24ef128e-0427-4a32-88f4-4091de8aba84",
   "metadata": {},
   "outputs": [
    {
     "data": {
      "text/plain": [
       "'hello george'"
      ]
     },
     "execution_count": 33,
     "metadata": {},
     "output_type": "execute_result"
    }
   ],
   "source": [
    "x.lower()"
   ]
  },
  {
   "cell_type": "code",
   "execution_count": 34,
   "id": "2dda53b5-b271-4fe2-a2b9-f6b75934f915",
   "metadata": {},
   "outputs": [
    {
     "data": {
      "text/plain": [
       "('', 'Hello', ' George')"
      ]
     },
     "execution_count": 34,
     "metadata": {},
     "output_type": "execute_result"
    }
   ],
   "source": [
    "x.partition(\"Hello\")"
   ]
  },
  {
   "cell_type": "code",
   "execution_count": 36,
   "id": "452dc49f-93a5-44ca-a0d4-3da771d31f01",
   "metadata": {},
   "outputs": [
    {
     "data": {
      "text/plain": [
       "['', ' George']"
      ]
     },
     "execution_count": 36,
     "metadata": {},
     "output_type": "execute_result"
    }
   ],
   "source": [
    "x.split(\"Hello\")"
   ]
  },
  {
   "cell_type": "code",
   "execution_count": 38,
   "id": "0e31821e-951b-49c6-a775-04ef02e450f6",
   "metadata": {},
   "outputs": [
    {
     "data": {
      "text/plain": [
       "False"
      ]
     },
     "execution_count": 38,
     "metadata": {},
     "output_type": "execute_result"
    }
   ],
   "source": [
    "x.startswith(\"G\")"
   ]
  },
  {
   "cell_type": "code",
   "execution_count": 39,
   "id": "868e8cd4-6c12-447c-90c2-e6e7e0a72e10",
   "metadata": {},
   "outputs": [
    {
     "data": {
      "text/plain": [
       "True"
      ]
     },
     "execution_count": 39,
     "metadata": {},
     "output_type": "execute_result"
    }
   ],
   "source": [
    "x.startswith(\"H\")"
   ]
  },
  {
   "cell_type": "code",
   "execution_count": 40,
   "id": "02a74ced-6c29-40c1-8f86-c2d3f37e25fb",
   "metadata": {},
   "outputs": [
    {
     "data": {
      "text/plain": [
       "3"
      ]
     },
     "execution_count": 40,
     "metadata": {},
     "output_type": "execute_result"
    }
   ],
   "source": [
    "x.count(\"e\")"
   ]
  },
  {
   "cell_type": "code",
   "execution_count": 41,
   "id": "744272c1-42cc-446a-8862-f5290cc6eb6d",
   "metadata": {},
   "outputs": [],
   "source": [
    "x=\"Machane athe pore aliya\""
   ]
  },
  {
   "cell_type": "code",
   "execution_count": 42,
   "id": "bcd97ea8-1e1e-4193-a1a4-cb579439a2f3",
   "metadata": {},
   "outputs": [
    {
     "data": {
      "text/plain": [
       "5"
      ]
     },
     "execution_count": 42,
     "metadata": {},
     "output_type": "execute_result"
    }
   ],
   "source": [
    "x.count('a')"
   ]
  },
  {
   "cell_type": "code",
   "execution_count": 48,
   "id": "9d0b31ab-d545-45cb-8b2b-031b9f929bc3",
   "metadata": {},
   "outputs": [
    {
     "data": {
      "text/plain": [
       "2"
      ]
     },
     "execution_count": 48,
     "metadata": {},
     "output_type": "execute_result"
    }
   ],
   "source": [
    "x.count(\"a\",1,7)"
   ]
  },
  {
   "cell_type": "code",
   "execution_count": 49,
   "id": "b5e9a9b1-0151-4f14-97e0-b8f3625bdf4d",
   "metadata": {},
   "outputs": [
    {
     "data": {
      "text/plain": [
       "1"
      ]
     },
     "execution_count": 49,
     "metadata": {},
     "output_type": "execute_result"
    }
   ],
   "source": [
    "x.index(\"a\")"
   ]
  },
  {
   "cell_type": "code",
   "execution_count": 50,
   "id": "0bd9d16a-634a-4669-8e2f-099169881e2a",
   "metadata": {},
   "outputs": [
    {
     "data": {
      "text/plain": [
       "13"
      ]
     },
     "execution_count": 50,
     "metadata": {},
     "output_type": "execute_result"
    }
   ],
   "source": [
    "x.index(\"p\")"
   ]
  },
  {
   "cell_type": "code",
   "execution_count": 53,
   "id": "57f62a48-d21f-4419-8560-f29a9678b04c",
   "metadata": {},
   "outputs": [],
   "source": [
    "x=\"ABCDE123\""
   ]
  },
  {
   "cell_type": "code",
   "execution_count": 54,
   "id": "dca36328-d7f5-4ed3-b831-a4e17d243820",
   "metadata": {},
   "outputs": [
    {
     "ename": "AttributeError",
     "evalue": "'str' object has no attribute 'isnum'",
     "output_type": "error",
     "traceback": [
      "\u001b[1;31m---------------------------------------------------------------------------\u001b[0m",
      "\u001b[1;31mAttributeError\u001b[0m                            Traceback (most recent call last)",
      "\u001b[1;32m<ipython-input-54-f06c1de33806>\u001b[0m in \u001b[0;36m<module>\u001b[1;34m\u001b[0m\n\u001b[1;32m----> 1\u001b[1;33m \u001b[0mx\u001b[0m\u001b[1;33m.\u001b[0m\u001b[0misnum\u001b[0m\u001b[1;33m(\u001b[0m\u001b[1;33m)\u001b[0m\u001b[1;33m\u001b[0m\u001b[1;33m\u001b[0m\u001b[0m\n\u001b[0m",
      "\u001b[1;31mAttributeError\u001b[0m: 'str' object has no attribute 'isnum'"
     ]
    }
   ],
   "source": [
    "x.isnum()"
   ]
  },
  {
   "cell_type": "code",
   "execution_count": 56,
   "id": "f8f1acb0-3e2b-41f8-9c91-f570680aabe8",
   "metadata": {},
   "outputs": [
    {
     "data": {
      "text/plain": [
       "True"
      ]
     },
     "execution_count": 56,
     "metadata": {},
     "output_type": "execute_result"
    }
   ],
   "source": [
    "x.isalnum()"
   ]
  },
  {
   "cell_type": "code",
   "execution_count": 73,
   "id": "5d36c2bc-1603-439e-9249-1aacc3cddbfd",
   "metadata": {},
   "outputs": [
    {
     "name": "stdin",
     "output_type": "stream",
     "text": [
      "Enter username ADFS\n",
      "Enter password 1236\n"
     ]
    },
    {
     "name": "stdout",
     "output_type": "stream",
     "text": [
      "Incorrect\n"
     ]
    }
   ],
   "source": [
    "x=\"ABCD\"\n",
    "y=\"1234\"\n",
    "x=input(\"Enter username\")\n",
    "y=input(\"Enter password\")\n",
    "if username==x and password==y:\n",
    "    print(\"login Sucessfull\")\n",
    "else:\n",
    "    print(\"Incorrect\") "
   ]
  },
  {
   "cell_type": "code",
   "execution_count": null,
   "id": "a5b089e4-93b6-481a-82b9-5c3abfd983ce",
   "metadata": {},
   "outputs": [],
   "source": []
  }
 ],
 "metadata": {
  "kernelspec": {
   "display_name": "Python 3",
   "language": "python",
   "name": "python3"
  },
  "language_info": {
   "codemirror_mode": {
    "name": "ipython",
    "version": 3
   },
   "file_extension": ".py",
   "mimetype": "text/x-python",
   "name": "python",
   "nbconvert_exporter": "python",
   "pygments_lexer": "ipython3",
   "version": "3.8.8"
  }
 },
 "nbformat": 4,
 "nbformat_minor": 5
}
