{
 "cells": [
  {
   "cell_type": "code",
   "execution_count": 1,
   "id": "c7483edf-e61a-4e4e-beba-e928be8062f6",
   "metadata": {},
   "outputs": [],
   "source": [
    "import numpy as np"
   ]
  },
  {
   "cell_type": "code",
   "execution_count": 3,
   "id": "a8206d4e-6f94-4294-9e0a-5d303552d194",
   "metadata": {},
   "outputs": [],
   "source": [
    "import matplotlib.pyplot as plt"
   ]
  },
  {
   "cell_type": "code",
   "execution_count": 4,
   "id": "570b916d-09a9-4dea-8181-c76d737eeeb8",
   "metadata": {},
   "outputs": [],
   "source": [
    "x=np.array([1,2,3,4,5])\n",
    "y=np.array([7,14,15,18,21])"
   ]
  },
  {
   "cell_type": "code",
   "execution_count": 5,
   "id": "a9c627f8-af05-4972-adeb-3627274348cf",
   "metadata": {},
   "outputs": [
    {
     "data": {
      "text/plain": [
       "array([1, 2, 3, 4, 5])"
      ]
     },
     "execution_count": 5,
     "metadata": {},
     "output_type": "execute_result"
    }
   ],
   "source": [
    "x"
   ]
  },
  {
   "cell_type": "code",
   "execution_count": 7,
   "id": "c8b500dd-40dd-4578-9217-88374a8ae3d3",
   "metadata": {},
   "outputs": [],
   "source": [
    "n=np.size(x)"
   ]
  },
  {
   "cell_type": "code",
   "execution_count": 8,
   "id": "99debd4f-3d28-410a-bf1d-17f371509642",
   "metadata": {},
   "outputs": [
    {
     "data": {
      "text/plain": [
       "5"
      ]
     },
     "execution_count": 8,
     "metadata": {},
     "output_type": "execute_result"
    }
   ],
   "source": [
    "n"
   ]
  },
  {
   "cell_type": "code",
   "execution_count": 9,
   "id": "3e750725-5006-4cf9-baa6-c709218a7b30",
   "metadata": {},
   "outputs": [
    {
     "name": "stdout",
     "output_type": "stream",
     "text": [
      "[1 2 3 4 5]\n"
     ]
    }
   ],
   "source": [
    "print(x)"
   ]
  },
  {
   "cell_type": "code",
   "execution_count": 10,
   "id": "a986a706-2808-41ba-a9bc-a0600b4f3c9c",
   "metadata": {},
   "outputs": [
    {
     "name": "stdout",
     "output_type": "stream",
     "text": [
      "[ 7 14 15 18 21]\n"
     ]
    }
   ],
   "source": [
    "print(y)"
   ]
  },
  {
   "cell_type": "code",
   "execution_count": 40,
   "id": "648e3815-b525-4b92-a2e7-ef8103e01218",
   "metadata": {},
   "outputs": [],
   "source": [
    "x_mean=np.mean(x)"
   ]
  },
  {
   "cell_type": "code",
   "execution_count": 41,
   "id": "a917a5b3-d54b-4cba-a16e-6095e6d3d93f",
   "metadata": {},
   "outputs": [
    {
     "data": {
      "text/plain": [
       "3.0"
      ]
     },
     "execution_count": 41,
     "metadata": {},
     "output_type": "execute_result"
    }
   ],
   "source": [
    "x_mean"
   ]
  },
  {
   "cell_type": "code",
   "execution_count": 38,
   "id": "84f270cb-05b1-4176-b7c2-e4719bc04e2c",
   "metadata": {},
   "outputs": [],
   "source": [
    "y_mean=np.mean(y)"
   ]
  },
  {
   "cell_type": "code",
   "execution_count": 39,
   "id": "b267100c-ab82-4af9-8ecb-2a2e7df5383b",
   "metadata": {},
   "outputs": [
    {
     "data": {
      "text/plain": [
       "15.0"
      ]
     },
     "execution_count": 39,
     "metadata": {},
     "output_type": "execute_result"
    }
   ],
   "source": [
    "y_mean"
   ]
  },
  {
   "cell_type": "code",
   "execution_count": 42,
   "id": "500ad445-c9a3-40b8-a282-2107795921d7",
   "metadata": {},
   "outputs": [],
   "source": [
    "xdash=np.mean(x)"
   ]
  },
  {
   "cell_type": "code",
   "execution_count": 43,
   "id": "04c636ed-4e55-4bee-9f69-dce51aec6911",
   "metadata": {},
   "outputs": [],
   "source": [
    "ydash=np.mean(y)\n"
   ]
  },
  {
   "cell_type": "code",
   "execution_count": 44,
   "id": "7e318a19-d7cb-49c2-b5a7-98160b8cc32f",
   "metadata": {},
   "outputs": [
    {
     "data": {
      "text/plain": [
       "3.0"
      ]
     },
     "execution_count": 44,
     "metadata": {},
     "output_type": "execute_result"
    }
   ],
   "source": [
    "xdash"
   ]
  },
  {
   "cell_type": "code",
   "execution_count": 45,
   "id": "b27a8294-89df-4072-b316-e701b1170774",
   "metadata": {},
   "outputs": [
    {
     "data": {
      "text/plain": [
       "15.0"
      ]
     },
     "execution_count": 45,
     "metadata": {},
     "output_type": "execute_result"
    }
   ],
   "source": [
    "ydash"
   ]
  },
  {
   "cell_type": "code",
   "execution_count": 46,
   "id": "00771010-4b48-4ef5-98d4-cb05adf1a11e",
   "metadata": {},
   "outputs": [],
   "source": [
    "x_dash=x-xdash"
   ]
  },
  {
   "cell_type": "code",
   "execution_count": 47,
   "id": "5592ae7f-9ac5-4d9c-80fc-74af1800bfd3",
   "metadata": {},
   "outputs": [
    {
     "data": {
      "text/plain": [
       "array([-2., -1.,  0.,  1.,  2.])"
      ]
     },
     "execution_count": 47,
     "metadata": {},
     "output_type": "execute_result"
    }
   ],
   "source": [
    "x_dash"
   ]
  },
  {
   "cell_type": "code",
   "execution_count": 48,
   "id": "c7809cb3-613d-4cfa-b7bf-283b2692e910",
   "metadata": {},
   "outputs": [
    {
     "name": "stdout",
     "output_type": "stream",
     "text": [
      "[-2. -1.  0.  1.  2.]\n"
     ]
    }
   ],
   "source": [
    "print(x_dash)"
   ]
  },
  {
   "cell_type": "code",
   "execution_count": 49,
   "id": "5c812836-d18e-42ac-a0cd-274c1a546635",
   "metadata": {},
   "outputs": [],
   "source": [
    "y_dash=y-ydash"
   ]
  },
  {
   "cell_type": "code",
   "execution_count": 50,
   "id": "9c1f61c5-19c2-4b45-bcb6-892ce1393975",
   "metadata": {},
   "outputs": [
    {
     "name": "stdout",
     "output_type": "stream",
     "text": [
      "[-8. -1.  0.  3.  6.]\n"
     ]
    }
   ],
   "source": [
    "print(y_dash)"
   ]
  },
  {
   "cell_type": "code",
   "execution_count": null,
   "id": "b17ae2a8-69d6-460c-9fdd-70ba92ae19d2",
   "metadata": {},
   "outputs": [],
   "source": []
  }
 ],
 "metadata": {
  "kernelspec": {
   "display_name": "Python 3",
   "language": "python",
   "name": "python3"
  },
  "language_info": {
   "codemirror_mode": {
    "name": "ipython",
    "version": 3
   },
   "file_extension": ".py",
   "mimetype": "text/x-python",
   "name": "python",
   "nbconvert_exporter": "python",
   "pygments_lexer": "ipython3",
   "version": "3.8.8"
  }
 },
 "nbformat": 4,
 "nbformat_minor": 5
}
