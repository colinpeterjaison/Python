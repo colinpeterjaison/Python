{
 "cells": [
  {
   "cell_type": "code",
   "execution_count": 1,
   "id": "1c8a630f-93fd-410e-87fd-dce5dddf54b6",
   "metadata": {},
   "outputs": [
    {
     "data": {
      "text/plain": [
       "300"
      ]
     },
     "execution_count": 1,
     "metadata": {},
     "output_type": "execute_result"
    }
   ],
   "source": [
    "xx=100\n",
    "xy=200\n",
    "xx+xy"
   ]
  },
  {
   "cell_type": "code",
   "execution_count": 2,
   "id": "543b0eea-a1d6-4485-94b3-96871837fcfd",
   "metadata": {},
   "outputs": [
    {
     "data": {
      "text/plain": [
       "300"
      ]
     },
     "execution_count": 2,
     "metadata": {},
     "output_type": "execute_result"
    }
   ],
   "source": [
    "colin=100\n",
    "peter=200\n",
    "colin+peter"
   ]
  },
  {
   "cell_type": "code",
   "execution_count": 3,
   "id": "c54db53d-ff8e-4781-9fd8-c8456ce49e44",
   "metadata": {},
   "outputs": [
    {
     "ename": "TypeError",
     "evalue": "'int' object is not callable",
     "output_type": "error",
     "traceback": [
      "\u001b[1;31m---------------------------------------------------------------------------\u001b[0m",
      "\u001b[1;31mTypeError\u001b[0m                                 Traceback (most recent call last)",
      "\u001b[1;32m<ipython-input-3-0a7a4e00b480>\u001b[0m in \u001b[0;36m<module>\u001b[1;34m\u001b[0m\n\u001b[0;32m      1\u001b[0m \u001b[0mprint\u001b[0m\u001b[1;33m=\u001b[0m\u001b[1;36m100\u001b[0m\u001b[1;33m\u001b[0m\u001b[1;33m\u001b[0m\u001b[0m\n\u001b[1;32m----> 2\u001b[1;33m \u001b[0mprint\u001b[0m\u001b[1;33m(\u001b[0m\u001b[0mprint\u001b[0m\u001b[1;33m)\u001b[0m\u001b[1;33m\u001b[0m\u001b[1;33m\u001b[0m\u001b[0m\n\u001b[0m",
      "\u001b[1;31mTypeError\u001b[0m: 'int' object is not callable"
     ]
    }
   ],
   "source": [
    "print=100\n",
    "print(print)"
   ]
  },
  {
   "cell_type": "code",
   "execution_count": null,
   "id": "7439f728-e366-4317-acd0-0cfdac732c11",
   "metadata": {},
   "outputs": [],
   "source": [
    "Abc=10\n"
   ]
  },
  {
   "cell_type": "code",
   "execution_count": null,
   "id": "fb48ffcc-612b-4b21-b1a2-e291f423589e",
   "metadata": {},
   "outputs": [],
   "source": [
    "1abc=10"
   ]
  },
  {
   "cell_type": "code",
   "execution_count": null,
   "id": "78da5114-9435-4729-aa37-4d7b03ca68b7",
   "metadata": {},
   "outputs": [],
   "source": [
    "a b=10"
   ]
  },
  {
   "cell_type": "code",
   "execution_count": null,
   "id": "fa8bf74f-92a5-4ae4-8b16-1d40ad422836",
   "metadata": {},
   "outputs": [],
   "source": [
    "x,y,z=\"Adonis\",\"George\",\"Jaseel\""
   ]
  },
  {
   "cell_type": "code",
   "execution_count": null,
   "id": "69f36901-3775-46de-ae15-b5a4dd24c5ea",
   "metadata": {},
   "outputs": [],
   "source": [
    "print(x)"
   ]
  },
  {
   "cell_type": "code",
   "execution_count": null,
   "id": "7792f087-1d4c-4591-acd9-f4e6d13cc5f4",
   "metadata": {},
   "outputs": [],
   "source": [
    "x=y=z=2"
   ]
  },
  {
   "cell_type": "code",
   "execution_count": null,
   "id": "dfc056c6-30ed-4ff2-a827-8fa214d6cf36",
   "metadata": {},
   "outputs": [],
   "source": [
    "import math "
   ]
  },
  {
   "cell_type": "code",
   "execution_count": null,
   "id": "9453b8e4-3a71-4d73-8530-84eb4812441b",
   "metadata": {},
   "outputs": [],
   "source": [
    "math.pi"
   ]
  },
  {
   "cell_type": "code",
   "execution_count": null,
   "id": "e74fef4b-f3e7-44ee-8893-098f3846e51a",
   "metadata": {},
   "outputs": [],
   "source": [
    "math.cos(0)"
   ]
  },
  {
   "cell_type": "code",
   "execution_count": null,
   "id": "e60ee615-d30b-4b27-88e7-0a10f2849323",
   "metadata": {},
   "outputs": [],
   "source": [
    "math.tan(45)"
   ]
  },
  {
   "cell_type": "code",
   "execution_count": null,
   "id": "4faa89f6-22aa-4a38-80e8-c03458569cb8",
   "metadata": {},
   "outputs": [],
   "source": [
    "math.sin(5/2)"
   ]
  },
  {
   "cell_type": "code",
   "execution_count": null,
   "id": "4cde1b4f-b91c-40e5-8439-763383f53a6a",
   "metadata": {},
   "outputs": [],
   "source": [
    "math.sin(math.pi/2)"
   ]
  },
  {
   "cell_type": "code",
   "execution_count": null,
   "id": "0a602ed0-88de-423c-9926-d77b19d14a51",
   "metadata": {},
   "outputs": [],
   "source": [
    "import math as sp"
   ]
  },
  {
   "cell_type": "code",
   "execution_count": null,
   "id": "7cf804a7-6bb5-45f0-b9b9-8af43dc64f2f",
   "metadata": {},
   "outputs": [],
   "source": [
    "sp.sin(sp.pi/2)"
   ]
  },
  {
   "cell_type": "code",
   "execution_count": 1,
   "id": "de796baf-7126-4091-9a9d-21286fb65936",
   "metadata": {},
   "outputs": [],
   "source": [
    "def calculator(): \n",
    "    x=int(input(\"Enter Number:\"))\n",
    "    z=int(input(\"Enter cos/tan/sin=\"))\n",
    "    import math\n",
    "    if z == 1 :\n",
    "        print(math.cos(x))\n",
    "    if z == 2 :\n",
    "        print(math.sin(x))\n",
    "    if z == 3 :\n",
    "        print(math.tan(x))\n",
    "        "
   ]
  },
  {
   "cell_type": "code",
   "execution_count": 12,
   "id": "f0f300e8-711e-4c8f-b5c5-3bfb3d6719f3",
   "metadata": {},
   "outputs": [
    {
     "name": "stdin",
     "output_type": "stream",
     "text": [
      "Enter a number: 25\n"
     ]
    }
   ],
   "source": [
    "x=int(input(\"Enter a number:\"))"
   ]
  },
  {
   "cell_type": "code",
   "execution_count": null,
   "id": "64a490b2-269e-4134-9f94-c04f591faf2e",
   "metadata": {},
   "outputs": [],
   "source": []
  }
 ],
 "metadata": {
  "kernelspec": {
   "display_name": "Python 3",
   "language": "python",
   "name": "python3"
  },
  "language_info": {
   "codemirror_mode": {
    "name": "ipython",
    "version": 3
   },
   "file_extension": ".py",
   "mimetype": "text/x-python",
   "name": "python",
   "nbconvert_exporter": "python",
   "pygments_lexer": "ipython3",
   "version": "3.8.8"
  }
 },
 "nbformat": 4,
 "nbformat_minor": 5
}
