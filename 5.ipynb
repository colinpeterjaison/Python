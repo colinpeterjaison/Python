{
 "cells": [
  {
   "cell_type": "code",
   "execution_count": 1,
   "id": "ecc434c6-10b4-4fc1-9e31-9a736ffbd5c5",
   "metadata": {},
   "outputs": [
    {
     "name": "stdin",
     "output_type": "stream",
     "text": [
      "Enter a number 5\n"
     ]
    }
   ],
   "source": [
    "x=int(input(\"Enter a number\"))"
   ]
  },
  {
   "cell_type": "code",
   "execution_count": 2,
   "id": "a572b5dc-35a5-4e18-9cfa-7b0aab220643",
   "metadata": {},
   "outputs": [
    {
     "name": "stdout",
     "output_type": "stream",
     "text": [
      "Sq of x= 25\n"
     ]
    }
   ],
   "source": [
    "print(\"Sq of x=\",x*x)"
   ]
  },
  {
   "cell_type": "code",
   "execution_count": 3,
   "id": "4038a850-7b3a-4698-98af-b27f9caabaec",
   "metadata": {},
   "outputs": [],
   "source": [
    "def hello():\n",
    "    x=int(input(\"Enter sum no:\"))\n",
    "    print(\"Sq of x=\",x*x)"
   ]
  },
  {
   "cell_type": "code",
   "execution_count": 4,
   "id": "ea8a1d6c-7020-467a-959d-3372dc894b76",
   "metadata": {},
   "outputs": [
    {
     "name": "stdin",
     "output_type": "stream",
     "text": [
      "Enter sum no: 5\n"
     ]
    },
    {
     "name": "stdout",
     "output_type": "stream",
     "text": [
      "Sq of x= 25\n"
     ]
    }
   ],
   "source": [
    "hello()"
   ]
  },
  {
   "cell_type": "code",
   "execution_count": 8,
   "id": "7fb72c00-36ef-4baf-80ee-67b37e3e8dda",
   "metadata": {},
   "outputs": [],
   "source": [
    "def hello(x):\n",
    "    print(\"Sq of x=\",x*x)"
   ]
  },
  {
   "cell_type": "code",
   "execution_count": 9,
   "id": "510843de-1dcc-4d0a-887c-bb863447dfa6",
   "metadata": {},
   "outputs": [
    {
     "name": "stdin",
     "output_type": "stream",
     "text": [
      "Enter sum no: 5\n"
     ]
    },
    {
     "name": "stdout",
     "output_type": "stream",
     "text": [
      "Sq of x= 25\n"
     ]
    }
   ],
   "source": [
    "x=int(input(\"Enter sum no:\"))\n",
    "hello(x)\n"
   ]
  },
  {
   "cell_type": "code",
   "execution_count": null,
   "id": "98c52299-417c-412f-b89e-eb4df8f7511a",
   "metadata": {},
   "outputs": [],
   "source": []
  }
 ],
 "metadata": {
  "kernelspec": {
   "display_name": "Python 3",
   "language": "python",
   "name": "python3"
  },
  "language_info": {
   "codemirror_mode": {
    "name": "ipython",
    "version": 3
   },
   "file_extension": ".py",
   "mimetype": "text/x-python",
   "name": "python",
   "nbconvert_exporter": "python",
   "pygments_lexer": "ipython3",
   "version": "3.8.8"
  }
 },
 "nbformat": 4,
 "nbformat_minor": 5
}
