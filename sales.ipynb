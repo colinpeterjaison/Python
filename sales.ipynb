{
 "cells": [
  {
   "cell_type": "code",
   "execution_count": 1,
   "id": "7fb7ae96-bb15-4cc9-be6f-6f8657ce8e30",
   "metadata": {},
   "outputs": [],
   "source": [
    "import pandas as c  "
   ]
  },
  {
   "cell_type": "code",
   "execution_count": 2,
   "id": "47f6d0c7-da25-4438-aebb-cd22d31c7dfa",
   "metadata": {},
   "outputs": [],
   "source": [
    "data=c.read_csv(\"Supermarketsales.csv\")"
   ]
  },
  {
   "cell_type": "code",
   "execution_count": 3,
   "id": "4d03b02b-1f9e-4cc2-aaa8-1cd4e0483a61",
   "metadata": {},
   "outputs": [
    {
     "data": {
      "text/html": [
       "<div>\n",
       "<style scoped>\n",
       "    .dataframe tbody tr th:only-of-type {\n",
       "        vertical-align: middle;\n",
       "    }\n",
       "\n",
       "    .dataframe tbody tr th {\n",
       "        vertical-align: top;\n",
       "    }\n",
       "\n",
       "    .dataframe thead th {\n",
       "        text-align: right;\n",
       "    }\n",
       "</style>\n",
       "<table border=\"1\" class=\"dataframe\">\n",
       "  <thead>\n",
       "    <tr style=\"text-align: right;\">\n",
       "      <th></th>\n",
       "      <th>No</th>\n",
       "      <th>InvoiceID</th>\n",
       "      <th>Branch</th>\n",
       "      <th>City</th>\n",
       "      <th>Customertype</th>\n",
       "      <th>Gender</th>\n",
       "      <th>Productline</th>\n",
       "      <th>Unitprice</th>\n",
       "      <th>Quantity</th>\n",
       "      <th>Tax</th>\n",
       "      <th>Total</th>\n",
       "      <th>Date</th>\n",
       "      <th>Time</th>\n",
       "      <th>Payment</th>\n",
       "      <th>cogs</th>\n",
       "      <th>gross_margin_percentage</th>\n",
       "      <th>gross_iincome</th>\n",
       "      <th>Rating</th>\n",
       "    </tr>\n",
       "  </thead>\n",
       "  <tbody>\n",
       "    <tr>\n",
       "      <th>0</th>\n",
       "      <td>1</td>\n",
       "      <td>750-67-8428</td>\n",
       "      <td>A</td>\n",
       "      <td>Yangon</td>\n",
       "      <td>Member</td>\n",
       "      <td>Female</td>\n",
       "      <td>Health and beauty</td>\n",
       "      <td>74.69</td>\n",
       "      <td>7</td>\n",
       "      <td>26.1415</td>\n",
       "      <td>548.9715</td>\n",
       "      <td>1/5/2019</td>\n",
       "      <td>13:08</td>\n",
       "      <td>Ewallet</td>\n",
       "      <td>522.83</td>\n",
       "      <td>4.761905</td>\n",
       "      <td>26.1415</td>\n",
       "      <td>9.1</td>\n",
       "    </tr>\n",
       "    <tr>\n",
       "      <th>1</th>\n",
       "      <td>2</td>\n",
       "      <td>226-31-3081</td>\n",
       "      <td>C</td>\n",
       "      <td>Naypyitaw</td>\n",
       "      <td>Normal</td>\n",
       "      <td>Female</td>\n",
       "      <td>Electronic accessories</td>\n",
       "      <td>15.28</td>\n",
       "      <td>5</td>\n",
       "      <td>3.8200</td>\n",
       "      <td>80.2200</td>\n",
       "      <td>3/8/2019</td>\n",
       "      <td>10:29</td>\n",
       "      <td>Cash</td>\n",
       "      <td>76.40</td>\n",
       "      <td>4.761905</td>\n",
       "      <td>3.8200</td>\n",
       "      <td>9.6</td>\n",
       "    </tr>\n",
       "    <tr>\n",
       "      <th>2</th>\n",
       "      <td>3</td>\n",
       "      <td>631-41-3108</td>\n",
       "      <td>A</td>\n",
       "      <td>Yangon</td>\n",
       "      <td>Normal</td>\n",
       "      <td>Male</td>\n",
       "      <td>Home and lifestyle</td>\n",
       "      <td>46.33</td>\n",
       "      <td>7</td>\n",
       "      <td>16.2155</td>\n",
       "      <td>340.5255</td>\n",
       "      <td>3/3/2019</td>\n",
       "      <td>13:23</td>\n",
       "      <td>Credit card</td>\n",
       "      <td>324.31</td>\n",
       "      <td>4.761905</td>\n",
       "      <td>16.2155</td>\n",
       "      <td>7.4</td>\n",
       "    </tr>\n",
       "    <tr>\n",
       "      <th>3</th>\n",
       "      <td>4</td>\n",
       "      <td>123-19-1176</td>\n",
       "      <td>A</td>\n",
       "      <td>Yangon</td>\n",
       "      <td>Member</td>\n",
       "      <td>Male</td>\n",
       "      <td>Health and beauty</td>\n",
       "      <td>58.22</td>\n",
       "      <td>8</td>\n",
       "      <td>23.2880</td>\n",
       "      <td>489.0480</td>\n",
       "      <td>1/27/2019</td>\n",
       "      <td>20:33</td>\n",
       "      <td>Ewallet</td>\n",
       "      <td>465.76</td>\n",
       "      <td>4.761905</td>\n",
       "      <td>23.2880</td>\n",
       "      <td>8.4</td>\n",
       "    </tr>\n",
       "    <tr>\n",
       "      <th>4</th>\n",
       "      <td>5</td>\n",
       "      <td>373-73-7910</td>\n",
       "      <td>A</td>\n",
       "      <td>Yangon</td>\n",
       "      <td>Normal</td>\n",
       "      <td>Male</td>\n",
       "      <td>Sports and travel</td>\n",
       "      <td>86.31</td>\n",
       "      <td>7</td>\n",
       "      <td>30.2085</td>\n",
       "      <td>634.3785</td>\n",
       "      <td>2/8/2019</td>\n",
       "      <td>10:37</td>\n",
       "      <td>Ewallet</td>\n",
       "      <td>604.17</td>\n",
       "      <td>4.761905</td>\n",
       "      <td>30.2085</td>\n",
       "      <td>5.3</td>\n",
       "    </tr>\n",
       "    <tr>\n",
       "      <th>...</th>\n",
       "      <td>...</td>\n",
       "      <td>...</td>\n",
       "      <td>...</td>\n",
       "      <td>...</td>\n",
       "      <td>...</td>\n",
       "      <td>...</td>\n",
       "      <td>...</td>\n",
       "      <td>...</td>\n",
       "      <td>...</td>\n",
       "      <td>...</td>\n",
       "      <td>...</td>\n",
       "      <td>...</td>\n",
       "      <td>...</td>\n",
       "      <td>...</td>\n",
       "      <td>...</td>\n",
       "      <td>...</td>\n",
       "      <td>...</td>\n",
       "      <td>...</td>\n",
       "    </tr>\n",
       "    <tr>\n",
       "      <th>995</th>\n",
       "      <td>996</td>\n",
       "      <td>233-67-5758</td>\n",
       "      <td>C</td>\n",
       "      <td>Naypyitaw</td>\n",
       "      <td>Normal</td>\n",
       "      <td>Male</td>\n",
       "      <td>Health and beauty</td>\n",
       "      <td>40.35</td>\n",
       "      <td>1</td>\n",
       "      <td>2.0175</td>\n",
       "      <td>42.3675</td>\n",
       "      <td>1/29/2019</td>\n",
       "      <td>13:46</td>\n",
       "      <td>Ewallet</td>\n",
       "      <td>40.35</td>\n",
       "      <td>4.761905</td>\n",
       "      <td>2.0175</td>\n",
       "      <td>6.2</td>\n",
       "    </tr>\n",
       "    <tr>\n",
       "      <th>996</th>\n",
       "      <td>997</td>\n",
       "      <td>303-96-2227</td>\n",
       "      <td>B</td>\n",
       "      <td>Mandalay</td>\n",
       "      <td>Normal</td>\n",
       "      <td>Female</td>\n",
       "      <td>Home and lifestyle</td>\n",
       "      <td>97.38</td>\n",
       "      <td>10</td>\n",
       "      <td>48.6900</td>\n",
       "      <td>1022.4900</td>\n",
       "      <td>3/2/2019</td>\n",
       "      <td>17:16</td>\n",
       "      <td>Ewallet</td>\n",
       "      <td>973.80</td>\n",
       "      <td>4.761905</td>\n",
       "      <td>48.6900</td>\n",
       "      <td>4.4</td>\n",
       "    </tr>\n",
       "    <tr>\n",
       "      <th>997</th>\n",
       "      <td>998</td>\n",
       "      <td>727-02-1313</td>\n",
       "      <td>A</td>\n",
       "      <td>Yangon</td>\n",
       "      <td>Member</td>\n",
       "      <td>Male</td>\n",
       "      <td>Food and beverages</td>\n",
       "      <td>31.84</td>\n",
       "      <td>1</td>\n",
       "      <td>1.5920</td>\n",
       "      <td>33.4320</td>\n",
       "      <td>2/9/2019</td>\n",
       "      <td>13:22</td>\n",
       "      <td>Cash</td>\n",
       "      <td>31.84</td>\n",
       "      <td>4.761905</td>\n",
       "      <td>1.5920</td>\n",
       "      <td>7.7</td>\n",
       "    </tr>\n",
       "    <tr>\n",
       "      <th>998</th>\n",
       "      <td>999</td>\n",
       "      <td>347-56-2442</td>\n",
       "      <td>A</td>\n",
       "      <td>Yangon</td>\n",
       "      <td>Normal</td>\n",
       "      <td>Male</td>\n",
       "      <td>Home and lifestyle</td>\n",
       "      <td>65.82</td>\n",
       "      <td>1</td>\n",
       "      <td>3.2910</td>\n",
       "      <td>69.1110</td>\n",
       "      <td>2/22/2019</td>\n",
       "      <td>15:33</td>\n",
       "      <td>Cash</td>\n",
       "      <td>65.82</td>\n",
       "      <td>4.761905</td>\n",
       "      <td>3.2910</td>\n",
       "      <td>4.1</td>\n",
       "    </tr>\n",
       "    <tr>\n",
       "      <th>999</th>\n",
       "      <td>1000</td>\n",
       "      <td>849-09-3807</td>\n",
       "      <td>A</td>\n",
       "      <td>Yangon</td>\n",
       "      <td>Member</td>\n",
       "      <td>Female</td>\n",
       "      <td>Fashion accessories</td>\n",
       "      <td>88.34</td>\n",
       "      <td>7</td>\n",
       "      <td>30.9190</td>\n",
       "      <td>649.2990</td>\n",
       "      <td>2/18/2019</td>\n",
       "      <td>13:28</td>\n",
       "      <td>Cash</td>\n",
       "      <td>618.38</td>\n",
       "      <td>4.761905</td>\n",
       "      <td>30.9190</td>\n",
       "      <td>6.6</td>\n",
       "    </tr>\n",
       "  </tbody>\n",
       "</table>\n",
       "<p>1000 rows × 18 columns</p>\n",
       "</div>"
      ],
      "text/plain": [
       "       No    InvoiceID Branch       City Customertype  Gender  \\\n",
       "0       1  750-67-8428      A     Yangon       Member  Female   \n",
       "1       2  226-31-3081      C  Naypyitaw       Normal  Female   \n",
       "2       3  631-41-3108      A     Yangon       Normal    Male   \n",
       "3       4  123-19-1176      A     Yangon       Member    Male   \n",
       "4       5  373-73-7910      A     Yangon       Normal    Male   \n",
       "..    ...          ...    ...        ...          ...     ...   \n",
       "995   996  233-67-5758      C  Naypyitaw       Normal    Male   \n",
       "996   997  303-96-2227      B   Mandalay       Normal  Female   \n",
       "997   998  727-02-1313      A     Yangon       Member    Male   \n",
       "998   999  347-56-2442      A     Yangon       Normal    Male   \n",
       "999  1000  849-09-3807      A     Yangon       Member  Female   \n",
       "\n",
       "                Productline  Unitprice  Quantity      Tax      Total  \\\n",
       "0         Health and beauty      74.69         7  26.1415   548.9715   \n",
       "1    Electronic accessories      15.28         5   3.8200    80.2200   \n",
       "2        Home and lifestyle      46.33         7  16.2155   340.5255   \n",
       "3         Health and beauty      58.22         8  23.2880   489.0480   \n",
       "4         Sports and travel      86.31         7  30.2085   634.3785   \n",
       "..                      ...        ...       ...      ...        ...   \n",
       "995       Health and beauty      40.35         1   2.0175    42.3675   \n",
       "996      Home and lifestyle      97.38        10  48.6900  1022.4900   \n",
       "997      Food and beverages      31.84         1   1.5920    33.4320   \n",
       "998      Home and lifestyle      65.82         1   3.2910    69.1110   \n",
       "999     Fashion accessories      88.34         7  30.9190   649.2990   \n",
       "\n",
       "          Date   Time      Payment    cogs  gross_margin_percentage  \\\n",
       "0     1/5/2019  13:08      Ewallet  522.83                 4.761905   \n",
       "1     3/8/2019  10:29         Cash   76.40                 4.761905   \n",
       "2     3/3/2019  13:23  Credit card  324.31                 4.761905   \n",
       "3    1/27/2019  20:33      Ewallet  465.76                 4.761905   \n",
       "4     2/8/2019  10:37      Ewallet  604.17                 4.761905   \n",
       "..         ...    ...          ...     ...                      ...   \n",
       "995  1/29/2019  13:46      Ewallet   40.35                 4.761905   \n",
       "996   3/2/2019  17:16      Ewallet  973.80                 4.761905   \n",
       "997   2/9/2019  13:22         Cash   31.84                 4.761905   \n",
       "998  2/22/2019  15:33         Cash   65.82                 4.761905   \n",
       "999  2/18/2019  13:28         Cash  618.38                 4.761905   \n",
       "\n",
       "     gross_iincome  Rating  \n",
       "0          26.1415     9.1  \n",
       "1           3.8200     9.6  \n",
       "2          16.2155     7.4  \n",
       "3          23.2880     8.4  \n",
       "4          30.2085     5.3  \n",
       "..             ...     ...  \n",
       "995         2.0175     6.2  \n",
       "996        48.6900     4.4  \n",
       "997         1.5920     7.7  \n",
       "998         3.2910     4.1  \n",
       "999        30.9190     6.6  \n",
       "\n",
       "[1000 rows x 18 columns]"
      ]
     },
     "execution_count": 3,
     "metadata": {},
     "output_type": "execute_result"
    }
   ],
   "source": [
    "data"
   ]
  },
  {
   "cell_type": "code",
   "execution_count": 4,
   "id": "df2707e3-77f9-4605-8b92-9cb69cef31e3",
   "metadata": {},
   "outputs": [],
   "source": [
    "a=data.loc[1,\"Unitprice\"]"
   ]
  },
  {
   "cell_type": "code",
   "execution_count": 5,
   "id": "5c355330-4fc8-4e07-92bc-bc98479cc4e4",
   "metadata": {},
   "outputs": [
    {
     "data": {
      "text/plain": [
       "15.28"
      ]
     },
     "execution_count": 5,
     "metadata": {},
     "output_type": "execute_result"
    }
   ],
   "source": [
    "a"
   ]
  },
  {
   "cell_type": "code",
   "execution_count": 6,
   "id": "bfbade12-0f59-466c-ad6b-21e08807ae65",
   "metadata": {},
   "outputs": [
    {
     "data": {
      "text/plain": [
       "99.96"
      ]
     },
     "execution_count": 6,
     "metadata": {},
     "output_type": "execute_result"
    }
   ],
   "source": [
    "new_data=[]\n",
    "for x in data.index:\n",
    "    new_data.append(data.loc[x,\"Unitprice\"])\n",
    "max(new_data)"
   ]
  },
  {
   "cell_type": "code",
   "execution_count": 7,
   "id": "9c63e017-4570-437f-880d-226bdab7e0e4",
   "metadata": {},
   "outputs": [
    {
     "data": {
      "text/plain": [
       "10.08"
      ]
     },
     "execution_count": 7,
     "metadata": {},
     "output_type": "execute_result"
    }
   ],
   "source": [
    "new_data=[]\n",
    "for x in data.index:\n",
    "    new_data.append(data.loc[x,\"Unitprice\"])\n",
    "min(new_data)"
   ]
  },
  {
   "cell_type": "code",
   "execution_count": 8,
   "id": "6a6a197f-ff73-4ef7-97d8-a2c5fd4e97c5",
   "metadata": {},
   "outputs": [
    {
     "data": {
      "text/plain": [
       "55.67212999999998"
      ]
     },
     "execution_count": 8,
     "metadata": {},
     "output_type": "execute_result"
    }
   ],
   "source": [
    "new_data=[]\n",
    "for x in data.index:\n",
    "    new_data.append(data.loc[x,\"Unitprice\"])\n",
    "avg=sum(new_data)/len(new_data)\n",
    "avg"
   ]
  },
  {
   "cell_type": "code",
   "execution_count": 9,
   "id": "8c9cad8d-7e92-474a-bbf9-538de6578691",
   "metadata": {},
   "outputs": [
    {
     "data": {
      "text/plain": [
       "10"
      ]
     },
     "execution_count": 9,
     "metadata": {},
     "output_type": "execute_result"
    }
   ],
   "source": [
    "new_data=[]\n",
    "for x in data.index:\n",
    "    new_data.append(data.loc[x,\"Quantity\"])\n",
    "max(new_data)"
   ]
  },
  {
   "cell_type": "code",
   "execution_count": 10,
   "id": "062761d1-4efd-4f44-b5f2-5f37089b863b",
   "metadata": {},
   "outputs": [
    {
     "data": {
      "text/plain": [
       "1"
      ]
     },
     "execution_count": 10,
     "metadata": {},
     "output_type": "execute_result"
    }
   ],
   "source": [
    "new_data=[]\n",
    "for x in data.index:\n",
    "    new_data.append(data.loc[x,\"Quantity\"])\n",
    "min(new_data)"
   ]
  },
  {
   "cell_type": "code",
   "execution_count": 11,
   "id": "eb861fdc-4080-4f64-8a75-24edeb0bd297",
   "metadata": {},
   "outputs": [
    {
     "data": {
      "text/plain": [
       "5.51"
      ]
     },
     "execution_count": 11,
     "metadata": {},
     "output_type": "execute_result"
    }
   ],
   "source": [
    "new_data=[]\n",
    "for x in data.index:\n",
    "    new_data.append(data.loc[x,\"Quantity\"])\n",
    "avg=sum(new_data)/len(new_data)\n",
    "avg"
   ]
  },
  {
   "cell_type": "code",
   "execution_count": 12,
   "id": "091a6205-4471-45aa-9de2-e6b795421a66",
   "metadata": {},
   "outputs": [
    {
     "data": {
      "text/plain": [
       "1"
      ]
     },
     "execution_count": 12,
     "metadata": {},
     "output_type": "execute_result"
    }
   ],
   "source": [
    "new_data=[]\n",
    "for x in data.index:\n",
    "    if (data.loc[x,\"Productline\"])==\"Health and beauty\":\n",
    "         new_data.append(data.loc[x,\"Quantity\"]) \n",
    "min(new_data)"
   ]
  },
  {
   "cell_type": "code",
   "execution_count": 13,
   "id": "e7d5b7e9-9ea6-4824-881c-a554e21ff7e3",
   "metadata": {},
   "outputs": [
    {
     "data": {
      "text/plain": [
       "10"
      ]
     },
     "execution_count": 13,
     "metadata": {},
     "output_type": "execute_result"
    }
   ],
   "source": [
    "new_data=[]\n",
    "for x in data.index:\n",
    "    if (data.loc[x,\"Productline\"])==\"Health and beauty\":\n",
    "         new_data.append(data.loc[x,\"Quantity\"])\n",
    "max(new_data)"
   ]
  },
  {
   "cell_type": "code",
   "execution_count": 14,
   "id": "7fdf2653-3ae0-40cd-a02e-dd3ea6dd4805",
   "metadata": {},
   "outputs": [
    {
     "data": {
      "text/plain": [
       "5.618421052631579"
      ]
     },
     "execution_count": 14,
     "metadata": {},
     "output_type": "execute_result"
    }
   ],
   "source": [
    "new_data=[]\n",
    "for x in data.index:\n",
    "    if (data.loc[x,\"Productline\"])==\"Health and beauty\":\n",
    "         new_data.append(data.loc[x,\"Quantity\"])\n",
    "avg=sum(new_data)/len(new_data)\n",
    "avg"
   ]
  },
  {
   "cell_type": "code",
   "execution_count": 15,
   "id": "afe01073-fd1e-484c-b0b3-ed79abe7f7a8",
   "metadata": {},
   "outputs": [
    {
     "data": {
      "text/plain": [
       "99.96"
      ]
     },
     "execution_count": 15,
     "metadata": {},
     "output_type": "execute_result"
    }
   ],
   "source": [
    "new_data=[]\n",
    "for x in data.index:\n",
    "    if (data.loc[x,\"Productline\"])==\"Health and beauty\":\n",
    "         new_data.append(data.loc[x,\"Unitprice\"])\n",
    "max(new_data)"
   ]
  },
  {
   "cell_type": "code",
   "execution_count": 16,
   "id": "b1871362-0ae2-4d85-afc2-74bba3575b4f",
   "metadata": {},
   "outputs": [
    {
     "data": {
      "text/plain": [
       "10.08"
      ]
     },
     "execution_count": 16,
     "metadata": {},
     "output_type": "execute_result"
    }
   ],
   "source": [
    "new_data=[]\n",
    "for x in data.index:\n",
    "    if (data.loc[x,\"Productline\"])==\"Health and beauty\":\n",
    "         new_data.append(data.loc[x,\"Unitprice\"])\n",
    "min(new_data)"
   ]
  },
  {
   "cell_type": "code",
   "execution_count": 17,
   "id": "10f55e95-6e87-4151-aa43-a252cc231ee3",
   "metadata": {},
   "outputs": [
    {
     "data": {
      "text/plain": [
       "54.85447368421053"
      ]
     },
     "execution_count": 17,
     "metadata": {},
     "output_type": "execute_result"
    }
   ],
   "source": [
    "new_data=[]\n",
    "for x in data.index:\n",
    "    if (data.loc[x,\"Productline\"])==\"Health and beauty\":\n",
    "         new_data.append(data.loc[x,\"Unitprice\"])\n",
    "avg=sum(new_data)/len(new_data)\n",
    "avg"
   ]
  },
  {
   "cell_type": "code",
   "execution_count": 18,
   "id": "22611a3d-1a01-47ea-ac25-092402c7a691",
   "metadata": {},
   "outputs": [
    {
     "data": {
      "text/plain": [
       "5.711764705882353"
      ]
     },
     "execution_count": 18,
     "metadata": {},
     "output_type": "execute_result"
    }
   ],
   "source": [
    "new_data=[]\n",
    "for x in data.index:\n",
    "    if (data.loc[x,\"Productline\"])==\"Electronic accessories\":\n",
    "         new_data.append(data.loc[x,\"Quantity\"])\n",
    "avg=sum(new_data)/len(new_data)\n",
    "avg"
   ]
  },
  {
   "cell_type": "code",
   "execution_count": 19,
   "id": "cee5d6ee-6064-4c25-9980-c45a823425e1",
   "metadata": {},
   "outputs": [
    {
     "data": {
      "text/plain": [
       "1"
      ]
     },
     "execution_count": 19,
     "metadata": {},
     "output_type": "execute_result"
    }
   ],
   "source": [
    "new_data=[]\n",
    "for x in data.index:\n",
    "    if (data.loc[x,\"Productline\"])==\"Electronic accessories\":\n",
    "         new_data.append(data.loc[x,\"Quantity\"])\n",
    "min(new_data)"
   ]
  },
  {
   "cell_type": "code",
   "execution_count": 20,
   "id": "237cccd2-6efa-4466-8d49-ba31370d31ef",
   "metadata": {},
   "outputs": [
    {
     "data": {
      "text/plain": [
       "10"
      ]
     },
     "execution_count": 20,
     "metadata": {},
     "output_type": "execute_result"
    }
   ],
   "source": [
    "new_data=[]\n",
    "for x in data.index:\n",
    "    if (data.loc[x,\"Productline\"])==\"Electronic accessories\":\n",
    "         new_data.append(data.loc[x,\"Quantity\"])\n",
    "max(new_data)"
   ]
  },
  {
   "cell_type": "code",
   "execution_count": 21,
   "id": "6e9b1d06-a4eb-4526-853e-816f92bfa71f",
   "metadata": {},
   "outputs": [
    {
     "name": "stdout",
     "output_type": "stream",
     "text": [
      "['829-34-3910', '877-22-3308', '766-85-7061', '280-17-4359', '338-65-2210', '875-46-5808', '157-13-5295', '585-03-5943', '400-45-1220', '725-56-0833', '244-08-0162', '628-90-8624', '188-55-0967', '648-94-3045', '689-05-1884', '607-65-2441', '450-42-3339']\n"
     ]
    }
   ],
   "source": [
    "new=[]\n",
    "for x in data.index:\n",
    "    if (data.loc[x,\"Productline\"])==\"Health and beauty\":\n",
    "        if (data.loc[x,\"Quantity\"])==10:\n",
    "            new.append(data.loc[x,\"InvoiceID\"])\n",
    "print(new)\n",
    "  \n",
    "      "
   ]
  },
  {
   "cell_type": "code",
   "execution_count": 22,
   "id": "71718c32-6e22-4f23-b7ba-47d366ec3d0a",
   "metadata": {},
   "outputs": [
    {
     "name": "stdout",
     "output_type": "stream",
     "text": [
      "['123-19-1176', '371-85-5789', '848-62-7243', '595-11-5460', '617-15-4209', '370-41-7321', '635-40-6220', '853-23-2453', '877-22-3308', '152-08-9985', '512-91-0811', '766-85-7061', '716-39-1409', '280-17-4359', '568-90-5112', '238-49-0436', '743-04-1105', '505-02-0892', '249-42-3782', '342-65-4817', '824-88-3614', '848-24-9445', '699-01-4164', '875-46-5808', '836-82-5858', '157-13-5295', '211-30-9270', '448-81-5016', '667-92-0055', '498-41-1961', '585-03-5943', '573-10-3877', '787-15-1757', '372-94-8041', '730-61-8757', '132-23-6451', '268-03-6164', '269-10-8440', '568-88-3448', '731-59-7531', '502-05-1910', '291-21-5991', '425-85-2085', '133-14-7229', '287-83-1405', '343-87-0864', '207-73-1363', '127-47-6963', '227-50-3718', '302-15-2162', '470-31-3286', '628-90-8624', '188-55-0967', '610-46-4100', '778-89-7974', '556-41-6224', '648-94-3045', '689-05-1884', '729-06-2010', '186-79-9562', '635-28-5728', '607-65-2441', '314-23-4520', '787-87-2010', '102-77-2261', '629-42-4133', '704-10-4056', '400-80-4065', '359-94-5395', '565-91-4567', '869-11-3082', '636-17-0325', '528-14-9470', '658-66-3967', '234-36-2483', '176-78-1170', '699-88-1972', '725-54-0677', '450-42-3339', '458-10-8612', '449-16-6770', '333-23-2632', '503-21-4385', '809-46-1866', '148-41-7930', '552-44-5977', '430-53-4718', '233-67-5758']\n"
     ]
    }
   ],
   "source": [
    "new=[]\n",
    "for x in data.index:\n",
    "     if (data.loc[x,\"Productline\"])==\"Health and beauty\":\n",
    "        if (data.loc[x,\"Gender\"])==\"Male\":\n",
    "            new.append(data.loc[x,\"InvoiceID\"])\n",
    "print(new)\n",
    "    \n",
    "         "
   ]
  },
  {
   "cell_type": "code",
   "execution_count": 23,
   "id": "1757ff0a-9448-425c-b14b-c4f8ad12a2f6",
   "metadata": {},
   "outputs": [
    {
     "data": {
      "text/html": [
       "<div>\n",
       "<style scoped>\n",
       "    .dataframe tbody tr th:only-of-type {\n",
       "        vertical-align: middle;\n",
       "    }\n",
       "\n",
       "    .dataframe tbody tr th {\n",
       "        vertical-align: top;\n",
       "    }\n",
       "\n",
       "    .dataframe thead th {\n",
       "        text-align: right;\n",
       "    }\n",
       "</style>\n",
       "<table border=\"1\" class=\"dataframe\">\n",
       "  <thead>\n",
       "    <tr style=\"text-align: right;\">\n",
       "      <th></th>\n",
       "      <th>No</th>\n",
       "      <th>InvoiceID</th>\n",
       "      <th>Branch</th>\n",
       "      <th>City</th>\n",
       "      <th>Customertype</th>\n",
       "      <th>Gender</th>\n",
       "      <th>Productline</th>\n",
       "      <th>Unitprice</th>\n",
       "      <th>Quantity</th>\n",
       "      <th>Tax</th>\n",
       "      <th>Total</th>\n",
       "      <th>Date</th>\n",
       "      <th>Time</th>\n",
       "      <th>Payment</th>\n",
       "      <th>cogs</th>\n",
       "      <th>gross_margin_percentage</th>\n",
       "      <th>gross_iincome</th>\n",
       "      <th>Rating</th>\n",
       "    </tr>\n",
       "  </thead>\n",
       "  <tbody>\n",
       "    <tr>\n",
       "      <th>0</th>\n",
       "      <td>1</td>\n",
       "      <td>750-67-8428</td>\n",
       "      <td>A</td>\n",
       "      <td>Yangon</td>\n",
       "      <td>Member</td>\n",
       "      <td>Female</td>\n",
       "      <td>Health and beauty</td>\n",
       "      <td>74.69</td>\n",
       "      <td>7</td>\n",
       "      <td>26.1415</td>\n",
       "      <td>548.9715</td>\n",
       "      <td>1/5/2019</td>\n",
       "      <td>13:08</td>\n",
       "      <td>Ewallet</td>\n",
       "      <td>522.83</td>\n",
       "      <td>4.761905</td>\n",
       "      <td>26.1415</td>\n",
       "      <td>9.1</td>\n",
       "    </tr>\n",
       "    <tr>\n",
       "      <th>1</th>\n",
       "      <td>2</td>\n",
       "      <td>226-31-3081</td>\n",
       "      <td>C</td>\n",
       "      <td>Naypyitaw</td>\n",
       "      <td>Normal</td>\n",
       "      <td>Female</td>\n",
       "      <td>Electronic accessories</td>\n",
       "      <td>15.28</td>\n",
       "      <td>5</td>\n",
       "      <td>3.8200</td>\n",
       "      <td>80.2200</td>\n",
       "      <td>3/8/2019</td>\n",
       "      <td>10:29</td>\n",
       "      <td>Cash</td>\n",
       "      <td>76.40</td>\n",
       "      <td>4.761905</td>\n",
       "      <td>3.8200</td>\n",
       "      <td>9.6</td>\n",
       "    </tr>\n",
       "    <tr>\n",
       "      <th>2</th>\n",
       "      <td>3</td>\n",
       "      <td>631-41-3108</td>\n",
       "      <td>A</td>\n",
       "      <td>Yangon</td>\n",
       "      <td>Normal</td>\n",
       "      <td>Male</td>\n",
       "      <td>Home and lifestyle</td>\n",
       "      <td>46.33</td>\n",
       "      <td>7</td>\n",
       "      <td>16.2155</td>\n",
       "      <td>340.5255</td>\n",
       "      <td>3/3/2019</td>\n",
       "      <td>13:23</td>\n",
       "      <td>Credit card</td>\n",
       "      <td>324.31</td>\n",
       "      <td>4.761905</td>\n",
       "      <td>16.2155</td>\n",
       "      <td>7.4</td>\n",
       "    </tr>\n",
       "    <tr>\n",
       "      <th>3</th>\n",
       "      <td>4</td>\n",
       "      <td>123-19-1176</td>\n",
       "      <td>A</td>\n",
       "      <td>Yangon</td>\n",
       "      <td>Member</td>\n",
       "      <td>Male</td>\n",
       "      <td>Health and beauty</td>\n",
       "      <td>58.22</td>\n",
       "      <td>8</td>\n",
       "      <td>23.2880</td>\n",
       "      <td>489.0480</td>\n",
       "      <td>1/27/2019</td>\n",
       "      <td>20:33</td>\n",
       "      <td>Ewallet</td>\n",
       "      <td>465.76</td>\n",
       "      <td>4.761905</td>\n",
       "      <td>23.2880</td>\n",
       "      <td>8.4</td>\n",
       "    </tr>\n",
       "    <tr>\n",
       "      <th>4</th>\n",
       "      <td>5</td>\n",
       "      <td>373-73-7910</td>\n",
       "      <td>A</td>\n",
       "      <td>Yangon</td>\n",
       "      <td>Normal</td>\n",
       "      <td>Male</td>\n",
       "      <td>Sports and travel</td>\n",
       "      <td>86.31</td>\n",
       "      <td>7</td>\n",
       "      <td>30.2085</td>\n",
       "      <td>634.3785</td>\n",
       "      <td>2/8/2019</td>\n",
       "      <td>10:37</td>\n",
       "      <td>Ewallet</td>\n",
       "      <td>604.17</td>\n",
       "      <td>4.761905</td>\n",
       "      <td>30.2085</td>\n",
       "      <td>5.3</td>\n",
       "    </tr>\n",
       "  </tbody>\n",
       "</table>\n",
       "</div>"
      ],
      "text/plain": [
       "   No    InvoiceID Branch       City Customertype  Gender  \\\n",
       "0   1  750-67-8428      A     Yangon       Member  Female   \n",
       "1   2  226-31-3081      C  Naypyitaw       Normal  Female   \n",
       "2   3  631-41-3108      A     Yangon       Normal    Male   \n",
       "3   4  123-19-1176      A     Yangon       Member    Male   \n",
       "4   5  373-73-7910      A     Yangon       Normal    Male   \n",
       "\n",
       "              Productline  Unitprice  Quantity      Tax     Total       Date  \\\n",
       "0       Health and beauty      74.69         7  26.1415  548.9715   1/5/2019   \n",
       "1  Electronic accessories      15.28         5   3.8200   80.2200   3/8/2019   \n",
       "2      Home and lifestyle      46.33         7  16.2155  340.5255   3/3/2019   \n",
       "3       Health and beauty      58.22         8  23.2880  489.0480  1/27/2019   \n",
       "4       Sports and travel      86.31         7  30.2085  634.3785   2/8/2019   \n",
       "\n",
       "    Time      Payment    cogs  gross_margin_percentage  gross_iincome  Rating  \n",
       "0  13:08      Ewallet  522.83                 4.761905        26.1415     9.1  \n",
       "1  10:29         Cash   76.40                 4.761905         3.8200     9.6  \n",
       "2  13:23  Credit card  324.31                 4.761905        16.2155     7.4  \n",
       "3  20:33      Ewallet  465.76                 4.761905        23.2880     8.4  \n",
       "4  10:37      Ewallet  604.17                 4.761905        30.2085     5.3  "
      ]
     },
     "execution_count": 23,
     "metadata": {},
     "output_type": "execute_result"
    }
   ],
   "source": [
    "data.head()"
   ]
  },
  {
   "cell_type": "code",
   "execution_count": 24,
   "id": "a0697f61-d0e4-4bfb-ac99-c24158f6caeb",
   "metadata": {},
   "outputs": [
    {
     "name": "stdout",
     "output_type": "stream",
     "text": [
      "['382-03-4532', '512-91-0811', '573-10-3877', '622-20-1945', '885-17-6250', '268-03-6164', '186-09-3669', '390-80-5128', '296-11-7041', '568-88-3448', '343-87-0864', '359-94-5395', '559-61-5987', '528-14-9470', '233-67-5758']\n"
     ]
    }
   ],
   "source": [
    "new=[]\n",
    "for x in data.index:\n",
    "    if (data.loc[x,\"Productline\"])==\"Health and beauty\":\n",
    "        if (data.loc[x,\"Quantity\"])==1:\n",
    "            new.append(data.loc[x,\"InvoiceID\"])\n",
    "print(new)"
   ]
  },
  {
   "cell_type": "code",
   "execution_count": 25,
   "id": "4b1150a1-8b3b-4802-bf88-0b5efaeda877",
   "metadata": {},
   "outputs": [
    {
     "data": {
      "text/plain": [
       "96"
      ]
     },
     "execution_count": 25,
     "metadata": {},
     "output_type": "execute_result"
    }
   ],
   "source": [
    "new=[]\n",
    "for x in data.index:\n",
    "     if (data.loc[x,\"Productline\"])==\"Fashion accessories\":\n",
    "        if (data.loc[x,\"Gender\"])==\"Female\":\n",
    "            new.append(data.loc[x,\"Quantity\"])\n",
    "len(new)\n",
    "    "
   ]
  },
  {
   "cell_type": "code",
   "execution_count": 26,
   "id": "46238159-d26b-41ed-b531-4a41193ce4b8",
   "metadata": {},
   "outputs": [
    {
     "data": {
      "text/plain": [
       "88"
      ]
     },
     "execution_count": 26,
     "metadata": {},
     "output_type": "execute_result"
    }
   ],
   "source": [
    "new=[]\n",
    "for x in data.index:\n",
    "     if (data.loc[x,\"Productline\"])==\"Health and beauty\":\n",
    "        if (data.loc[x,\"Gender\"])==\"Male\":\n",
    "            new.append(data.loc[x,\"Quantity\"])\n",
    "len(new)\n",
    "    "
   ]
  },
  {
   "cell_type": "code",
   "execution_count": 27,
   "id": "fd43bfc6-6e99-4e27-974f-1e7d63de3828",
   "metadata": {},
   "outputs": [
    {
     "data": {
      "text/plain": [
       "501"
      ]
     },
     "execution_count": 27,
     "metadata": {},
     "output_type": "execute_result"
    }
   ],
   "source": [
    "new=[]\n",
    "for x in data.index:\n",
    "     if (data.loc[x,\"Productline\"])==\"Fashion accessories\"or\"Sports and travel\":\n",
    "        if (data.loc[x,\"Gender\"])==\"Female\":\n",
    "            new.append(data.loc[x,\"Quantity\"])\n",
    "len(new)\n",
    "    "
   ]
  },
  {
   "cell_type": "code",
   "execution_count": 28,
   "id": "0874aed1-aa57-4e6e-bac4-b8e3602f8fbf",
   "metadata": {},
   "outputs": [
    {
     "data": {
      "text/plain": [
       "5057.160500000002"
      ]
     },
     "execution_count": 28,
     "metadata": {},
     "output_type": "execute_result"
    }
   ],
   "source": [
    "new=[]\n",
    "for x in data.index:\n",
    "    if(data.loc[x,\"City\"])==\"Yangon\":\n",
    "        new.append(data.loc[x,\"Tax\"])\n",
    "sum(new)"
   ]
  },
  {
   "cell_type": "code",
   "execution_count": null,
   "id": "8c0f00af-41ce-4aca-97bc-3ddd8e0c2151",
   "metadata": {},
   "outputs": [],
   "source": []
  }
 ],
 "metadata": {
  "kernelspec": {
   "display_name": "Python 3",
   "language": "python",
   "name": "python3"
  },
  "language_info": {
   "codemirror_mode": {
    "name": "ipython",
    "version": 3
   },
   "file_extension": ".py",
   "mimetype": "text/x-python",
   "name": "python",
   "nbconvert_exporter": "python",
   "pygments_lexer": "ipython3",
   "version": "3.8.8"
  }
 },
 "nbformat": 4,
 "nbformat_minor": 5
}
