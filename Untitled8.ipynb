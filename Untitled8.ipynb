{
 "cells": [
  {
   "cell_type": "code",
   "execution_count": 1,
   "id": "12d78a00-4c59-4706-82c5-38c96060572c",
   "metadata": {},
   "outputs": [],
   "source": [
    "import sqlite3"
   ]
  },
  {
   "cell_type": "code",
   "execution_count": 2,
   "id": "d5efcafa-c6d8-4daf-9513-d55f1207d2d9",
   "metadata": {},
   "outputs": [],
   "source": [
    "x=sqlite3.connect(\"SalesDBNew.db\")"
   ]
  },
  {
   "cell_type": "code",
   "execution_count": 3,
   "id": "bc499eca-ce59-4831-b45e-72974583154f",
   "metadata": {},
   "outputs": [],
   "source": [
    "y=x.cursor()"
   ]
  },
  {
   "cell_type": "code",
   "execution_count": 4,
   "id": "1ca57732-f2e8-4091-a0cf-1e4ebbfb6a5e",
   "metadata": {},
   "outputs": [
    {
     "data": {
      "text/plain": [
       "<sqlite3.Cursor at 0x16c1314f180>"
      ]
     },
     "execution_count": 4,
     "metadata": {},
     "output_type": "execute_result"
    }
   ],
   "source": [
    "y.execute(\"SELECT * FROM Supermarket_sales\")"
   ]
  },
  {
   "cell_type": "code",
   "execution_count": 5,
   "id": "7c56ec65-6741-409f-81c0-a3b813765b99",
   "metadata": {},
   "outputs": [],
   "source": [
    "new_list=[]\n"
   ]
  },
  {
   "cell_type": "code",
   "execution_count": 7,
   "id": "fe9d4984-e08c-4816-837d-fefbf2af216e",
   "metadata": {},
   "outputs": [],
   "source": [
    "for k in y.fetchall():\n",
    "  new_list.append(int(k[16]))\n",
    "  "
   ]
  },
  {
   "cell_type": "code",
   "execution_count": 8,
   "id": "2c262c43-205a-4455-91da-4902c3519c92",
   "metadata": {},
   "outputs": [
    {
     "data": {
      "text/plain": [
       "[71,\n",
       " 5,\n",
       " 93,\n",
       " 11,\n",
       " 34,\n",
       " 88,\n",
       " 12,\n",
       " 96,\n",
       " 70,\n",
       " 0,\n",
       " 36,\n",
       " 81,\n",
       " 21,\n",
       " 45,\n",
       " 3,\n",
       " 1,\n",
       " 66,\n",
       " 53,\n",
       " 25,\n",
       " 42,\n",
       " 67,\n",
       " 4,\n",
       " 44,\n",
       " 90,\n",
       " 20,\n",
       " 4,\n",
       " 52,\n",
       " 16,\n",
       " 12,\n",
       " 1,\n",
       " 83,\n",
       " 77,\n",
       " 60,\n",
       " 84,\n",
       " 79,\n",
       " 88,\n",
       " 64,\n",
       " 56,\n",
       " 28,\n",
       " 94,\n",
       " 25,\n",
       " 71,\n",
       " 55,\n",
       " 63,\n",
       " 83,\n",
       " 56,\n",
       " 23,\n",
       " 60,\n",
       " 34,\n",
       " 63,\n",
       " 72,\n",
       " 80,\n",
       " 29,\n",
       " 36,\n",
       " 93,\n",
       " 16,\n",
       " 96,\n",
       " 86,\n",
       " 27,\n",
       " 64,\n",
       " 66,\n",
       " 85,\n",
       " 32,\n",
       " 22,\n",
       " 7,\n",
       " 19,\n",
       " 83,\n",
       " 12,\n",
       " 71,\n",
       " 58,\n",
       " 0,\n",
       " 1,\n",
       " 10,\n",
       " 32,\n",
       " 48,\n",
       " 40,\n",
       " 48,\n",
       " 58,\n",
       " 4,\n",
       " 27,\n",
       " 81,\n",
       " 2,\n",
       " 23,\n",
       " 98,\n",
       " 82,\n",
       " 20,\n",
       " 47,\n",
       " 36,\n",
       " 19,\n",
       " 51,\n",
       " 22,\n",
       " 16,\n",
       " 58,\n",
       " 38,\n",
       " 18,\n",
       " 50,\n",
       " 39,\n",
       " 95,\n",
       " 100,\n",
       " 26,\n",
       " 4,\n",
       " 97,\n",
       " 38,\n",
       " 26,\n",
       " 87,\n",
       " 33,\n",
       " 83,\n",
       " 2,\n",
       " 48,\n",
       " 25,\n",
       " 74,\n",
       " 28,\n",
       " 79,\n",
       " 21,\n",
       " 6,\n",
       " 79,\n",
       " 60,\n",
       " 35,\n",
       " 63,\n",
       " 92,\n",
       " 88,\n",
       " 17,\n",
       " 19,\n",
       " 31,\n",
       " 4,\n",
       " 68,\n",
       " 59,\n",
       " 98,\n",
       " 32,\n",
       " 15,\n",
       " 57,\n",
       " 86,\n",
       " 75,\n",
       " 3,\n",
       " 68,\n",
       " 85,\n",
       " 93,\n",
       " 69,\n",
       " 2,\n",
       " 12,\n",
       " 97,\n",
       " 64,\n",
       " 34,\n",
       " 36,\n",
       " 19,\n",
       " 52,\n",
       " 86,\n",
       " 0,\n",
       " 55,\n",
       " 25,\n",
       " 13,\n",
       " 99,\n",
       " 27,\n",
       " 63,\n",
       " 20,\n",
       " 73,\n",
       " 80,\n",
       " 54,\n",
       " 92,\n",
       " 52,\n",
       " 95,\n",
       " 100,\n",
       " 76,\n",
       " 79,\n",
       " 84,\n",
       " 33,\n",
       " 42,\n",
       " 17,\n",
       " 6,\n",
       " 5,\n",
       " 60,\n",
       " 83,\n",
       " 84,\n",
       " 48,\n",
       " 83,\n",
       " 24,\n",
       " 60,\n",
       " 19,\n",
       " 33,\n",
       " 6,\n",
       " 65,\n",
       " 56,\n",
       " 27,\n",
       " 30,\n",
       " 25,\n",
       " 69,\n",
       " 57,\n",
       " 66,\n",
       " 63,\n",
       " 10,\n",
       " 81,\n",
       " 65,\n",
       " 82,\n",
       " 18,\n",
       " 99,\n",
       " 1,\n",
       " 14,\n",
       " 64,\n",
       " 20,\n",
       " 84,\n",
       " 90,\n",
       " 54,\n",
       " 70,\n",
       " 73,\n",
       " 6,\n",
       " 35,\n",
       " 64,\n",
       " 24,\n",
       " 38,\n",
       " 16,\n",
       " 30,\n",
       " 15,\n",
       " 69,\n",
       " 18,\n",
       " 32,\n",
       " 68,\n",
       " 25,\n",
       " 0,\n",
       " 24,\n",
       " 57,\n",
       " 64,\n",
       " 94,\n",
       " 55,\n",
       " 30,\n",
       " 54,\n",
       " 30,\n",
       " 87,\n",
       " 73,\n",
       " 84,\n",
       " 18,\n",
       " 27,\n",
       " 25,\n",
       " 42,\n",
       " 49,\n",
       " 21,\n",
       " 55,\n",
       " 71,\n",
       " 40,\n",
       " 76,\n",
       " 84,\n",
       " 32,\n",
       " 37,\n",
       " 82,\n",
       " 76,\n",
       " 33,\n",
       " 7,\n",
       " 29,\n",
       " 72,\n",
       " 53,\n",
       " 90,\n",
       " 85,\n",
       " 82,\n",
       " 15,\n",
       " 65,\n",
       " 54,\n",
       " 9,\n",
       " 98,\n",
       " 50,\n",
       " 12,\n",
       " 7,\n",
       " 82,\n",
       " 65,\n",
       " 91,\n",
       " 67,\n",
       " 11,\n",
       " 67,\n",
       " 5,\n",
       " 74,\n",
       " 23,\n",
       " 18,\n",
       " 1,\n",
       " 24,\n",
       " 27,\n",
       " 39,\n",
       " 29,\n",
       " 28,\n",
       " 95,\n",
       " 90,\n",
       " 97,\n",
       " 31,\n",
       " 92,\n",
       " 34,\n",
       " 26,\n",
       " 28,\n",
       " 68,\n",
       " 31,\n",
       " 59,\n",
       " 64,\n",
       " 18,\n",
       " 86,\n",
       " 61,\n",
       " 23,\n",
       " 1,\n",
       " 54,\n",
       " 98,\n",
       " 64,\n",
       " 69,\n",
       " 73,\n",
       " 0,\n",
       " 69,\n",
       " 4,\n",
       " 23,\n",
       " 25,\n",
       " 31,\n",
       " 6,\n",
       " 88,\n",
       " 20,\n",
       " 75,\n",
       " 99,\n",
       " 75,\n",
       " 1,\n",
       " 97,\n",
       " 37,\n",
       " 8,\n",
       " 87,\n",
       " 68,\n",
       " 77,\n",
       " 41,\n",
       " 35,\n",
       " 7,\n",
       " 83,\n",
       " 56,\n",
       " 9,\n",
       " 52,\n",
       " 23,\n",
       " 9,\n",
       " 6,\n",
       " 39,\n",
       " 82,\n",
       " 17,\n",
       " 0,\n",
       " 49,\n",
       " 42,\n",
       " 57,\n",
       " 78,\n",
       " 23,\n",
       " 50,\n",
       " 10,\n",
       " 50,\n",
       " 92,\n",
       " 16,\n",
       " 58,\n",
       " 29,\n",
       " 6,\n",
       " 20,\n",
       " 88,\n",
       " 18,\n",
       " 19,\n",
       " 0,\n",
       " 3,\n",
       " 11,\n",
       " 43,\n",
       " 19,\n",
       " 36,\n",
       " 11,\n",
       " 71,\n",
       " 9,\n",
       " 56,\n",
       " 27,\n",
       " 66,\n",
       " 98,\n",
       " 44,\n",
       " 3,\n",
       " 89,\n",
       " 79,\n",
       " 67,\n",
       " 33,\n",
       " 47,\n",
       " 37,\n",
       " 21,\n",
       " 6,\n",
       " 21,\n",
       " 66,\n",
       " 21,\n",
       " 90,\n",
       " 27,\n",
       " 75,\n",
       " 64,\n",
       " 46,\n",
       " 54,\n",
       " 61,\n",
       " 31,\n",
       " 58,\n",
       " 20,\n",
       " 0,\n",
       " 26,\n",
       " 57,\n",
       " 41,\n",
       " 52,\n",
       " 21,\n",
       " 80,\n",
       " 35,\n",
       " 12,\n",
       " 90,\n",
       " 54,\n",
       " 12,\n",
       " 80,\n",
       " 50,\n",
       " 20,\n",
       " 84,\n",
       " 30,\n",
       " 98,\n",
       " 52,\n",
       " 56,\n",
       " 85,\n",
       " 12,\n",
       " 84,\n",
       " 20,\n",
       " 69,\n",
       " 87,\n",
       " 41,\n",
       " 41,\n",
       " 57,\n",
       " 20,\n",
       " 52,\n",
       " 52,\n",
       " 94,\n",
       " 77,\n",
       " 72,\n",
       " 45,\n",
       " 48,\n",
       " 99,\n",
       " 44,\n",
       " 12,\n",
       " 15,\n",
       " 39,\n",
       " 4,\n",
       " 81,\n",
       " 17,\n",
       " 62,\n",
       " 62,\n",
       " 48,\n",
       " 33,\n",
       " 20,\n",
       " 11,\n",
       " 79,\n",
       " 81,\n",
       " 29,\n",
       " 68,\n",
       " 8,\n",
       " 38,\n",
       " 45,\n",
       " 67,\n",
       " 87,\n",
       " 85,\n",
       " 36,\n",
       " 80,\n",
       " 35,\n",
       " 7,\n",
       " 69,\n",
       " 10,\n",
       " 7,\n",
       " 66,\n",
       " 10,\n",
       " 20,\n",
       " 11,\n",
       " 36,\n",
       " 96,\n",
       " 29,\n",
       " 15,\n",
       " 44,\n",
       " 66,\n",
       " 74,\n",
       " 56,\n",
       " 61,\n",
       " 83,\n",
       " 83,\n",
       " 58,\n",
       " 20,\n",
       " 86,\n",
       " 1,\n",
       " 35,\n",
       " 47,\n",
       " 76,\n",
       " 27,\n",
       " 81,\n",
       " 7,\n",
       " 10,\n",
       " 27,\n",
       " 87,\n",
       " 37,\n",
       " 66,\n",
       " 54,\n",
       " 94,\n",
       " 8,\n",
       " 12,\n",
       " 67,\n",
       " 83,\n",
       " 27,\n",
       " 52,\n",
       " 75,\n",
       " 29,\n",
       " 50,\n",
       " 96,\n",
       " 45,\n",
       " 80,\n",
       " 53,\n",
       " 30,\n",
       " 15,\n",
       " 37,\n",
       " 49,\n",
       " 73,\n",
       " 11,\n",
       " 93,\n",
       " 0,\n",
       " 49,\n",
       " 29,\n",
       " 32,\n",
       " 33,\n",
       " 45,\n",
       " 82,\n",
       " 14,\n",
       " 51,\n",
       " 73,\n",
       " 1,\n",
       " 77,\n",
       " 49,\n",
       " 32,\n",
       " 53,\n",
       " 59,\n",
       " 77,\n",
       " 37,\n",
       " 91,\n",
       " 72,\n",
       " 97,\n",
       " 80,\n",
       " 58,\n",
       " 36,\n",
       " 91,\n",
       " 97,\n",
       " 22,\n",
       " 100,\n",
       " 24,\n",
       " 32,\n",
       " 74,\n",
       " 18,\n",
       " 43,\n",
       " 37,\n",
       " 43,\n",
       " 74,\n",
       " 57,\n",
       " 71,\n",
       " 77,\n",
       " 61,\n",
       " 24,\n",
       " 49,\n",
       " 38,\n",
       " 74,\n",
       " 42,\n",
       " 80,\n",
       " 44,\n",
       " 65,\n",
       " 84,\n",
       " 61,\n",
       " 89,\n",
       " 67,\n",
       " 12,\n",
       " 92,\n",
       " 24,\n",
       " 83,\n",
       " 72,\n",
       " 78,\n",
       " 58,\n",
       " 53,\n",
       " 80,\n",
       " 11,\n",
       " 87,\n",
       " 29,\n",
       " 89,\n",
       " 19,\n",
       " 92,\n",
       " 20,\n",
       " 99,\n",
       " 92,\n",
       " 30,\n",
       " 44,\n",
       " 9,\n",
       " 83,\n",
       " 46,\n",
       " 58,\n",
       " 60,\n",
       " 74,\n",
       " 57,\n",
       " 95,\n",
       " 54,\n",
       " 59,\n",
       " 82,\n",
       " 43,\n",
       " 32,\n",
       " 14,\n",
       " 77,\n",
       " 18,\n",
       " 66,\n",
       " 8,\n",
       " 1,\n",
       " 90,\n",
       " 27,\n",
       " 28,\n",
       " 40,\n",
       " 77,\n",
       " 34,\n",
       " 9,\n",
       " 63,\n",
       " 65,\n",
       " 75,\n",
       " 67,\n",
       " 11,\n",
       " 32,\n",
       " 93,\n",
       " 83,\n",
       " 98,\n",
       " 61,\n",
       " 74,\n",
       " 83,\n",
       " 80,\n",
       " 20,\n",
       " 61,\n",
       " 64,\n",
       " 21,\n",
       " 15,\n",
       " 91,\n",
       " 63,\n",
       " 32,\n",
       " 65,\n",
       " 21,\n",
       " 39,\n",
       " 75,\n",
       " 32,\n",
       " 21,\n",
       " 39,\n",
       " 37,\n",
       " 61,\n",
       " 60,\n",
       " 87,\n",
       " 86,\n",
       " 63,\n",
       " 42,\n",
       " 70,\n",
       " 59,\n",
       " 46,\n",
       " 52,\n",
       " 33,\n",
       " 49,\n",
       " 61,\n",
       " 93,\n",
       " 69,\n",
       " 37,\n",
       " 14,\n",
       " 60,\n",
       " 55,\n",
       " 43,\n",
       " 35,\n",
       " 2,\n",
       " 45,\n",
       " 89,\n",
       " 76,\n",
       " 4,\n",
       " 39,\n",
       " 10,\n",
       " 1,\n",
       " 70,\n",
       " 50,\n",
       " 62,\n",
       " 90,\n",
       " 77,\n",
       " 43,\n",
       " 36,\n",
       " 13,\n",
       " 15,\n",
       " 24,\n",
       " 14,\n",
       " 68,\n",
       " 97,\n",
       " 20,\n",
       " 5,\n",
       " 11,\n",
       " 57,\n",
       " 18,\n",
       " 78,\n",
       " 77,\n",
       " 28,\n",
       " 39,\n",
       " 57,\n",
       " 64,\n",
       " 64,\n",
       " 83,\n",
       " 73,\n",
       " 35,\n",
       " 66,\n",
       " 40,\n",
       " 94,\n",
       " 35,\n",
       " 37,\n",
       " 71,\n",
       " 15,\n",
       " 86,\n",
       " 32,\n",
       " 86,\n",
       " 69,\n",
       " 45,\n",
       " 36,\n",
       " 57,\n",
       " 80,\n",
       " 15,\n",
       " 67,\n",
       " 49,\n",
       " 88,\n",
       " 66,\n",
       " 76,\n",
       " 26,\n",
       " 32,\n",
       " 53,\n",
       " 75,\n",
       " 6,\n",
       " 75,\n",
       " 73,\n",
       " 14,\n",
       " 42,\n",
       " 23,\n",
       " 12,\n",
       " 22,\n",
       " 96,\n",
       " 68,\n",
       " 88,\n",
       " 43,\n",
       " 7,\n",
       " 97,\n",
       " 3,\n",
       " 7,\n",
       " 73,\n",
       " 21,\n",
       " 6,\n",
       " 98,\n",
       " 11,\n",
       " 32,\n",
       " 14,\n",
       " 66,\n",
       " 36,\n",
       " 48,\n",
       " 28,\n",
       " 65,\n",
       " 26,\n",
       " 38,\n",
       " 29,\n",
       " 77,\n",
       " 98,\n",
       " 24,\n",
       " 61,\n",
       " 87,\n",
       " 28,\n",
       " 90,\n",
       " 100,\n",
       " 39,\n",
       " 23,\n",
       " 85,\n",
       " 54,\n",
       " 92,\n",
       " 8,\n",
       " 71,\n",
       " 98,\n",
       " 22,\n",
       " 51,\n",
       " 0,\n",
       " 43,\n",
       " 52,\n",
       " 57,\n",
       " 88,\n",
       " 48,\n",
       " 72,\n",
       " 52,\n",
       " 62,\n",
       " 28,\n",
       " 14,\n",
       " 72,\n",
       " 2,\n",
       " 34,\n",
       " 81,\n",
       " 87,\n",
       " 52,\n",
       " 52,\n",
       " 3,\n",
       " 68,\n",
       " 75,\n",
       " 5,\n",
       " 50,\n",
       " 3,\n",
       " 54,\n",
       " 65,\n",
       " 11,\n",
       " 33,\n",
       " 86,\n",
       " 30,\n",
       " 23,\n",
       " 36,\n",
       " 67,\n",
       " 58,\n",
       " 84,\n",
       " 100,\n",
       " 36,\n",
       " 85,\n",
       " 70,\n",
       " 8,\n",
       " 83,\n",
       " 41,\n",
       " 55,\n",
       " 40,\n",
       " 22,\n",
       " 61,\n",
       " 80,\n",
       " 15,\n",
       " 4,\n",
       " 96,\n",
       " 82,\n",
       " 33,\n",
       " 21,\n",
       " 35,\n",
       " 42,\n",
       " 8,\n",
       " 95,\n",
       " 77,\n",
       " 99,\n",
       " 19,\n",
       " 40,\n",
       " 21,\n",
       " 46,\n",
       " 9,\n",
       " 34,\n",
       " 90,\n",
       " 69,\n",
       " 79,\n",
       " 5,\n",
       " 90,\n",
       " 78,\n",
       " 61,\n",
       " 98,\n",
       " 0,\n",
       " 60,\n",
       " 69,\n",
       " 58,\n",
       " 53,\n",
       " 32,\n",
       " 80,\n",
       " 14,\n",
       " 39,\n",
       " 74,\n",
       " 49,\n",
       " 76,\n",
       " 55,\n",
       " 6,\n",
       " 86,\n",
       " 23,\n",
       " 63,\n",
       " 99,\n",
       " 22,\n",
       " 80,\n",
       " 16,\n",
       " 91,\n",
       " 92,\n",
       " 4,\n",
       " 54,\n",
       " 53,\n",
       " 38,\n",
       " 87,\n",
       " 74,\n",
       " 40,\n",
       " 22,\n",
       " 32,\n",
       " 99,\n",
       " 17,\n",
       " 49,\n",
       " 80,\n",
       " 5,\n",
       " 8,\n",
       " 37,\n",
       " 64,\n",
       " 39,\n",
       " 60,\n",
       " 46,\n",
       " 56,\n",
       " 48,\n",
       " 77,\n",
       " 62,\n",
       " 36,\n",
       " 86,\n",
       " 39,\n",
       " 72,\n",
       " 11,\n",
       " 85,\n",
       " 2,\n",
       " 6,\n",
       " 69,\n",
       " 4,\n",
       " 54,\n",
       " 0,\n",
       " 97,\n",
       " 61,\n",
       " 57,\n",
       " 72,\n",
       " 90,\n",
       " 23,\n",
       " 28,\n",
       " 47,\n",
       " 100,\n",
       " 94,\n",
       " 66,\n",
       " 73,\n",
       " 49,\n",
       " 71,\n",
       " 89,\n",
       " 10,\n",
       " 32,\n",
       " 45,\n",
       " 69,\n",
       " 20,\n",
       " 7,\n",
       " 24,\n",
       " 81,\n",
       " 23,\n",
       " 15,\n",
       " 61,\n",
       " 56,\n",
       " 21,\n",
       " 66,\n",
       " 98,\n",
       " 88,\n",
       " 78,\n",
       " 69,\n",
       " 13,\n",
       " 96,\n",
       " 62,\n",
       " 64,\n",
       " 3,\n",
       " 91,\n",
       " 25,\n",
       " 49,\n",
       " 47,\n",
       " 67,\n",
       " 23,\n",
       " 18,\n",
       " 0,\n",
       " 68,\n",
       " 30,\n",
       " 5,\n",
       " 79,\n",
       " 74,\n",
       " 95,\n",
       " 86,\n",
       " 31,\n",
       " 24,\n",
       " 11,\n",
       " 10,\n",
       " 38,\n",
       " 59,\n",
       " 72,\n",
       " 27,\n",
       " 85,\n",
       " 17,\n",
       " 57,\n",
       " 74,\n",
       " 68,\n",
       " 3,\n",
       " 82,\n",
       " 20,\n",
       " 20,\n",
       " 52,\n",
       " 16,\n",
       " 65,\n",
       " 61,\n",
       " 77,\n",
       " 53,\n",
       " 32,\n",
       " 40,\n",
       " 34,\n",
       " 26,\n",
       " 50,\n",
       " 86,\n",
       " 21,\n",
       " 58,\n",
       " 100,\n",
       " 87,\n",
       " 2,\n",
       " 56,\n",
       " 11,\n",
       " 0,\n",
       " 48,\n",
       " 82,\n",
       " 5,\n",
       " 71,\n",
       " 41,\n",
       " 30,\n",
       " 31,\n",
       " 79,\n",
       " 16,\n",
       " 28,\n",
       " 74,\n",
       " 68,\n",
       " 58,\n",
       " 58,\n",
       " 35,\n",
       " 47]"
      ]
     },
     "execution_count": 8,
     "metadata": {},
     "output_type": "execute_result"
    }
   ],
   "source": [
    "new_list"
   ]
  },
  {
   "cell_type": "code",
   "execution_count": 10,
   "id": "d20ab4ad-4098-41e2-b3f0-df0fd88c78d8",
   "metadata": {},
   "outputs": [
    {
     "name": "stdout",
     "output_type": "stream",
     "text": [
      "Maximum of Unit price is =  100\n",
      "Minimum of Unit price is =  0\n",
      "Average of Unit price is =  49.099\n"
     ]
    }
   ],
   "source": [
    "print(\"Maximum of Unit price is = \",max(new_list))  \n",
    "\n",
    "print(\"Minimum of Unit price is = \",min(new_list))  \n",
    "\n",
    "print(\"Average of Unit price is = \",sum(new_list)/len(new_list))  "
   ]
  },
  {
   "cell_type": "code",
   "execution_count": 11,
   "id": "cc5f8856-b1d6-4a67-8ee4-3744245d40cf",
   "metadata": {},
   "outputs": [],
   "source": [
    "x.commit()"
   ]
  },
  {
   "cell_type": "code",
   "execution_count": 13,
   "id": "274d11f1-5934-4fa6-b3ff-f8843beea1cc",
   "metadata": {},
   "outputs": [],
   "source": [
    "x.close()"
   ]
  },
  {
   "cell_type": "code",
   "execution_count": 14,
   "id": "d55afa5f-ee88-4c96-8793-d6bac53fa29e",
   "metadata": {},
   "outputs": [],
   "source": [
    "import sqlite3"
   ]
  },
  {
   "cell_type": "code",
   "execution_count": 15,
   "id": "e081bdcc-36c7-4df9-8974-3effc0e60e74",
   "metadata": {},
   "outputs": [],
   "source": [
    "x=sqlite3.connect('SalesDBNew.db')"
   ]
  },
  {
   "cell_type": "code",
   "execution_count": 16,
   "id": "a95c4ff4-020c-4a5f-8bcf-41919adb7e96",
   "metadata": {},
   "outputs": [],
   "source": [
    "y=x.cursor()"
   ]
  },
  {
   "cell_type": "code",
   "execution_count": 17,
   "id": "2307ef0a-d83a-4bea-a235-e5411622ec60",
   "metadata": {},
   "outputs": [
    {
     "data": {
      "text/plain": [
       "<sqlite3.Cursor at 0x16c131f40a0>"
      ]
     },
     "execution_count": 17,
     "metadata": {},
     "output_type": "execute_result"
    }
   ],
   "source": [
    "y.execute(\"SELECT * FROM Supermarket_sales\")"
   ]
  },
  {
   "cell_type": "code",
   "execution_count": 18,
   "id": "e4095e9b-ad81-41da-915f-e07d946419c3",
   "metadata": {},
   "outputs": [],
   "source": [
    "new_list=[]"
   ]
  },
  {
   "cell_type": "code",
   "execution_count": 19,
   "id": "c39a1471-ddfb-4057-a54f-b9275950d9c1",
   "metadata": {},
   "outputs": [],
   "source": [
    "for k in y.fetchall():\n",
    "    new_list.append(int(k[7]))"
   ]
  },
  {
   "cell_type": "code",
   "execution_count": 20,
   "id": "f3a7114d-7382-4aaf-96e7-11591a2b26b6",
   "metadata": {},
   "outputs": [
    {
     "data": {
      "text/plain": [
       "('1000',\n",
       " '849-09-3807',\n",
       " 'A',\n",
       " 'Yangon',\n",
       " 'Member',\n",
       " 'Female',\n",
       " 'Fashion accessories',\n",
       " '7',\n",
       " '154',\n",
       " '4382',\n",
       " '13:28',\n",
       " 'Cash',\n",
       " '618.38',\n",
       " '4.761904762',\n",
       " '30.919',\n",
       " '6.6',\n",
       " '47')"
      ]
     },
     "execution_count": 20,
     "metadata": {},
     "output_type": "execute_result"
    }
   ],
   "source": [
    "k"
   ]
  },
  {
   "cell_type": "code",
   "execution_count": 22,
   "id": "0f4b1547-474e-429d-b3ca-17ab8850a1d1",
   "metadata": {},
   "outputs": [
    {
     "name": "stdout",
     "output_type": "stream",
     "text": [
      "Maximum of Quantity is= 10\n"
     ]
    }
   ],
   "source": [
    "print(\"Maximum of Quantity is=\",max(new_list))"
   ]
  },
  {
   "cell_type": "code",
   "execution_count": 23,
   "id": "da452061-9638-4861-9cdc-12e33eb2dbef",
   "metadata": {},
   "outputs": [
    {
     "name": "stdout",
     "output_type": "stream",
     "text": [
      "Minimum of Quantity is =  1\n",
      "Average of Quantity is =  5.51\n"
     ]
    }
   ],
   "source": [
    "print(\"Minimum of Quantity is = \",min(new_list))  \n",
    "\n",
    "print(\"Average of Quantity is = \",sum(new_list)/len(new_list))  \n",
    "\n"
   ]
  },
  {
   "cell_type": "code",
   "execution_count": 24,
   "id": "9d68d4b7-e3ff-47cf-9fe2-8fd6a1b81e7e",
   "metadata": {},
   "outputs": [],
   "source": [
    "x.commit()"
   ]
  },
  {
   "cell_type": "code",
   "execution_count": 25,
   "id": "c2ced7fe-0de4-4601-b1f8-ed8a59d0a149",
   "metadata": {},
   "outputs": [],
   "source": [
    "x.close()"
   ]
  },
  {
   "cell_type": "code",
   "execution_count": 26,
   "id": "d270f17d-a1bb-4412-93e3-4a61bbbad25c",
   "metadata": {},
   "outputs": [],
   "source": [
    "X = sqlite3.connect('SalesDBNew.db')\n",
    "Y = X.cursor()"
   ]
  },
  {
   "cell_type": "code",
   "execution_count": 27,
   "id": "7fdf083b-a369-4cb2-8d5b-135a7bd98ab8",
   "metadata": {},
   "outputs": [
    {
     "data": {
      "text/plain": [
       "<sqlite3.Cursor at 0x16c131f4ab0>"
      ]
     },
     "execution_count": 27,
     "metadata": {},
     "output_type": "execute_result"
    }
   ],
   "source": [
    "Y.execute(\"SELECT * FROM Supermarket_sales WHERE Productline = 'Health and beauty'\")\n"
   ]
  },
  {
   "cell_type": "code",
   "execution_count": 28,
   "id": "0d0f2022-e1fa-4ca6-8dde-64359f25b153",
   "metadata": {},
   "outputs": [],
   "source": [
    "new_list=[]"
   ]
  },
  {
   "cell_type": "code",
   "execution_count": 29,
   "id": "9055e463-355e-44a8-bcba-61391a3551a8",
   "metadata": {},
   "outputs": [],
   "source": [
    "for k in Y.fetchall():\n",
    "  new_list.append(int(k[7]))"
   ]
  },
  {
   "cell_type": "code",
   "execution_count": 30,
   "id": "cb368a1b-3cd8-4c3b-af2a-8813f489b26a",
   "metadata": {},
   "outputs": [
    {
     "data": {
      "text/plain": [
       "('996',\n",
       " '233-67-5758',\n",
       " 'C',\n",
       " 'Naypyitaw',\n",
       " 'Normal',\n",
       " 'Male',\n",
       " 'Health and beauty',\n",
       " '1',\n",
       " '692',\n",
       " '8155',\n",
       " '13:46',\n",
       " 'Ewallet',\n",
       " '40.35',\n",
       " '4.761904762',\n",
       " '2.0175',\n",
       " '6.2',\n",
       " '68')"
      ]
     },
     "execution_count": 30,
     "metadata": {},
     "output_type": "execute_result"
    }
   ],
   "source": [
    "k"
   ]
  },
  {
   "cell_type": "code",
   "execution_count": 31,
   "id": "512e60cc-8cf6-4f2a-a9d9-82cd03390501",
   "metadata": {},
   "outputs": [
    {
     "name": "stdout",
     "output_type": "stream",
     "text": [
      "Maximum of Quantity with Health and Beauty is =  10\n"
     ]
    }
   ],
   "source": [
    "print(\"Maximum of Quantity with Health and Beauty is = \",max(new_list))  "
   ]
  },
  {
   "cell_type": "code",
   "execution_count": 32,
   "id": "4e966e71-6cb8-4c2f-a816-fd9ba08cbd93",
   "metadata": {},
   "outputs": [
    {
     "name": "stdout",
     "output_type": "stream",
     "text": [
      "Minimum of Quantity with Health and Beauty =  1\n"
     ]
    }
   ],
   "source": [
    "print(\"Minimum of Quantity with Health and Beauty = \",min(new_list))"
   ]
  },
  {
   "cell_type": "code",
   "execution_count": 33,
   "id": "840739bf-4781-4235-ab6b-91fa5b836c3e",
   "metadata": {},
   "outputs": [
    {
     "name": "stdout",
     "output_type": "stream",
     "text": [
      "Average of Quantity with Health and Beauty =  5.618421052631579\n"
     ]
    }
   ],
   "source": [
    "print(\"Average of Quantity with Health and Beauty = \",sum(new_list)/len(new_list))  \n"
   ]
  },
  {
   "cell_type": "code",
   "execution_count": 35,
   "id": "79b7aba5-5322-4b6d-b3b7-8d1520e0ce13",
   "metadata": {},
   "outputs": [],
   "source": [
    "X.commit()\n",
    "Y.close()"
   ]
  },
  {
   "cell_type": "code",
   "execution_count": 36,
   "id": "81b7d094-ed3e-466d-b35f-88cc73477a76",
   "metadata": {},
   "outputs": [
    {
     "ename": "ProgrammingError",
     "evalue": "Cannot operate on a closed cursor.",
     "output_type": "error",
     "traceback": [
      "\u001b[1;31m---------------------------------------------------------------------------\u001b[0m",
      "\u001b[1;31mProgrammingError\u001b[0m                          Traceback (most recent call last)",
      "\u001b[1;32m<ipython-input-36-84d0280b1a48>\u001b[0m in \u001b[0;36m<module>\u001b[1;34m\u001b[0m\n\u001b[1;32m----> 1\u001b[1;33m \u001b[0mY\u001b[0m\u001b[1;33m.\u001b[0m\u001b[0mexecute\u001b[0m\u001b[1;33m(\u001b[0m\u001b[1;34m\"SELECT * FROM Supermarket_sales WHERE Productline = 'Electronic accessories'\"\u001b[0m\u001b[1;33m)\u001b[0m\u001b[1;33m\u001b[0m\u001b[1;33m\u001b[0m\u001b[0m\n\u001b[0m",
      "\u001b[1;31mProgrammingError\u001b[0m: Cannot operate on a closed cursor."
     ]
    }
   ],
   "source": [
    "Y.execute(\"SELECT * FROM Supermarket_sales WHERE Productline = 'Electronic accessories'\")\n"
   ]
  },
  {
   "cell_type": "code",
   "execution_count": 37,
   "id": "67ed8117-4974-4241-a8f5-f9e07fda4f72",
   "metadata": {},
   "outputs": [],
   "source": [
    "X = sqlite3.connect('SalesDBNew.db')\n",
    "Y = X.cursor()\n"
   ]
  },
  {
   "cell_type": "code",
   "execution_count": 38,
   "id": "92bc2466-29bf-4e31-9e00-fbf07241f47e",
   "metadata": {},
   "outputs": [
    {
     "data": {
      "text/plain": [
       "<sqlite3.Cursor at 0x16c13206110>"
      ]
     },
     "execution_count": 38,
     "metadata": {},
     "output_type": "execute_result"
    }
   ],
   "source": [
    "Y.execute(\"SELECT * FROM Supermarket_sales WHERE Productline = 'Electronic accessories'\")\n"
   ]
  },
  {
   "cell_type": "code",
   "execution_count": 39,
   "id": "40a115f9-3145-4721-a658-fccd12062bf1",
   "metadata": {},
   "outputs": [],
   "source": [
    "new_list=[]\n"
   ]
  },
  {
   "cell_type": "code",
   "execution_count": 40,
   "id": "ab4506fa-7057-42cf-aa0c-08515bd61990",
   "metadata": {},
   "outputs": [],
   "source": [
    "for k in Y.fetchall():\n",
    "  new_list.append(int(k[7]))"
   ]
  },
  {
   "cell_type": "code",
   "execution_count": 41,
   "id": "1439cc06-1753-4fcd-a248-e7ca2de86368",
   "metadata": {},
   "outputs": [
    {
     "name": "stdout",
     "output_type": "stream",
     "text": [
      "Maximum  is =  10\n"
     ]
    }
   ],
   "source": [
    "print(\"Maximum  is = \",max(new_list))"
   ]
  },
  {
   "cell_type": "code",
   "execution_count": 43,
   "id": "191f4893-8efc-46e6-8bb8-d8517e207e5a",
   "metadata": {},
   "outputs": [
    {
     "name": "stdout",
     "output_type": "stream",
     "text": [
      "Minimum is  =  1\n"
     ]
    }
   ],
   "source": [
    "print(\"Minimum is  = \",min(new_list))  \n"
   ]
  },
  {
   "cell_type": "code",
   "execution_count": 44,
   "id": "c9d01713-fcbc-4e4b-b6a3-5d9bdcadefcb",
   "metadata": {},
   "outputs": [
    {
     "name": "stdout",
     "output_type": "stream",
     "text": [
      "Average is =  5.711764705882353\n"
     ]
    }
   ],
   "source": [
    "print(\"Average is = \",sum(new_list)/len(new_list))  \n",
    "\n"
   ]
  },
  {
   "cell_type": "code",
   "execution_count": 45,
   "id": "fc37c5f4-8feb-45ba-ba7e-9da474a80d31",
   "metadata": {},
   "outputs": [
    {
     "data": {
      "text/plain": [
       "<sqlite3.Cursor at 0x16c13206110>"
      ]
     },
     "execution_count": 45,
     "metadata": {},
     "output_type": "execute_result"
    }
   ],
   "source": [
    "Y.execute(\"SELECT * FROM Supermarket_sales WHERE Gender = 'Male' AND Productline = 'Health and beauty'\")\n"
   ]
  },
  {
   "cell_type": "code",
   "execution_count": 46,
   "id": "0d2c9497-b91d-45a6-a350-d5a1420b1b15",
   "metadata": {},
   "outputs": [],
   "source": [
    "new_list=[]"
   ]
  },
  {
   "cell_type": "code",
   "execution_count": 47,
   "id": "b91547e8-e6ab-456e-9300-6fdea78f3136",
   "metadata": {},
   "outputs": [
    {
     "data": {
      "text/plain": [
       "[]"
      ]
     },
     "execution_count": 47,
     "metadata": {},
     "output_type": "execute_result"
    }
   ],
   "source": [
    "new_list"
   ]
  },
  {
   "cell_type": "code",
   "execution_count": 48,
   "id": "e5919f4c-135a-48a5-a6a5-578dd6c5d355",
   "metadata": {},
   "outputs": [],
   "source": [
    "for k in Y.fetchall():\n",
    "  new_list.append(int(k[7]))\n",
    "  "
   ]
  },
  {
   "cell_type": "code",
   "execution_count": 49,
   "id": "799162a9-fae0-4ca3-ab62-1817024978e2",
   "metadata": {},
   "outputs": [
    {
     "name": "stdout",
     "output_type": "stream",
     "text": [
      "Men with Health and beauty is =  88\n"
     ]
    }
   ],
   "source": [
    "print(\"Men with Health and beauty is = \",len(new_list))"
   ]
  },
  {
   "cell_type": "code",
   "execution_count": 58,
   "id": "ebddc834-0ec9-4d32-a04b-01de09d7fe55",
   "metadata": {},
   "outputs": [
    {
     "data": {
      "text/plain": [
       "<sqlite3.Cursor at 0x16c13206110>"
      ]
     },
     "execution_count": 58,
     "metadata": {},
     "output_type": "execute_result"
    }
   ],
   "source": [
    "Y.execute(\"SELECT * FROM Supermarket_sales WHERE Gender= 'Male' AND Productline='Health and beauty'\")"
   ]
  },
  {
   "cell_type": "code",
   "execution_count": 59,
   "id": "fe0b491b-7c0c-4718-b9ba-90b43b8c9e9f",
   "metadata": {},
   "outputs": [],
   "source": [
    "new_list=[]\n"
   ]
  },
  {
   "cell_type": "code",
   "execution_count": 60,
   "id": "9ce1ab10-689f-47c7-b489-23499ab10a3b",
   "metadata": {},
   "outputs": [],
   "source": [
    "newlist=[]"
   ]
  },
  {
   "cell_type": "code",
   "execution_count": 66,
   "id": "2f675f27-13e4-447b-bf76-d0fd30826dc4",
   "metadata": {},
   "outputs": [],
   "source": [
    "for k in Y.fetchall():\n",
    "  new_list.append(int(k[7]))\n",
    "  "
   ]
  },
  {
   "cell_type": "code",
   "execution_count": 62,
   "id": "e38a855e-e558-4877-86f0-8a58383bce3d",
   "metadata": {},
   "outputs": [
    {
     "name": "stdout",
     "output_type": "stream",
     "text": [
      "Men with Health and beauty is =  88\n"
     ]
    }
   ],
   "source": [
    "print(\"Men with Health and beauty is = \",len(new_list))  "
   ]
  },
  {
   "cell_type": "code",
   "execution_count": 70,
   "id": "fd90cb07-4b7c-4a46-9573-d77b45e4e963",
   "metadata": {},
   "outputs": [
    {
     "data": {
      "text/plain": [
       "<sqlite3.Cursor at 0x16c13206110>"
      ]
     },
     "execution_count": 70,
     "metadata": {},
     "output_type": "execute_result"
    }
   ],
   "source": [
    "Y.execute(\"SELECT * FROM Supermarket_sales WHERE Gender= 'Female' AND Productline='Fashion accessories'\")"
   ]
  },
  {
   "cell_type": "code",
   "execution_count": 74,
   "id": "d5bcce54-646f-4ce4-9248-c460b80a62fc",
   "metadata": {},
   "outputs": [],
   "source": [
    "newlist=[]"
   ]
  },
  {
   "cell_type": "code",
   "execution_count": 75,
   "id": "111ff420-7029-4acb-91b9-bda2d9ef36b2",
   "metadata": {},
   "outputs": [],
   "source": [
    "for k in Y.fetchall():\n",
    "    new_list.append(int(k[7]))"
   ]
  },
  {
   "cell_type": "code",
   "execution_count": 76,
   "id": "b64aff71-7189-4f7b-b016-b1edfce2c396",
   "metadata": {},
   "outputs": [
    {
     "name": "stdout",
     "output_type": "stream",
     "text": [
      "Women with Fashion acessories is =  184\n"
     ]
    }
   ],
   "source": [
    "print(\"Women with Fashion acessories is = \",len(new_list))  "
   ]
  },
  {
   "cell_type": "code",
   "execution_count": 86,
   "id": "692694d5-f8ab-4c99-b8ec-a55196f63b59",
   "metadata": {},
   "outputs": [
    {
     "data": {
      "text/plain": [
       "<sqlite3.Cursor at 0x16c13206110>"
      ]
     },
     "execution_count": 86,
     "metadata": {},
     "output_type": "execute_result"
    }
   ],
   "source": [
    "Y.execute(\"SELECT * FROM Supermarket_sales WHERE Gender= 'Female' AND Productline='Fashion accessories' OR Productline='Sports and travel'\")"
   ]
  },
  {
   "cell_type": "code",
   "execution_count": 88,
   "id": "f9061a51-f43a-4ab1-b0b8-31cbb3d3c4be",
   "metadata": {},
   "outputs": [],
   "source": [
    "newlist=[]"
   ]
  },
  {
   "cell_type": "code",
   "execution_count": 89,
   "id": "b7f30656-46c1-446d-a6ad-cc2a82f7e695",
   "metadata": {},
   "outputs": [],
   "source": [
    "for k in Y.fetchall():\n",
    "    new_list.append(int(k[7]))"
   ]
  },
  {
   "cell_type": "code",
   "execution_count": 90,
   "id": "013e5369-13e5-4d19-b8cb-bac36979fa12",
   "metadata": {},
   "outputs": [
    {
     "name": "stdout",
     "output_type": "stream",
     "text": [
      "Women with Fashion acessories and sports and travels is =  446\n"
     ]
    }
   ],
   "source": [
    "print(\"Women with Fashion acessories and sports and travels is = \",len(new_list))  "
   ]
  },
  {
   "cell_type": "code",
   "execution_count": 94,
   "id": "3966e2fc-9fae-43b5-a250-b07df5284604",
   "metadata": {},
   "outputs": [],
   "source": [
    "Y.execute(\"SELECT * FROM Supermarket_sales\")\n",
    "\n",
    "tax_value=[]"
   ]
  },
  {
   "cell_type": "code",
   "execution_count": 95,
   "id": "071d82c2-c881-4921-8e16-e95e952879d5",
   "metadata": {},
   "outputs": [],
   "source": [
    "for k in Y.fetchall():\n",
    "    tax_value.append(int(k[8]))"
   ]
  },
  {
   "cell_type": "code",
   "execution_count": 97,
   "id": "728c8d5e-3ab1-46f9-bf3f-fb2a966371d8",
   "metadata": {},
   "outputs": [
    {
     "data": {
      "text/plain": [
       "1000"
      ]
     },
     "execution_count": 97,
     "metadata": {},
     "output_type": "execute_result"
    }
   ],
   "source": [
    "len(tax_value)"
   ]
  },
  {
   "cell_type": "code",
   "execution_count": 101,
   "id": "bfa13580-8f05-43ed-8eeb-bbea9609fc4e",
   "metadata": {},
   "outputs": [
    {
     "data": {
      "text/plain": [
       "<sqlite3.Cursor at 0x16c13206110>"
      ]
     },
     "execution_count": 101,
     "metadata": {},
     "output_type": "execute_result"
    }
   ],
   "source": [
    "Y.execute(\"SELECT * FROM Supermarket_sales\")"
   ]
  },
  {
   "cell_type": "code",
   "execution_count": 102,
   "id": "f0424218-a90b-4c73-9157-e4a3bb3c12b4",
   "metadata": {},
   "outputs": [],
   "source": [
    "\n",
    "qt=[]"
   ]
  },
  {
   "cell_type": "code",
   "execution_count": 103,
   "id": "db601d04-9359-46c4-8993-2017024dc10f",
   "metadata": {},
   "outputs": [],
   "source": [
    "for k in Y.fetchall():\n",
    "    qt.append(int(k[7]))"
   ]
  },
  {
   "cell_type": "code",
   "execution_count": 104,
   "id": "550355de-8057-42a8-aa62-0fcefc696f39",
   "metadata": {},
   "outputs": [
    {
     "data": {
      "text/plain": [
       "1000"
      ]
     },
     "execution_count": 104,
     "metadata": {},
     "output_type": "execute_result"
    }
   ],
   "source": [
    "len(qt)"
   ]
  },
  {
   "cell_type": "code",
   "execution_count": 105,
   "id": "8d57b474-256e-4fd2-b3a7-b79c77096173",
   "metadata": {},
   "outputs": [
    {
     "data": {
      "text/plain": [
       "<matplotlib.collections.PathCollection at 0x16c1548aee0>"
      ]
     },
     "execution_count": 105,
     "metadata": {},
     "output_type": "execute_result"
    },
    {
     "data": {
      "image/png": "[encoded data removed]",
      "text/plain": [
       "<Figure size 432x288 with 1 Axes>"
      ]
     },
     "metadata": {
      "needs_background": "light"
     },
     "output_type": "display_data"
    }
   ],
   "source": [
    "import matplotlib.pyplot as plt\n",
    "plt.scatter(qt,tax_value)"
   ]
  },
  {
   "cell_type": "code",
   "execution_count": 117,
   "id": "d7e9d135-c11d-40f7-bb23-90cb24166bac",
   "metadata": {},
   "outputs": [
    {
     "data": {
      "text/plain": [
       "<sqlite3.Cursor at 0x16c13206110>"
      ]
     },
     "execution_count": 117,
     "metadata": {},
     "output_type": "execute_result"
    }
   ],
   "source": [
    "Y.execute(\"SELECT * FROM Supermarket_sales WHERE City='Yangon'\" )"
   ]
  },
  {
   "cell_type": "code",
   "execution_count": 118,
   "id": "aee6ccb6-c7d4-4e12-a2a5-2d194d302a62",
   "metadata": {},
   "outputs": [],
   "source": [
    "new_data=[]"
   ]
  },
  {
   "cell_type": "code",
   "execution_count": 119,
   "id": "83f0129c-0423-4730-8a16-be97f5137b18",
   "metadata": {},
   "outputs": [],
   "source": [
    "\n",
    "for k in Y.fetchall():\n",
    "    new_data.append(int(k[8]))"
   ]
  },
  {
   "cell_type": "code",
   "execution_count": 120,
   "id": "f1c01cdb-5d6a-427c-9ce4-c4d6ab3834ec",
   "metadata": {},
   "outputs": [
    {
     "data": {
      "text/plain": [
       "[799,\n",
       " 365,\n",
       " 335,\n",
       " 743,\n",
       " 916,\n",
       " 760,\n",
       " 491,\n",
       " 642,\n",
       " 727,\n",
       " 514,\n",
       " 996,\n",
       " 534,\n",
       " 911,\n",
       " 643,\n",
       " 354,\n",
       " 763,\n",
       " 703,\n",
       " 172,\n",
       " 636,\n",
       " 705,\n",
       " 897,\n",
       " 506,\n",
       " 454,\n",
       " 918,\n",
       " 154,\n",
       " 467,\n",
       " 93,\n",
       " 55,\n",
       " 494,\n",
       " 376,\n",
       " 836,\n",
       " 636,\n",
       " 187,\n",
       " 972,\n",
       " 932,\n",
       " 774,\n",
       " 428,\n",
       " 51,\n",
       " 426,\n",
       " 485,\n",
       " 761,\n",
       " 73,\n",
       " 768,\n",
       " 961,\n",
       " 314,\n",
       " 842,\n",
       " 120,\n",
       " 668,\n",
       " 353,\n",
       " 485,\n",
       " 106,\n",
       " 896,\n",
       " 984,\n",
       " 520,\n",
       " 294,\n",
       " 201,\n",
       " 691,\n",
       " 22,\n",
       " 626,\n",
       " 10,\n",
       " 719,\n",
       " 408,\n",
       " 655,\n",
       " 147,\n",
       " 48,\n",
       " 370,\n",
       " 205,\n",
       " 839,\n",
       " 583,\n",
       " 979,\n",
       " 442,\n",
       " 616,\n",
       " 863,\n",
       " 658,\n",
       " 11,\n",
       " 717,\n",
       " 967,\n",
       " 904,\n",
       " 120,\n",
       " 372,\n",
       " 982,\n",
       " 14,\n",
       " 947,\n",
       " 297,\n",
       " 106,\n",
       " 656,\n",
       " 369,\n",
       " 712,\n",
       " 584,\n",
       " 18,\n",
       " 103,\n",
       " 227,\n",
       " 569,\n",
       " 664,\n",
       " 469,\n",
       " 23,\n",
       " 178,\n",
       " 608,\n",
       " 830,\n",
       " 842,\n",
       " 252,\n",
       " 512,\n",
       " 198,\n",
       " 474,\n",
       " 608,\n",
       " 484,\n",
       " 910,\n",
       " 5,\n",
       " 151,\n",
       " 330,\n",
       " 305,\n",
       " 72,\n",
       " 926,\n",
       " 775,\n",
       " 79,\n",
       " 230,\n",
       " 246,\n",
       " 321,\n",
       " 130,\n",
       " 228,\n",
       " 768,\n",
       " 915,\n",
       " 205,\n",
       " 495,\n",
       " 461,\n",
       " 648,\n",
       " 945,\n",
       " 951,\n",
       " 228,\n",
       " 171,\n",
       " 970,\n",
       " 764,\n",
       " 617,\n",
       " 274,\n",
       " 13,\n",
       " 852,\n",
       " 986,\n",
       " 178,\n",
       " 486,\n",
       " 501,\n",
       " 550,\n",
       " 530,\n",
       " 890,\n",
       " 956,\n",
       " 619,\n",
       " 792,\n",
       " 145,\n",
       " 169,\n",
       " 367,\n",
       " 784,\n",
       " 348,\n",
       " 797,\n",
       " 619,\n",
       " 957,\n",
       " 70,\n",
       " 301,\n",
       " 632,\n",
       " 51,\n",
       " 286,\n",
       " 54,\n",
       " 206,\n",
       " 173,\n",
       " 911,\n",
       " 263,\n",
       " 432,\n",
       " 975,\n",
       " 96,\n",
       " 430,\n",
       " 519,\n",
       " 241,\n",
       " 994,\n",
       " 505,\n",
       " 137,\n",
       " 458,\n",
       " 861,\n",
       " 987,\n",
       " 968,\n",
       " 448,\n",
       " 532,\n",
       " 712,\n",
       " 837,\n",
       " 982,\n",
       " 990,\n",
       " 548,\n",
       " 182,\n",
       " 375,\n",
       " 906,\n",
       " 218,\n",
       " 711,\n",
       " 496,\n",
       " 101,\n",
       " 639,\n",
       " 48,\n",
       " 968,\n",
       " 990,\n",
       " 59,\n",
       " 921,\n",
       " 907,\n",
       " 963,\n",
       " 566,\n",
       " 3,\n",
       " 844,\n",
       " 553,\n",
       " 142,\n",
       " 60,\n",
       " 765,\n",
       " 904,\n",
       " 519,\n",
       " 297,\n",
       " 496,\n",
       " 799,\n",
       " 56,\n",
       " 239,\n",
       " 280,\n",
       " 767,\n",
       " 83,\n",
       " 38,\n",
       " 683,\n",
       " 645,\n",
       " 293,\n",
       " 360,\n",
       " 312,\n",
       " 397,\n",
       " 496,\n",
       " 800,\n",
       " 253,\n",
       " 261,\n",
       " 806,\n",
       " 155,\n",
       " 34,\n",
       " 731,\n",
       " 333,\n",
       " 354,\n",
       " 472,\n",
       " 419,\n",
       " 95,\n",
       " 774,\n",
       " 115,\n",
       " 367,\n",
       " 170,\n",
       " 717,\n",
       " 409,\n",
       " 116,\n",
       " 751,\n",
       " 157,\n",
       " 936,\n",
       " 839,\n",
       " 446,\n",
       " 802,\n",
       " 151,\n",
       " 584,\n",
       " 764,\n",
       " 298,\n",
       " 602,\n",
       " 314,\n",
       " 195,\n",
       " 438,\n",
       " 924,\n",
       " 315,\n",
       " 195,\n",
       " 352,\n",
       " 751,\n",
       " 490,\n",
       " 920,\n",
       " 105,\n",
       " 694,\n",
       " 740,\n",
       " 444,\n",
       " 165,\n",
       " 613,\n",
       " 876,\n",
       " 68,\n",
       " 684,\n",
       " 157,\n",
       " 484,\n",
       " 382,\n",
       " 424,\n",
       " 372,\n",
       " 185,\n",
       " 449,\n",
       " 189,\n",
       " 75,\n",
       " 899,\n",
       " 210,\n",
       " 38,\n",
       " 946,\n",
       " 461,\n",
       " 133,\n",
       " 333,\n",
       " 595,\n",
       " 928,\n",
       " 489,\n",
       " 564,\n",
       " 854,\n",
       " 814,\n",
       " 434,\n",
       " 88,\n",
       " 435,\n",
       " 462,\n",
       " 777,\n",
       " 411,\n",
       " 878,\n",
       " 928,\n",
       " 938,\n",
       " 838,\n",
       " 831,\n",
       " 436,\n",
       " 6,\n",
       " 586,\n",
       " 967,\n",
       " 601,\n",
       " 658,\n",
       " 585,\n",
       " 943,\n",
       " 357,\n",
       " 645,\n",
       " 562,\n",
       " 375,\n",
       " 257,\n",
       " 810,\n",
       " 3,\n",
       " 428,\n",
       " 699,\n",
       " 886,\n",
       " 168,\n",
       " 406,\n",
       " 319,\n",
       " 595,\n",
       " 982,\n",
       " 418,\n",
       " 920,\n",
       " 127,\n",
       " 985,\n",
       " 35,\n",
       " 73,\n",
       " 593,\n",
       " 854,\n",
       " 258,\n",
       " 893,\n",
       " 154]"
      ]
     },
     "execution_count": 120,
     "metadata": {},
     "output_type": "execute_result"
    }
   ],
   "source": [
    "new_data"
   ]
  },
  {
   "cell_type": "code",
   "execution_count": null,
   "id": "8ff3b65b-6ce7-4ca6-855f-8228c6ea8a66",
   "metadata": {},
   "outputs": [],
   "source": []
  }
 ],
 "metadata": {
  "kernelspec": {
   "display_name": "Python 3",
   "language": "python",
   "name": "python3"
  },
  "language_info": {
   "codemirror_mode": {
    "name": "ipython",
    "version": 3
   },
   "file_extension": ".py",
   "mimetype": "text/x-python",
   "name": "python",
   "nbconvert_exporter": "python",
   "pygments_lexer": "ipython3",
   "version": "3.8.8"
  }
 },
 "nbformat": 4,
 "nbformat_minor": 5
}
