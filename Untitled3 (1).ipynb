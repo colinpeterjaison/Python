{
 "cells": [
  {
   "cell_type": "code",
   "execution_count": 1,
   "id": "6c49fcc8-5c08-485f-91c4-c93370e03455",
   "metadata": {},
   "outputs": [],
   "source": [
    "import numpy as np"
   ]
  },
  {
   "cell_type": "code",
   "execution_count": 2,
   "id": "8cf0fcb9-b069-49fd-96c7-2073aec8143a",
   "metadata": {},
   "outputs": [],
   "source": [
    "x=np.array([1,2,3,4,5])\n",
    "y=np.array([7,14,15,18,21])"
   ]
  },
  {
   "cell_type": "code",
   "execution_count": 3,
   "id": "7427b919-3e50-4c63-bf0a-ac007841802d",
   "metadata": {},
   "outputs": [
    {
     "data": {
      "text/plain": [
       "3.0"
      ]
     },
     "execution_count": 3,
     "metadata": {},
     "output_type": "execute_result"
    }
   ],
   "source": [
    "x.mean()"
   ]
  },
  {
   "cell_type": "code",
   "execution_count": 4,
   "id": "4875d120-0e18-4721-bafb-2606143cd823",
   "metadata": {},
   "outputs": [
    {
     "data": {
      "text/plain": [
       "15.0"
      ]
     },
     "execution_count": 4,
     "metadata": {},
     "output_type": "execute_result"
    }
   ],
   "source": [
    "y.mean()"
   ]
  },
  {
   "cell_type": "code",
   "execution_count": 5,
   "id": "4f043be6-8ff2-45ec-8933-aa2d18a08846",
   "metadata": {},
   "outputs": [],
   "source": [
    "x_dash=np.mean(x)"
   ]
  },
  {
   "cell_type": "code",
   "execution_count": 6,
   "id": "2c7b9712-89c5-41bc-9929-d29c294151c2",
   "metadata": {},
   "outputs": [
    {
     "data": {
      "text/plain": [
       "3.0"
      ]
     },
     "execution_count": 6,
     "metadata": {},
     "output_type": "execute_result"
    }
   ],
   "source": [
    "x_dash"
   ]
  },
  {
   "cell_type": "code",
   "execution_count": 7,
   "id": "553dc5a6-98ca-48e1-8eb3-13e69b52f0dc",
   "metadata": {},
   "outputs": [],
   "source": [
    "y_dash=np.mean(y)"
   ]
  },
  {
   "cell_type": "code",
   "execution_count": 8,
   "id": "8db2714b-3881-463f-8cc1-8eeefa4ff7df",
   "metadata": {},
   "outputs": [
    {
     "data": {
      "text/plain": [
       "15.0"
      ]
     },
     "execution_count": 8,
     "metadata": {},
     "output_type": "execute_result"
    }
   ],
   "source": [
    "y_dash"
   ]
  },
  {
   "cell_type": "code",
   "execution_count": 9,
   "id": "dbfe62d8-1bbe-44c6-b516-cb51823c45e4",
   "metadata": {},
   "outputs": [],
   "source": [
    "p=(x-x_dash)*(y-y_dash)"
   ]
  },
  {
   "cell_type": "code",
   "execution_count": 10,
   "id": "8c34332b-66ab-41fb-8f1d-85188b0e0c55",
   "metadata": {},
   "outputs": [
    {
     "data": {
      "text/plain": [
       "array([16.,  1.,  0.,  3., 12.])"
      ]
     },
     "execution_count": 10,
     "metadata": {},
     "output_type": "execute_result"
    }
   ],
   "source": [
    "p"
   ]
  },
  {
   "cell_type": "code",
   "execution_count": 11,
   "id": "c17ae112-5b43-49a6-96d4-a14937bb07d4",
   "metadata": {},
   "outputs": [],
   "source": [
    "num=sum(p)"
   ]
  },
  {
   "cell_type": "code",
   "execution_count": 12,
   "id": "06d52a3f-997b-4ddf-8eee-ade4b74014b6",
   "metadata": {},
   "outputs": [
    {
     "data": {
      "text/plain": [
       "32.0"
      ]
     },
     "execution_count": 12,
     "metadata": {},
     "output_type": "execute_result"
    }
   ],
   "source": [
    "num"
   ]
  },
  {
   "cell_type": "code",
   "execution_count": 17,
   "id": "1fda85bd-fddd-4489-a05e-971252c8b706",
   "metadata": {},
   "outputs": [],
   "source": [
    "q=(x-x_dash)*(x-x_dash)"
   ]
  },
  {
   "cell_type": "code",
   "execution_count": 18,
   "id": "a77fba05-7bb9-4fcf-aa2e-29c49aaf67bd",
   "metadata": {},
   "outputs": [
    {
     "data": {
      "text/plain": [
       "array([4., 1., 0., 1., 4.])"
      ]
     },
     "execution_count": 18,
     "metadata": {},
     "output_type": "execute_result"
    }
   ],
   "source": [
    "q"
   ]
  },
  {
   "cell_type": "code",
   "execution_count": 19,
   "id": "90dd3629-f380-4458-9e63-93f7e0e224e3",
   "metadata": {},
   "outputs": [],
   "source": [
    "h=sum(q)"
   ]
  },
  {
   "cell_type": "code",
   "execution_count": 20,
   "id": "5847b206-215c-4efe-a350-43eac54293e9",
   "metadata": {},
   "outputs": [
    {
     "data": {
      "text/plain": [
       "10.0"
      ]
     },
     "execution_count": 20,
     "metadata": {},
     "output_type": "execute_result"
    }
   ],
   "source": [
    "h"
   ]
  },
  {
   "cell_type": "code",
   "execution_count": 21,
   "id": "889ffb00-49d4-4785-ae3f-3c8b033c3cc3",
   "metadata": {},
   "outputs": [],
   "source": [
    "m=num/h"
   ]
  },
  {
   "cell_type": "code",
   "execution_count": 22,
   "id": "0ab7a28e-f9b8-40a5-9679-08a3b64fbc64",
   "metadata": {},
   "outputs": [
    {
     "data": {
      "text/plain": [
       "3.2"
      ]
     },
     "execution_count": 22,
     "metadata": {},
     "output_type": "execute_result"
    }
   ],
   "source": [
    "m"
   ]
  },
  {
   "cell_type": "code",
   "execution_count": 23,
   "id": "3e025c09-3e83-49de-a22d-438b32beb67f",
   "metadata": {},
   "outputs": [],
   "source": [
    "c=y_dash-m*x_dash"
   ]
  },
  {
   "cell_type": "code",
   "execution_count": 24,
   "id": "7038dbce-5bb3-453c-b17f-0c5d4a1954f8",
   "metadata": {},
   "outputs": [
    {
     "data": {
      "text/plain": [
       "5.399999999999999"
      ]
     },
     "execution_count": 24,
     "metadata": {},
     "output_type": "execute_result"
    }
   ],
   "source": [
    "c"
   ]
  },
  {
   "cell_type": "code",
   "execution_count": 25,
   "id": "fdf082f5-c28b-41a9-87f9-ef246b55ab58",
   "metadata": {},
   "outputs": [],
   "source": [
    "ynew=m*x+c"
   ]
  },
  {
   "cell_type": "code",
   "execution_count": 26,
   "id": "f4fccebb-caba-4edc-bfe1-69e26a00fb4d",
   "metadata": {},
   "outputs": [
    {
     "data": {
      "text/plain": [
       "array([ 8.6, 11.8, 15. , 18.2, 21.4])"
      ]
     },
     "execution_count": 26,
     "metadata": {},
     "output_type": "execute_result"
    }
   ],
   "source": [
    "ynew"
   ]
  },
  {
   "cell_type": "code",
   "execution_count": 27,
   "id": "cd35d05b-307d-41f1-915b-94261968a686",
   "metadata": {},
   "outputs": [],
   "source": [
    "import matplotlib.pyplot as plt"
   ]
  },
  {
   "cell_type": "code",
   "execution_count": 28,
   "id": "a871086c-e038-4b54-8b0e-ce4238935e2e",
   "metadata": {},
   "outputs": [],
   "source": [
    "y=m*7+c"
   ]
  },
  {
   "cell_type": "code",
   "execution_count": 29,
   "id": "d7d3ad82-62e1-4d9f-ba02-6af6104c385d",
   "metadata": {},
   "outputs": [
    {
     "data": {
      "text/plain": [
       "27.8"
      ]
     },
     "execution_count": 29,
     "metadata": {},
     "output_type": "execute_result"
    }
   ],
   "source": [
    "y"
   ]
  },
  {
   "cell_type": "code",
   "execution_count": 30,
   "id": "a277b661-1657-45c7-8bb7-eb1214e63850",
   "metadata": {},
   "outputs": [],
   "source": [
    "import pandas as pd"
   ]
  },
  {
   "cell_type": "code",
   "execution_count": 31,
   "id": "173f2926-c2a0-426b-aa4b-ffa906793f8a",
   "metadata": {},
   "outputs": [],
   "source": [
    "import numpy as np"
   ]
  },
  {
   "cell_type": "code",
   "execution_count": 33,
   "id": "febf862e-61c4-403b-82ba-4440afb4c7ed",
   "metadata": {},
   "outputs": [],
   "source": [
    "p=pd.read_excel(\"Stock.xlsx\")"
   ]
  },
  {
   "cell_type": "code",
   "execution_count": 34,
   "id": "62bee9b2-4589-43d7-8106-698f73749b0e",
   "metadata": {},
   "outputs": [
    {
     "data": {
      "text/html": [
       "<div>\n",
       "<style scoped>\n",
       "    .dataframe tbody tr th:only-of-type {\n",
       "        vertical-align: middle;\n",
       "    }\n",
       "\n",
       "    .dataframe tbody tr th {\n",
       "        vertical-align: top;\n",
       "    }\n",
       "\n",
       "    .dataframe thead th {\n",
       "        text-align: right;\n",
       "    }\n",
       "</style>\n",
       "<table border=\"1\" class=\"dataframe\">\n",
       "  <thead>\n",
       "    <tr style=\"text-align: right;\">\n",
       "      <th></th>\n",
       "      <th>Month</th>\n",
       "      <th>Stock Price</th>\n",
       "    </tr>\n",
       "  </thead>\n",
       "  <tbody>\n",
       "    <tr>\n",
       "      <th>0</th>\n",
       "      <td>1</td>\n",
       "      <td>54154.0</td>\n",
       "    </tr>\n",
       "    <tr>\n",
       "      <th>1</th>\n",
       "      <td>2</td>\n",
       "      <td>488.0</td>\n",
       "    </tr>\n",
       "    <tr>\n",
       "      <th>2</th>\n",
       "      <td>3</td>\n",
       "      <td>999.0</td>\n",
       "    </tr>\n",
       "    <tr>\n",
       "      <th>3</th>\n",
       "      <td>4</td>\n",
       "      <td>52.3</td>\n",
       "    </tr>\n",
       "    <tr>\n",
       "      <th>4</th>\n",
       "      <td>5</td>\n",
       "      <td>4569.0</td>\n",
       "    </tr>\n",
       "    <tr>\n",
       "      <th>5</th>\n",
       "      <td>6</td>\n",
       "      <td>566.3</td>\n",
       "    </tr>\n",
       "    <tr>\n",
       "      <th>6</th>\n",
       "      <td>7</td>\n",
       "      <td>789.1</td>\n",
       "    </tr>\n",
       "    <tr>\n",
       "      <th>7</th>\n",
       "      <td>8</td>\n",
       "      <td>893.2</td>\n",
       "    </tr>\n",
       "    <tr>\n",
       "      <th>8</th>\n",
       "      <td>9</td>\n",
       "      <td>1236.0</td>\n",
       "    </tr>\n",
       "    <tr>\n",
       "      <th>9</th>\n",
       "      <td>10</td>\n",
       "      <td>7841.0</td>\n",
       "    </tr>\n",
       "    <tr>\n",
       "      <th>10</th>\n",
       "      <td>11</td>\n",
       "      <td>10000.0</td>\n",
       "    </tr>\n",
       "    <tr>\n",
       "      <th>11</th>\n",
       "      <td>12</td>\n",
       "      <td>10.0</td>\n",
       "    </tr>\n",
       "  </tbody>\n",
       "</table>\n",
       "</div>"
      ],
      "text/plain": [
       "    Month  Stock Price\n",
       "0       1      54154.0\n",
       "1       2        488.0\n",
       "2       3        999.0\n",
       "3       4         52.3\n",
       "4       5       4569.0\n",
       "5       6        566.3\n",
       "6       7        789.1\n",
       "7       8        893.2\n",
       "8       9       1236.0\n",
       "9      10       7841.0\n",
       "10     11      10000.0\n",
       "11     12         10.0"
      ]
     },
     "execution_count": 34,
     "metadata": {},
     "output_type": "execute_result"
    }
   ],
   "source": [
    "p"
   ]
  },
  {
   "cell_type": "code",
   "execution_count": 36,
   "id": "5509db1c-ba12-4e18-b13d-2923b41d47e0",
   "metadata": {},
   "outputs": [],
   "source": [
    "x=p.iloc[:,:-1].values"
   ]
  },
  {
   "cell_type": "code",
   "execution_count": 37,
   "id": "ad5d1f6e-ea85-448a-86e2-f9c6243d5f11",
   "metadata": {},
   "outputs": [
    {
     "data": {
      "text/plain": [
       "array([[ 1],\n",
       "       [ 2],\n",
       "       [ 3],\n",
       "       [ 4],\n",
       "       [ 5],\n",
       "       [ 6],\n",
       "       [ 7],\n",
       "       [ 8],\n",
       "       [ 9],\n",
       "       [10],\n",
       "       [11],\n",
       "       [12]], dtype=int64)"
      ]
     },
     "execution_count": 37,
     "metadata": {},
     "output_type": "execute_result"
    }
   ],
   "source": [
    "x"
   ]
  },
  {
   "cell_type": "code",
   "execution_count": 38,
   "id": "fbb701cd-38a4-4658-8b8a-c9b9ac3b4bbd",
   "metadata": {},
   "outputs": [],
   "source": [
    "y=p.iloc[:,-1].values"
   ]
  },
  {
   "cell_type": "code",
   "execution_count": 39,
   "id": "bb414a1e-b504-4fd2-86d2-f304c4ecb725",
   "metadata": {},
   "outputs": [
    {
     "data": {
      "text/plain": [
       "array([5.4154e+04, 4.8800e+02, 9.9900e+02, 5.2300e+01, 4.5690e+03,\n",
       "       5.6630e+02, 7.8910e+02, 8.9320e+02, 1.2360e+03, 7.8410e+03,\n",
       "       1.0000e+04, 1.0000e+01])"
      ]
     },
     "execution_count": 39,
     "metadata": {},
     "output_type": "execute_result"
    }
   ],
   "source": [
    "y"
   ]
  },
  {
   "cell_type": "code",
   "execution_count": 42,
   "id": "53a83801-c48c-4070-a88e-c771aa4d9ea5",
   "metadata": {},
   "outputs": [
    {
     "data": {
      "text/plain": [
       "LinearRegression()"
      ]
     },
     "execution_count": 42,
     "metadata": {},
     "output_type": "execute_result"
    }
   ],
   "source": [
    "from sklearn.linear_model import LinearRegression\n",
    "regression = LinearRegression()\n",
    "regression.fit(x,y)"
   ]
  },
  {
   "cell_type": "code",
   "execution_count": 43,
   "id": "570605ed-670c-460d-bbde-2df4c1949624",
   "metadata": {},
   "outputs": [],
   "source": [
    "y_pred=regression.predict(x)"
   ]
  },
  {
   "cell_type": "code",
   "execution_count": 44,
   "id": "8843ba16-278e-45e3-87f1-e443c14d8018",
   "metadata": {},
   "outputs": [
    {
     "data": {
      "text/plain": [
       "array([15779.98076923, 14147.22517483, 12514.46958042, 10881.71398601,\n",
       "        9248.95839161,  7616.2027972 ,  5983.4472028 ,  4350.69160839,\n",
       "        2717.93601399,  1085.18041958,  -547.57517483, -2180.33076923])"
      ]
     },
     "execution_count": 44,
     "metadata": {},
     "output_type": "execute_result"
    }
   ],
   "source": [
    "y_pred"
   ]
  },
  {
   "cell_type": "code",
   "execution_count": 45,
   "id": "f6fec3fc-7ec5-4f4b-81ba-8869f3c83e24",
   "metadata": {},
   "outputs": [
    {
     "data": {
      "image/png": "[encoded data removed]",
      "text/plain": [
       "<Figure size 432x288 with 1 Axes>"
      ]
     },
     "metadata": {
      "needs_background": "light"
     },
     "output_type": "display_data"
    }
   ],
   "source": [
    "plt.scatter(x,y,color='red')\n",
    "plt.plot(x,regression.predict(x),color='blue')\n",
    "plt.xlabel('Package')\n",
    "plt.ylabel(\"Sales\")\n",
    "plt.show()"
   ]
  },
  {
   "cell_type": "code",
   "execution_count": 54,
   "id": "59785ee8-1e12-4590-a0e6-970d63f29606",
   "metadata": {},
   "outputs": [
    {
     "data": {
      "text/plain": [
       "DecisionTreeRegressor(random_state=0)"
      ]
     },
     "execution_count": 54,
     "metadata": {},
     "output_type": "execute_result"
    }
   ],
   "source": [
    "from sklearn.tree import DecisionTreeRegressor\n",
    "regression=DecisionTreeRegressor(random_state=0)\n",
    "regression.fit(x,y)"
   ]
  },
  {
   "cell_type": "code",
   "execution_count": 56,
   "id": "1bb701d8-22f3-4084-afbe-c755e3b6abef",
   "metadata": {},
   "outputs": [],
   "source": [
    "y_pred=regression.predict(x)"
   ]
  },
  {
   "cell_type": "code",
   "execution_count": 57,
   "id": "d3c90182-d6d5-4b58-a4a3-cc51a013c80c",
   "metadata": {},
   "outputs": [
    {
     "data": {
      "text/plain": [
       "array([5.4154e+04, 4.8800e+02, 9.9900e+02, 5.2300e+01, 4.5690e+03,\n",
       "       5.6630e+02, 7.8910e+02, 8.9320e+02, 1.2360e+03, 7.8410e+03,\n",
       "       1.0000e+04, 1.0000e+01])"
      ]
     },
     "execution_count": 57,
     "metadata": {},
     "output_type": "execute_result"
    }
   ],
   "source": [
    "y_pred"
   ]
  },
  {
   "cell_type": "code",
   "execution_count": 58,
   "id": "6fcc7623-1567-45e2-8754-0e30b09eef92",
   "metadata": {},
   "outputs": [
    {
     "data": {
      "image/png": "[encoded data removed]",
      "text/plain": [
       "<Figure size 432x288 with 1 Axes>"
      ]
     },
     "metadata": {
      "needs_background": "light"
     },
     "output_type": "display_data"
    }
   ],
   "source": [
    "plt.scatter(x,y,color='red')\n",
    "plt.plot(x,regression.predict(x),color='blue')\n",
    "plt.xlabel('Package')\n",
    "plt.ylabel(\"Sales\")\n",
    "plt.show()"
   ]
  },
  {
   "cell_type": "code",
   "execution_count": null,
   "id": "9917bba7-2c7a-416e-9c02-ff3838a21328",
   "metadata": {},
   "outputs": [],
   "source": []
  }
 ],
 "metadata": {
  "kernelspec": {
   "display_name": "Python 3",
   "language": "python",
   "name": "python3"
  },
  "language_info": {
   "codemirror_mode": {
    "name": "ipython",
    "version": 3
   },
   "file_extension": ".py",
   "mimetype": "text/x-python",
   "name": "python",
   "nbconvert_exporter": "python",
   "pygments_lexer": "ipython3",
   "version": "3.8.8"
  }
 },
 "nbformat": 4,
 "nbformat_minor": 5
}
