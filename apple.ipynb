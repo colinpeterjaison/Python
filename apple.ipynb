{
 "cells": [
  {
   "cell_type": "code",
   "execution_count": 4,
   "id": "15bb5fec-6294-4578-be39-5b6d806dcfc1",
   "metadata": {},
   "outputs": [],
   "source": [
    "import pandas as c"
   ]
  },
  {
   "cell_type": "code",
   "execution_count": 5,
   "id": "2a9e4c2d-1430-4aa3-ad54-e18602f43eed",
   "metadata": {},
   "outputs": [],
   "source": [
    "df=c.read_csv(\"AAPL.csv\")"
   ]
  },
  {
   "cell_type": "code",
   "execution_count": 6,
   "id": "7e2ff317-6e75-408a-b2da-b62d70075005",
   "metadata": {},
   "outputs": [
    {
     "data": {
      "text/html": [
       "<div>\n",
       "<style scoped>\n",
       "    .dataframe tbody tr th:only-of-type {\n",
       "        vertical-align: middle;\n",
       "    }\n",
       "\n",
       "    .dataframe tbody tr th {\n",
       "        vertical-align: top;\n",
       "    }\n",
       "\n",
       "    .dataframe thead th {\n",
       "        text-align: right;\n",
       "    }\n",
       "</style>\n",
       "<table border=\"1\" class=\"dataframe\">\n",
       "  <thead>\n",
       "    <tr style=\"text-align: right;\">\n",
       "      <th></th>\n",
       "      <th>Date</th>\n",
       "      <th>Open</th>\n",
       "    </tr>\n",
       "  </thead>\n",
       "  <tbody>\n",
       "    <tr>\n",
       "      <th>0</th>\n",
       "      <td>1</td>\n",
       "      <td>127.779999</td>\n",
       "    </tr>\n",
       "    <tr>\n",
       "      <th>1</th>\n",
       "      <td>2</td>\n",
       "      <td>128.660004</td>\n",
       "    </tr>\n",
       "    <tr>\n",
       "      <th>2</th>\n",
       "      <td>3</td>\n",
       "      <td>133.800003</td>\n",
       "    </tr>\n",
       "    <tr>\n",
       "      <th>3</th>\n",
       "      <td>4</td>\n",
       "      <td>136.279999</td>\n",
       "    </tr>\n",
       "    <tr>\n",
       "      <th>4</th>\n",
       "      <td>5</td>\n",
       "      <td>143.070007</td>\n",
       "    </tr>\n",
       "    <tr>\n",
       "      <th>...</th>\n",
       "      <td>...</td>\n",
       "      <td>...</td>\n",
       "    </tr>\n",
       "    <tr>\n",
       "      <th>247</th>\n",
       "      <td>248</td>\n",
       "      <td>169.080002</td>\n",
       "    </tr>\n",
       "    <tr>\n",
       "      <th>248</th>\n",
       "      <td>249</td>\n",
       "      <td>172.320007</td>\n",
       "    </tr>\n",
       "    <tr>\n",
       "      <th>249</th>\n",
       "      <td>250</td>\n",
       "      <td>176.119995</td>\n",
       "    </tr>\n",
       "    <tr>\n",
       "      <th>250</th>\n",
       "      <td>251</td>\n",
       "      <td>175.779999</td>\n",
       "    </tr>\n",
       "    <tr>\n",
       "      <th>251</th>\n",
       "      <td>252</td>\n",
       "      <td>171.339996</td>\n",
       "    </tr>\n",
       "  </tbody>\n",
       "</table>\n",
       "<p>252 rows × 2 columns</p>\n",
       "</div>"
      ],
      "text/plain": [
       "     Date        Open\n",
       "0       1  127.779999\n",
       "1       2  128.660004\n",
       "2       3  133.800003\n",
       "3       4  136.279999\n",
       "4       5  143.070007\n",
       "..    ...         ...\n",
       "247   248  169.080002\n",
       "248   249  172.320007\n",
       "249   250  176.119995\n",
       "250   251  175.779999\n",
       "251   252  171.339996\n",
       "\n",
       "[252 rows x 2 columns]"
      ]
     },
     "execution_count": 6,
     "metadata": {},
     "output_type": "execute_result"
    }
   ],
   "source": [
    "df"
   ]
  },
  {
   "cell_type": "code",
   "execution_count": 7,
   "id": "e4c0b4eb-78f1-4874-9438-c45cf1378bc9",
   "metadata": {},
   "outputs": [],
   "source": [
    "x=df.iloc[:,:-1].values\n",
    "y=df.iloc[:,-1].values"
   ]
  },
  {
   "cell_type": "code",
   "execution_count": 8,
   "id": "22b427de-bc7f-4aaa-94d6-5d5ff29c7f4e",
   "metadata": {},
   "outputs": [
    {
     "ename": "NameError",
     "evalue": "name 'LinearRegression' is not defined",
     "output_type": "error",
     "traceback": [
      "\u001b[1;31m---------------------------------------------------------------------------\u001b[0m",
      "\u001b[1;31mNameError\u001b[0m                                 Traceback (most recent call last)",
      "\u001b[1;32m<ipython-input-8-53f6d51ee4c6>\u001b[0m in \u001b[0;36m<module>\u001b[1;34m\u001b[0m\n\u001b[1;32m----> 1\u001b[1;33m \u001b[0mregressor\u001b[0m\u001b[1;33m=\u001b[0m\u001b[0mLinearRegression\u001b[0m\u001b[1;33m(\u001b[0m\u001b[1;33m)\u001b[0m\u001b[1;33m\u001b[0m\u001b[1;33m\u001b[0m\u001b[0m\n\u001b[0m",
      "\u001b[1;31mNameError\u001b[0m: name 'LinearRegression' is not defined"
     ]
    }
   ],
   "source": [
    "regressor=LinearRegression()"
   ]
  },
  {
   "cell_type": "code",
   "execution_count": 9,
   "id": "7a7e373e-394b-4e81-9589-015ae46fb787",
   "metadata": {},
   "outputs": [],
   "source": [
    "from sklearn.linear_model import LinearRegression"
   ]
  },
  {
   "cell_type": "code",
   "execution_count": 10,
   "id": "4b06f898-0546-4e1f-b6b7-fd2d367f435b",
   "metadata": {},
   "outputs": [],
   "source": [
    "regressor=LinearRegression()"
   ]
  },
  {
   "cell_type": "code",
   "execution_count": 11,
   "id": "efdbbee6-1d89-4a19-b6ff-6a9cde32fdbc",
   "metadata": {},
   "outputs": [
    {
     "data": {
      "text/plain": [
       "LinearRegression()"
      ]
     },
     "execution_count": 11,
     "metadata": {},
     "output_type": "execute_result"
    }
   ],
   "source": [
    "regressor.fit(x,y)"
   ]
  },
  {
   "cell_type": "code",
   "execution_count": 13,
   "id": "ab3fa05d-90f1-4819-8a1e-fad9154af4f3",
   "metadata": {},
   "outputs": [],
   "source": [
    "y_pred=regressor.predict(x)"
   ]
  },
  {
   "cell_type": "code",
   "execution_count": 14,
   "id": "096c50f0-1b95-4c89-bf7e-ad083fa5247d",
   "metadata": {},
   "outputs": [
    {
     "data": {
      "text/plain": [
       "array([119.56713126, 119.75114514, 119.93515902, 120.11917291,\n",
       "       120.30318679, 120.48720067, 120.67121455, 120.85522844,\n",
       "       121.03924232, 121.2232562 , 121.40727009, 121.59128397,\n",
       "       121.77529785, 121.95931174, 122.14332562, 122.3273395 ,\n",
       "       122.51135338, 122.69536727, 122.87938115, 123.06339503,\n",
       "       123.24740892, 123.4314228 , 123.61543668, 123.79945056,\n",
       "       123.98346445, 124.16747833, 124.35149221, 124.5355061 ,\n",
       "       124.71951998, 124.90353386, 125.08754774, 125.27156163,\n",
       "       125.45557551, 125.63958939, 125.82360328, 126.00761716,\n",
       "       126.19163104, 126.37564492, 126.55965881, 126.74367269,\n",
       "       126.92768657, 127.11170046, 127.29571434, 127.47972822,\n",
       "       127.6637421 , 127.84775599, 128.03176987, 128.21578375,\n",
       "       128.39979764, 128.58381152, 128.7678254 , 128.95183928,\n",
       "       129.13585317, 129.31986705, 129.50388093, 129.68789482,\n",
       "       129.8719087 , 130.05592258, 130.23993646, 130.42395035,\n",
       "       130.60796423, 130.79197811, 130.975992  , 131.16000588,\n",
       "       131.34401976, 131.52803365, 131.71204753, 131.89606141,\n",
       "       132.08007529, 132.26408918, 132.44810306, 132.63211694,\n",
       "       132.81613083, 133.00014471, 133.18415859, 133.36817247,\n",
       "       133.55218636, 133.73620024, 133.92021412, 134.10422801,\n",
       "       134.28824189, 134.47225577, 134.65626965, 134.84028354,\n",
       "       135.02429742, 135.2083113 , 135.39232519, 135.57633907,\n",
       "       135.76035295, 135.94436683, 136.12838072, 136.3123946 ,\n",
       "       136.49640848, 136.68042237, 136.86443625, 137.04845013,\n",
       "       137.23246401, 137.4164779 , 137.60049178, 137.78450566,\n",
       "       137.96851955, 138.15253343, 138.33654731, 138.52056119,\n",
       "       138.70457508, 138.88858896, 139.07260284, 139.25661673,\n",
       "       139.44063061, 139.62464449, 139.80865837, 139.99267226,\n",
       "       140.17668614, 140.36070002, 140.54471391, 140.72872779,\n",
       "       140.91274167, 141.09675556, 141.28076944, 141.46478332,\n",
       "       141.6487972 , 141.83281109, 142.01682497, 142.20083885,\n",
       "       142.38485274, 142.56886662, 142.7528805 , 142.93689438,\n",
       "       143.12090827, 143.30492215, 143.48893603, 143.67294992,\n",
       "       143.8569638 , 144.04097768, 144.22499156, 144.40900545,\n",
       "       144.59301933, 144.77703321, 144.9610471 , 145.14506098,\n",
       "       145.32907486, 145.51308874, 145.69710263, 145.88111651,\n",
       "       146.06513039, 146.24914428, 146.43315816, 146.61717204,\n",
       "       146.80118592, 146.98519981, 147.16921369, 147.35322757,\n",
       "       147.53724146, 147.72125534, 147.90526922, 148.0892831 ,\n",
       "       148.27329699, 148.45731087, 148.64132475, 148.82533864,\n",
       "       149.00935252, 149.1933664 , 149.37738028, 149.56139417,\n",
       "       149.74540805, 149.92942193, 150.11343582, 150.2974497 ,\n",
       "       150.48146358, 150.66547746, 150.84949135, 151.03350523,\n",
       "       151.21751911, 151.401533  , 151.58554688, 151.76956076,\n",
       "       151.95357465, 152.13758853, 152.32160241, 152.50561629,\n",
       "       152.68963018, 152.87364406, 153.05765794, 153.24167183,\n",
       "       153.42568571, 153.60969959, 153.79371347, 153.97772736,\n",
       "       154.16174124, 154.34575512, 154.52976901, 154.71378289,\n",
       "       154.89779677, 155.08181065, 155.26582454, 155.44983842,\n",
       "       155.6338523 , 155.81786619, 156.00188007, 156.18589395,\n",
       "       156.36990783, 156.55392172, 156.7379356 , 156.92194948,\n",
       "       157.10596337, 157.28997725, 157.47399113, 157.65800501,\n",
       "       157.8420189 , 158.02603278, 158.21004666, 158.39406055,\n",
       "       158.57807443, 158.76208831, 158.94610219, 159.13011608,\n",
       "       159.31412996, 159.49814384, 159.68215773, 159.86617161,\n",
       "       160.05018549, 160.23419937, 160.41821326, 160.60222714,\n",
       "       160.78624102, 160.97025491, 161.15426879, 161.33828267,\n",
       "       161.52229656, 161.70631044, 161.89032432, 162.0743382 ,\n",
       "       162.25835209, 162.44236597, 162.62637985, 162.81039374,\n",
       "       162.99440762, 163.1784215 , 163.36243538, 163.54644927,\n",
       "       163.73046315, 163.91447703, 164.09849092, 164.2825048 ,\n",
       "       164.46651868, 164.65053256, 164.83454645, 165.01856033,\n",
       "       165.20257421, 165.3865881 , 165.57060198, 165.75461586])"
      ]
     },
     "execution_count": 14,
     "metadata": {},
     "output_type": "execute_result"
    }
   ],
   "source": [
    "y_pred"
   ]
  },
  {
   "cell_type": "code",
   "execution_count": 16,
   "id": "cea86258-6e60-4322-b702-297e100be658",
   "metadata": {},
   "outputs": [],
   "source": [
    "import matplotlib.pyplot as plt"
   ]
  },
  {
   "cell_type": "code",
   "execution_count": 17,
   "id": "ed25b10c-34f5-4cc1-9d48-fd7d70b35368",
   "metadata": {},
   "outputs": [
    {
     "data": {
      "text/plain": [
       "<matplotlib.collections.PathCollection at 0x2201ebd2be0>"
      ]
     },
     "execution_count": 17,
     "metadata": {},
     "output_type": "execute_result"
    },
    {
     "data": {
      "image/png": "[encoded data removed]",
      "text/plain": [
       "<Figure size 432x288 with 1 Axes>"
      ]
     },
     "metadata": {
      "needs_background": "light"
     },
     "output_type": "display_data"
    }
   ],
   "source": [
    "plt.plot(x,y_pred)\n",
    "plt.scatter(x,y)"
   ]
  },
  {
   "cell_type": "code",
   "execution_count": 20,
   "id": "f2d38ce4-8de8-4844-8cd5-bdf2b3e7d737",
   "metadata": {},
   "outputs": [],
   "source": [
    "from sklearn.linear_model import LinearRegression\n",
    "from sklearn.preprocessing import PolynomialFeatures"
   ]
  },
  {
   "cell_type": "code",
   "execution_count": 21,
   "id": "66466276-25df-42cc-8c6a-dfd029a55cf0",
   "metadata": {},
   "outputs": [],
   "source": [
    "poly_reg=PolynomialFeatures(degree=4)"
   ]
  },
  {
   "cell_type": "code",
   "execution_count": 23,
   "id": "e44fbf12-d170-4b4c-b93d-e4886dda2293",
   "metadata": {},
   "outputs": [],
   "source": [
    "x_poly=poly_reg.fit_transform(x)"
   ]
  },
  {
   "cell_type": "code",
   "execution_count": 26,
   "id": "6633333e-a4f4-4ed5-ac4b-7f18051526f4",
   "metadata": {},
   "outputs": [],
   "source": [
    "regressor=LinearRegression()"
   ]
  },
  {
   "cell_type": "code",
   "execution_count": 27,
   "id": "edceafd8-7438-4c31-a848-4600023d2c24",
   "metadata": {},
   "outputs": [
    {
     "data": {
      "text/plain": [
       "LinearRegression()"
      ]
     },
     "execution_count": 27,
     "metadata": {},
     "output_type": "execute_result"
    }
   ],
   "source": [
    "regressor.fit((x_poly),y)"
   ]
  },
  {
   "cell_type": "code",
   "execution_count": 28,
   "id": "26cd7ecd-0fc8-4244-a47c-5563df8294d7",
   "metadata": {},
   "outputs": [],
   "source": [
    "y_pred=regressor.predict(x_poly)"
   ]
  },
  {
   "cell_type": "code",
   "execution_count": 29,
   "id": "456f8d09-866d-466d-a660-79b89d5ac89b",
   "metadata": {},
   "outputs": [
    {
     "data": {
      "text/plain": [
       "array([142.10096456, 141.16504517, 140.26075101, 139.38754531,\n",
       "       138.54489554, 137.73227341, 136.94915486, 136.19502007,\n",
       "       135.46935344, 134.77164362, 134.10138349, 133.45807015,\n",
       "       132.84120496, 132.25029349, 131.68484554, 131.14437518,\n",
       "       130.62840068, 130.13644455, 129.66803354, 129.22269864,\n",
       "       128.79997506, 128.39940225, 128.0205239 , 127.66288792,\n",
       "       127.32604646, 127.00955592, 126.71297691, 126.43587428,\n",
       "       126.17781712, 125.93837876, 125.71713675, 125.51367288,\n",
       "       125.32757318, 125.15842789, 125.00583152, 124.86938278,\n",
       "       124.74868464, 124.64334429, 124.55297316, 124.4771869 ,\n",
       "       124.41560542, 124.36785283, 124.33355752, 124.31235206,\n",
       "       124.3038733 , 124.30776229, 124.32366434, 124.35122897,\n",
       "       124.39010996, 124.43996531, 124.50045724, 124.57125223,\n",
       "       124.65202098, 124.74243843, 124.84218374, 124.95094032,\n",
       "       125.06839581, 125.19424208, 125.32817523, 125.46989561,\n",
       "       125.61910778, 125.77552057, 125.938847  , 126.10880435,\n",
       "       126.28511414, 126.4675021 , 126.65569822, 126.8494367 ,\n",
       "       127.04845599, 127.25249877, 127.46131195, 127.67464668,\n",
       "       127.89225834, 128.11390654, 128.33935514, 128.56837221,\n",
       "       128.80073008, 129.03620529, 129.27457863, 129.51563511,\n",
       "       129.759164  , 130.00495876, 130.25281714, 130.50254107,\n",
       "       130.75393675, 131.0068146 , 131.26098927, 131.51627967,\n",
       "       131.7725089 , 132.02950432, 132.28709754, 132.54512437,\n",
       "       132.80342488, 133.06184335, 133.32022832, 133.57843255,\n",
       "       133.83631303, 134.09373099, 134.35055189, 134.60664544,\n",
       "       134.86188555, 135.11615041, 135.36932241, 135.62128817,\n",
       "       135.87193857, 136.12116871, 136.36887792, 136.61496977,\n",
       "       136.85935206, 137.10193684, 137.34264036, 137.58138314,\n",
       "       137.81808991, 138.05268965, 138.28511556, 138.51530508,\n",
       "       138.74319989, 138.96874589, 139.19189322, 139.41259627,\n",
       "       139.63081364, 139.84650817, 140.05964695, 140.27020128,\n",
       "       140.47814671, 140.68346302, 140.88613422, 141.08614857,\n",
       "       141.28349853, 141.47818083, 141.67019642, 141.85955048,\n",
       "       142.04625242, 142.2303159 , 142.4117588 , 142.59060324,\n",
       "       142.76687558, 142.94060639, 143.11183051, 143.28058698,\n",
       "       143.4469191 , 143.61087438, 143.77250459, 143.9318657 ,\n",
       "       144.08901796, 144.24402581, 144.39695795, 144.5478873 ,\n",
       "       144.69689103, 144.84405052, 144.98945141, 145.13318356,\n",
       "       145.27534106, 145.41602224, 145.55532967, 145.69337014,\n",
       "       145.83025469, 145.96609858, 146.10102131, 146.23514662,\n",
       "       146.36860246, 146.50152105, 146.63403881, 146.76629642,\n",
       "       146.89843877, 147.03061502, 147.16297852, 147.29568688,\n",
       "       147.42890194, 147.56278978, 147.69752069, 147.83326923,\n",
       "       147.97021416, 148.10853849, 148.24842946, 148.39007856,\n",
       "       148.53368149, 148.6794382 , 148.82755286, 148.97823388,\n",
       "       149.13169392, 149.28814985, 149.44782278, 149.61093807,\n",
       "       149.77772529, 149.94841826, 150.12325503, 150.30247789,\n",
       "       150.48633334, 150.67507215, 150.8689493 , 151.068224  ,\n",
       "       151.27315971, 151.48402412, 151.70108915, 151.92463095,\n",
       "       152.15492991, 152.39227066, 152.63694205, 152.88923717,\n",
       "       153.14945335, 153.41789214, 153.69485934, 153.98066498,\n",
       "       154.27562331, 154.58005283, 154.89427626, 155.21862058,\n",
       "       155.55341697, 155.89900087, 156.25571194, 156.62389407,\n",
       "       157.00389541, 157.39606831, 157.80076937, 158.21835944,\n",
       "       158.64920357, 159.09367106, 159.55213547, 160.02497454,\n",
       "       160.51257029, 161.01530896, 161.533581  , 162.06778114,\n",
       "       162.61830831, 163.18556568, 163.76996066, 164.37190489,\n",
       "       164.99181424, 165.63010883, 166.28721299, 166.96355531,\n",
       "       167.65956858, 168.37568987, 169.11236044, 169.87002582,\n",
       "       170.64913573, 171.45014418, 172.27350936, 173.11969373,\n",
       "       173.98916397, 174.88239099, 175.79984995, 176.74202023,\n",
       "       177.70938545, 178.70243346, 179.72165634, 180.76755041,\n",
       "       181.84061624, 182.94135859, 184.07028651, 185.22791324])"
      ]
     },
     "execution_count": 29,
     "metadata": {},
     "output_type": "execute_result"
    }
   ],
   "source": [
    "y_pred"
   ]
  },
  {
   "cell_type": "code",
   "execution_count": 31,
   "id": "39f729a6-5f64-4d73-83ef-476ea9b9dfe7",
   "metadata": {},
   "outputs": [
    {
     "data": {
      "text/plain": [
       "<matplotlib.collections.PathCollection at 0x2201eeb4730>"
      ]
     },
     "execution_count": 31,
     "metadata": {},
     "output_type": "execute_result"
    },
    {
     "data": {
      "image/png": "[encoded data removed]",
      "text/plain": [
       "<Figure size 432x288 with 1 Axes>"
      ]
     },
     "metadata": {
      "needs_background": "light"
     },
     "output_type": "display_data"
    }
   ],
   "source": [
    "plt.plot(x,y_pred,color='r')\n",
    "plt.scatter(x,y,color='b')"
   ]
  },
  {
   "cell_type": "code",
   "execution_count": 34,
   "id": "da16bee4-c126-4d08-88ad-abe32721a5fc",
   "metadata": {},
   "outputs": [],
   "source": [
    "from sklearn.model_selection import train_test_split"
   ]
  },
  {
   "cell_type": "code",
   "execution_count": 35,
   "id": "ef7033d3-3f61-4eda-a91d-7b04b877dfaa",
   "metadata": {},
   "outputs": [],
   "source": [
    "x_train,x_test,y_train,y_test=train_test_split(x,y,test_size=0.2,random_state=1)"
   ]
  },
  {
   "cell_type": "code",
   "execution_count": 36,
   "id": "fce453af-ae78-4e3a-be86-417948f68318",
   "metadata": {},
   "outputs": [],
   "source": [
    "regression=LinearRegression()"
   ]
  },
  {
   "cell_type": "code",
   "execution_count": 37,
   "id": "273cf71e-fadf-41c5-9cb5-2d2b767566c7",
   "metadata": {},
   "outputs": [
    {
     "data": {
      "text/plain": [
       "LinearRegression()"
      ]
     },
     "execution_count": 37,
     "metadata": {},
     "output_type": "execute_result"
    }
   ],
   "source": [
    "regressor.fit(x_train,y_train)"
   ]
  },
  {
   "cell_type": "code",
   "execution_count": 38,
   "id": "7b997db2-9236-4ae6-9744-0acc5105afbf",
   "metadata": {},
   "outputs": [],
   "source": [
    "y_pred=regressor.predict(x_test)"
   ]
  },
  {
   "cell_type": "code",
   "execution_count": 39,
   "id": "305968cb-3672-4eb7-9d2a-c4c02fbfbf1f",
   "metadata": {},
   "outputs": [
    {
     "data": {
      "text/plain": [
       "[<matplotlib.lines.Line2D at 0x2201ef5ac10>]"
      ]
     },
     "execution_count": 39,
     "metadata": {},
     "output_type": "execute_result"
    },
    {
     "data": {
      "image/png": "[encoded data removed]",
      "text/plain": [
       "<Figure size 432x288 with 1 Axes>"
      ]
     },
     "metadata": {
      "needs_background": "light"
     },
     "output_type": "display_data"
    }
   ],
   "source": [
    "plt.scatter(x_test,y_test,color='r')\n",
    "plt.scatter(x_train,y_train,color='y')\n",
    "plt.plot(x_test,y_pred,color='b')"
   ]
  },
  {
   "cell_type": "code",
   "execution_count": null,
   "id": "3f074f2c-258a-40d0-9d41-7b9ce8994525",
   "metadata": {},
   "outputs": [],
   "source": []
  }
 ],
 "metadata": {
  "kernelspec": {
   "display_name": "Python 3",
   "language": "python",
   "name": "python3"
  },
  "language_info": {
   "codemirror_mode": {
    "name": "ipython",
    "version": 3
   },
   "file_extension": ".py",
   "mimetype": "text/x-python",
   "name": "python",
   "nbconvert_exporter": "python",
   "pygments_lexer": "ipython3",
   "version": "3.8.8"
  }
 },
 "nbformat": 4,
 "nbformat_minor": 5
}
