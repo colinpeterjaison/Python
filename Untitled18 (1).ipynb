{
 "cells": [
  {
   "cell_type": "code",
   "execution_count": 2,
   "id": "bd4be0e3-3540-4ff3-890e-af7f4829b87e",
   "metadata": {},
   "outputs": [],
   "source": [
    "import numpy as np"
   ]
  },
  {
   "cell_type": "code",
   "execution_count": 28,
   "id": "d3b85832-ace8-4699-964f-5b50f519196e",
   "metadata": {},
   "outputs": [],
   "source": [
    "x=np.array([1,2,3,4,5,6,7,8,9,10,11,12,13])\n",
    "y=np.array([1859.4,2110.2,2018,1966,2166,2118,2054.3,2273,2501.95,2536.25,2433,2365,2451.2])"
   ]
  },
  {
   "cell_type": "code",
   "execution_count": 29,
   "id": "9670d5e3-9d44-4134-9bf9-72d3d80d9663",
   "metadata": {},
   "outputs": [
    {
     "data": {
      "text/plain": [
       "array([ 1,  2,  3,  4,  5,  6,  7,  8,  9, 10, 11, 12, 13])"
      ]
     },
     "execution_count": 29,
     "metadata": {},
     "output_type": "execute_result"
    }
   ],
   "source": [
    "x"
   ]
  },
  {
   "cell_type": "code",
   "execution_count": 30,
   "id": "ff6fb1ac-be91-4c0a-9bc2-a870f764ec44",
   "metadata": {},
   "outputs": [
    {
     "data": {
      "text/plain": [
       "array([1859.4 , 2110.2 , 2018.  , 1966.  , 2166.  , 2118.  , 2054.3 ,\n",
       "       2273.  , 2501.95, 2536.25, 2433.  , 2365.  , 2451.2 ])"
      ]
     },
     "execution_count": 30,
     "metadata": {},
     "output_type": "execute_result"
    }
   ],
   "source": [
    "y"
   ]
  },
  {
   "cell_type": "code",
   "execution_count": 7,
   "id": "696f1138-ab93-4600-8cea-50d52bf02730",
   "metadata": {},
   "outputs": [],
   "source": [
    "#ynew=mx+c"
   ]
  },
  {
   "cell_type": "code",
   "execution_count": 31,
   "id": "019e7e42-7341-4876-9566-c6e2d8a90bad",
   "metadata": {},
   "outputs": [],
   "source": [
    "xdash=np.mean(x)"
   ]
  },
  {
   "cell_type": "code",
   "execution_count": 32,
   "id": "5b2e2d4a-d5f9-4675-9200-4600a445542c",
   "metadata": {},
   "outputs": [
    {
     "data": {
      "text/plain": [
       "7.0"
      ]
     },
     "execution_count": 32,
     "metadata": {},
     "output_type": "execute_result"
    }
   ],
   "source": [
    "xdash"
   ]
  },
  {
   "cell_type": "code",
   "execution_count": 33,
   "id": "b74c7f52-9899-4350-9707-d731efe6abae",
   "metadata": {},
   "outputs": [],
   "source": [
    "ydash=np.mean(y)"
   ]
  },
  {
   "cell_type": "code",
   "execution_count": 34,
   "id": "013de574-bc1b-46a5-a865-c3f903e4cdc4",
   "metadata": {},
   "outputs": [
    {
     "data": {
      "text/plain": [
       "2219.4076923076927"
      ]
     },
     "execution_count": 34,
     "metadata": {},
     "output_type": "execute_result"
    }
   ],
   "source": [
    "ydash"
   ]
  },
  {
   "cell_type": "code",
   "execution_count": 35,
   "id": "22ba4521-18e9-463c-a94a-7f0b8c9923a3",
   "metadata": {},
   "outputs": [],
   "source": [
    "a=x-xdash"
   ]
  },
  {
   "cell_type": "code",
   "execution_count": 36,
   "id": "ff8d3265-df40-4848-b322-8fe68eb93895",
   "metadata": {},
   "outputs": [
    {
     "data": {
      "text/plain": [
       "array([-6., -5., -4., -3., -2., -1.,  0.,  1.,  2.,  3.,  4.,  5.,  6.])"
      ]
     },
     "execution_count": 36,
     "metadata": {},
     "output_type": "execute_result"
    }
   ],
   "source": [
    "a"
   ]
  },
  {
   "cell_type": "code",
   "execution_count": 37,
   "id": "f3f2b527-74e0-42d2-93b5-102b20e88574",
   "metadata": {},
   "outputs": [],
   "source": [
    "b=y-ydash"
   ]
  },
  {
   "cell_type": "code",
   "execution_count": 38,
   "id": "a8f87196-2b1e-4c41-9d90-2d5919189eca",
   "metadata": {},
   "outputs": [
    {
     "data": {
      "text/plain": [
       "array([-360.00769231, -109.20769231, -201.40769231, -253.40769231,\n",
       "        -53.40769231, -101.40769231, -165.10769231,   53.59230769,\n",
       "        282.54230769,  316.84230769,  213.59230769,  145.59230769,\n",
       "        231.79230769])"
      ]
     },
     "execution_count": 38,
     "metadata": {},
     "output_type": "execute_result"
    }
   ],
   "source": [
    "b"
   ]
  },
  {
   "cell_type": "code",
   "execution_count": 39,
   "id": "18911d9b-7fea-4356-9733-f3a585925bf7",
   "metadata": {},
   "outputs": [],
   "source": [
    "c=a*b"
   ]
  },
  {
   "cell_type": "code",
   "execution_count": 40,
   "id": "993d1b44-327d-45d9-b9e0-a811a2c19c3a",
   "metadata": {},
   "outputs": [
    {
     "data": {
      "text/plain": [
       "array([2160.04615385,  546.03846154,  805.63076923,  760.22307692,\n",
       "        106.81538462,  101.40769231,   -0.        ,   53.59230769,\n",
       "        565.08461538,  950.52692308,  854.36923077,  727.96153846,\n",
       "       1390.75384615])"
      ]
     },
     "execution_count": 40,
     "metadata": {},
     "output_type": "execute_result"
    }
   ],
   "source": [
    "c"
   ]
  },
  {
   "cell_type": "code",
   "execution_count": 42,
   "id": "6aef6816-b996-4521-9fad-aeaaa728b1c6",
   "metadata": {},
   "outputs": [],
   "source": [
    "e=a*a\n"
   ]
  },
  {
   "cell_type": "code",
   "execution_count": 43,
   "id": "c9921b0a-12bb-4d96-a4e2-97a41e0a652e",
   "metadata": {},
   "outputs": [
    {
     "data": {
      "text/plain": [
       "array([36., 25., 16.,  9.,  4.,  1.,  0.,  1.,  4.,  9., 16., 25., 36.])"
      ]
     },
     "execution_count": 43,
     "metadata": {},
     "output_type": "execute_result"
    }
   ],
   "source": [
    "e"
   ]
  },
  {
   "cell_type": "code",
   "execution_count": 44,
   "id": "b07a8014-3d52-457d-857e-b85517f4a3c7",
   "metadata": {},
   "outputs": [
    {
     "data": {
      "text/plain": [
       "9022.449999999999"
      ]
     },
     "execution_count": 44,
     "metadata": {},
     "output_type": "execute_result"
    }
   ],
   "source": [
    "sum(c)"
   ]
  },
  {
   "cell_type": "code",
   "execution_count": 45,
   "id": "667592fc-8600-44b5-9e17-3d75c52dc971",
   "metadata": {},
   "outputs": [
    {
     "data": {
      "text/plain": [
       "182.0"
      ]
     },
     "execution_count": 45,
     "metadata": {},
     "output_type": "execute_result"
    }
   ],
   "source": [
    "sum(e)"
   ]
  },
  {
   "cell_type": "code",
   "execution_count": 46,
   "id": "1c677d2a-24d3-44fe-a9bc-42e261c3c36b",
   "metadata": {},
   "outputs": [],
   "source": [
    "m=sum(c)/sum(e)"
   ]
  },
  {
   "cell_type": "code",
   "execution_count": 47,
   "id": "406a0c24-a6c2-44c7-8175-28830a684c1c",
   "metadata": {},
   "outputs": [
    {
     "data": {
      "text/plain": [
       "49.573901098901096"
      ]
     },
     "execution_count": 47,
     "metadata": {},
     "output_type": "execute_result"
    }
   ],
   "source": [
    "m"
   ]
  },
  {
   "cell_type": "code",
   "execution_count": 58,
   "id": "b51c02ab-6f0f-4f0a-98af-5b226fe2f475",
   "metadata": {},
   "outputs": [],
   "source": [
    "mxdash=m*xdash"
   ]
  },
  {
   "cell_type": "code",
   "execution_count": 56,
   "id": "0182cbaf-15ad-4fde-8c66-b98a72e54ed7",
   "metadata": {},
   "outputs": [],
   "source": [
    "import matplotlib.pyplot as plt"
   ]
  },
  {
   "cell_type": "code",
   "execution_count": 59,
   "id": "6acce034-222a-43ab-bc81-bb791144027d",
   "metadata": {},
   "outputs": [
    {
     "data": {
      "text/plain": [
       "347.01730769230767"
      ]
     },
     "execution_count": 59,
     "metadata": {},
     "output_type": "execute_result"
    }
   ],
   "source": [
    "mxdash"
   ]
  },
  {
   "cell_type": "code",
   "execution_count": 62,
   "id": "7347f2d7-849a-46f9-a1d9-358cebefe603",
   "metadata": {},
   "outputs": [],
   "source": [
    "c=ydash-mxdash"
   ]
  },
  {
   "cell_type": "code",
   "execution_count": 63,
   "id": "e16db546-fb30-462d-b46b-dd5ed013d31b",
   "metadata": {},
   "outputs": [
    {
     "data": {
      "text/plain": [
       "1872.390384615385"
      ]
     },
     "execution_count": 63,
     "metadata": {},
     "output_type": "execute_result"
    }
   ],
   "source": [
    "c"
   ]
  },
  {
   "cell_type": "code",
   "execution_count": 64,
   "id": "4fcb47ae-2d2b-4135-9efc-fa06b1b011b2",
   "metadata": {},
   "outputs": [],
   "source": [
    "ynew=m*x+c"
   ]
  },
  {
   "cell_type": "code",
   "execution_count": 65,
   "id": "9c2cc2a2-6e24-4468-a2ef-c3ea9b0a9089",
   "metadata": {},
   "outputs": [
    {
     "data": {
      "text/plain": [
       "array([1921.96428571, 1971.53818681, 2021.11208791, 2070.68598901,\n",
       "       2120.25989011, 2169.83379121, 2219.40769231, 2268.98159341,\n",
       "       2318.55549451, 2368.1293956 , 2417.7032967 , 2467.2771978 ,\n",
       "       2516.8510989 ])"
      ]
     },
     "execution_count": 65,
     "metadata": {},
     "output_type": "execute_result"
    }
   ],
   "source": [
    "ynew"
   ]
  },
  {
   "cell_type": "code",
   "execution_count": 66,
   "id": "3b144556-5a30-4e6a-bec2-c66e3d350f73",
   "metadata": {},
   "outputs": [
    {
     "data": {
      "text/plain": [
       "[<matplotlib.lines.Line2D at 0x2de8cf563a0>]"
      ]
     },
     "execution_count": 66,
     "metadata": {},
     "output_type": "execute_result"
    },
    {
     "data": {
      "image/png": "[encoded data removed]",
      "text/plain": [
       "<Figure size 432x288 with 1 Axes>"
      ]
     },
     "metadata": {
      "needs_background": "light"
     },
     "output_type": "display_data"
    }
   ],
   "source": [
    "plt.scatter(x,y)\n",
    "plt.plot(x,ynew)"
   ]
  },
  {
   "cell_type": "code",
   "execution_count": 67,
   "id": "709e4289-4fd1-48be-a62f-b6c6b56aeaf8",
   "metadata": {},
   "outputs": [],
   "source": [
    "y=m*7+c"
   ]
  },
  {
   "cell_type": "code",
   "execution_count": 68,
   "id": "4f96af54-c627-4165-bdad-9653d5751a51",
   "metadata": {},
   "outputs": [
    {
     "data": {
      "text/plain": [
       "2219.4076923076927"
      ]
     },
     "execution_count": 68,
     "metadata": {},
     "output_type": "execute_result"
    }
   ],
   "source": [
    "y"
   ]
  },
  {
   "cell_type": "code",
   "execution_count": 69,
   "id": "b18a7622-b937-4fa5-91e3-7141953fe4a8",
   "metadata": {},
   "outputs": [],
   "source": [
    "y=m*14+c"
   ]
  },
  {
   "cell_type": "code",
   "execution_count": 70,
   "id": "0f89a71f-34b0-4cf0-8e02-127ccde5b62a",
   "metadata": {},
   "outputs": [
    {
     "data": {
      "text/plain": [
       "2566.425"
      ]
     },
     "execution_count": 70,
     "metadata": {},
     "output_type": "execute_result"
    }
   ],
   "source": [
    "y"
   ]
  },
  {
   "cell_type": "code",
   "execution_count": 71,
   "id": "c971569d-3e60-4c4f-b434-e642c0b037b2",
   "metadata": {},
   "outputs": [],
   "source": [
    "#b1=m,b2=c"
   ]
  },
  {
   "cell_type": "code",
   "execution_count": 72,
   "id": "4dcc0079-30a2-4015-b0bb-4a1071314175",
   "metadata": {},
   "outputs": [],
   "source": [
    "n=np.size(x)"
   ]
  },
  {
   "cell_type": "code",
   "execution_count": 73,
   "id": "bdcc47a9-e3e6-4c28-9453-42c8b591a5dc",
   "metadata": {},
   "outputs": [
    {
     "data": {
      "text/plain": [
       "13"
      ]
     },
     "execution_count": 73,
     "metadata": {},
     "output_type": "execute_result"
    }
   ],
   "source": [
    "n"
   ]
  },
  {
   "cell_type": "code",
   "execution_count": 96,
   "id": "bb441ff9-87f0-4742-89cf-072889f24ffb",
   "metadata": {},
   "outputs": [],
   "source": [
    "l=n*(np.sum(x*y))-(np.sum(x)*np.sum(y))"
   ]
  },
  {
   "cell_type": "code",
   "execution_count": 97,
   "id": "1a4bc9ed-9a43-493b-97ee-20242d9c256b",
   "metadata": {},
   "outputs": [
    {
     "data": {
      "text/plain": [
       "2802536.1"
      ]
     },
     "execution_count": 97,
     "metadata": {},
     "output_type": "execute_result"
    }
   ],
   "source": [
    "l"
   ]
  },
  {
   "cell_type": "code",
   "execution_count": 98,
   "id": "83dcc7c9-f1ef-4515-be99-d7da5c18a1e5",
   "metadata": {},
   "outputs": [],
   "source": [
    "w=n*(np.sum(x)*np.sum(x))-(np.sum(x)*np.sum(x))"
   ]
  },
  {
   "cell_type": "code",
   "execution_count": 99,
   "id": "c119572b-3730-4d40-8f71-f9e4153706a7",
   "metadata": {},
   "outputs": [
    {
     "data": {
      "text/plain": [
       "99372"
      ]
     },
     "execution_count": 99,
     "metadata": {},
     "output_type": "execute_result"
    }
   ],
   "source": [
    "w"
   ]
  },
  {
   "cell_type": "code",
   "execution_count": 100,
   "id": "0fded979-b837-470e-8194-705d977c3356",
   "metadata": {},
   "outputs": [],
   "source": [
    "b1=l/w"
   ]
  },
  {
   "cell_type": "code",
   "execution_count": 101,
   "id": "2a7780a5-cfd9-42f8-85bb-9f4f21259f8e",
   "metadata": {},
   "outputs": [
    {
     "data": {
      "text/plain": [
       "28.20247252747253"
      ]
     },
     "execution_count": 101,
     "metadata": {},
     "output_type": "execute_result"
    }
   ],
   "source": [
    "b1"
   ]
  },
  {
   "cell_type": "code",
   "execution_count": 117,
   "id": "11642b18-c97b-4e03-ab91-719d1e223f92",
   "metadata": {},
   "outputs": [],
   "source": [
    "xdash=np.mean(x)"
   ]
  },
  {
   "cell_type": "code",
   "execution_count": 118,
   "id": "b77a2493-5ff7-4b46-a2d2-468cde8e09bc",
   "metadata": {},
   "outputs": [
    {
     "data": {
      "text/plain": [
       "7.0"
      ]
     },
     "execution_count": 118,
     "metadata": {},
     "output_type": "execute_result"
    }
   ],
   "source": [
    "xdash"
   ]
  },
  {
   "cell_type": "code",
   "execution_count": 119,
   "id": "aae8e90c-91dc-492a-95c1-3c2eb3811249",
   "metadata": {},
   "outputs": [],
   "source": [
    "ydash=np.mean(y)"
   ]
  },
  {
   "cell_type": "code",
   "execution_count": 105,
   "id": "acdb3643-a386-467e-9eb8-ff324615af46",
   "metadata": {},
   "outputs": [
    {
     "data": {
      "text/plain": [
       "2566.425"
      ]
     },
     "execution_count": 105,
     "metadata": {},
     "output_type": "execute_result"
    }
   ],
   "source": [
    "ydash"
   ]
  },
  {
   "cell_type": "code",
   "execution_count": 120,
   "id": "397578b4-44de-4651-9b1b-909c18f91703",
   "metadata": {},
   "outputs": [],
   "source": [
    "b0=ydash-b1*xdash"
   ]
  },
  {
   "cell_type": "code",
   "execution_count": 121,
   "id": "946a5a3f-28e9-4f7e-9cc4-091604884bb8",
   "metadata": {},
   "outputs": [
    {
     "data": {
      "text/plain": [
       "2021.990384615385"
      ]
     },
     "execution_count": 121,
     "metadata": {},
     "output_type": "execute_result"
    }
   ],
   "source": [
    "b0"
   ]
  },
  {
   "cell_type": "code",
   "execution_count": 122,
   "id": "27d46159-a99b-4633-a54b-7675be2a7bd3",
   "metadata": {},
   "outputs": [],
   "source": [
    "ynew=b1*x+b0"
   ]
  },
  {
   "cell_type": "code",
   "execution_count": 123,
   "id": "b9e5d7a5-8571-4f27-963a-01c324ff80f7",
   "metadata": {},
   "outputs": [
    {
     "data": {
      "text/plain": [
       "array([2050.19285714, 2078.39532967, 2106.5978022 , 2134.80027473,\n",
       "       2163.00274725, 2191.20521978, 2219.40769231, 2247.61016484,\n",
       "       2275.81263736, 2304.01510989, 2332.21758242, 2360.42005495,\n",
       "       2388.62252747])"
      ]
     },
     "execution_count": 123,
     "metadata": {},
     "output_type": "execute_result"
    }
   ],
   "source": [
    "ynew"
   ]
  },
  {
   "cell_type": "code",
   "execution_count": 111,
   "id": "b855e1fb-7e53-46ab-b0dc-e6d23a39d0d5",
   "metadata": {},
   "outputs": [
    {
     "data": {
      "text/plain": [
       "array([ 1,  2,  3,  4,  5,  6,  7,  8,  9, 10, 11, 12, 13])"
      ]
     },
     "execution_count": 111,
     "metadata": {},
     "output_type": "execute_result"
    }
   ],
   "source": [
    "x=np.array([1,2,3,4,5,6,7,8,9,10,11,12,13])\n",
    "y=np.array([1859.4,2110.2,2018,1966,2166,2118,2054.3,2273,2501.95,2536.25,2433,2365,2451.2])\n",
    "x"
   ]
  },
  {
   "cell_type": "code",
   "execution_count": 112,
   "id": "c97a4fd5-7181-42e7-b62d-b50be81bfb24",
   "metadata": {},
   "outputs": [
    {
     "data": {
      "text/plain": [
       "[<matplotlib.lines.Line2D at 0x2de8d129d60>]"
      ]
     },
     "execution_count": 112,
     "metadata": {},
     "output_type": "execute_result"
    },
    {
     "data": {
      "image/png": "[encoded data removed]",
      "text/plain": [
       "<Figure size 432x288 with 1 Axes>"
      ]
     },
     "metadata": {
      "needs_background": "light"
     },
     "output_type": "display_data"
    }
   ],
   "source": [
    "plt.scatter(x,y)\n",
    "plt.plot(x,ynew)"
   ]
  },
  {
   "cell_type": "code",
   "execution_count": null,
   "id": "6b2be683-7a58-4f8a-88c3-73005e514e23",
   "metadata": {},
   "outputs": [],
   "source": []
  }
 ],
 "metadata": {
  "kernelspec": {
   "display_name": "Python 3",
   "language": "python",
   "name": "python3"
  },
  "language_info": {
   "codemirror_mode": {
    "name": "ipython",
    "version": 3
   },
   "file_extension": ".py",
   "mimetype": "text/x-python",
   "name": "python",
   "nbconvert_exporter": "python",
   "pygments_lexer": "ipython3",
   "version": "3.8.8"
  }
 },
 "nbformat": 4,
 "nbformat_minor": 5
}
