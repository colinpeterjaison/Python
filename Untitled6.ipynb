{
 "cells": [
  {
   "cell_type": "code",
   "execution_count": null,
   "id": "b1d35610-3576-4bb8-ad2e-45c96042db08",
   "metadata": {},
   "outputs": [
    {
     "name": "stdin",
     "output_type": "stream",
     "text": [
      "Enter a value 5\n"
     ]
    }
   ],
   "source": [
    "x=int(input(\"Enter a value\"))\n",
    "while x<x+1:\n",
    "    y=x*(x-1)\n",
    "print(y)"
   ]
  },
  {
   "cell_type": "code",
   "execution_count": null,
   "id": "98c8b1ef-6329-491e-8b1a-012a82e3131d",
   "metadata": {},
   "outputs": [],
   "source": []
  }
 ],
 "metadata": {
  "kernelspec": {
   "display_name": "Python 3",
   "language": "python",
   "name": "python3"
  },
  "language_info": {
   "codemirror_mode": {
    "name": "ipython",
    "version": 3
   },
   "file_extension": ".py",
   "mimetype": "text/x-python",
   "name": "python",
   "nbconvert_exporter": "python",
   "pygments_lexer": "ipython3",
   "version": "3.8.8"
  }
 },
 "nbformat": 4,
 "nbformat_minor": 5
}
