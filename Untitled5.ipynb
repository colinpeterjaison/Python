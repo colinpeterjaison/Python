{
 "cells": [
  {
   "cell_type": "code",
   "execution_count": 1,
   "id": "17dd7593-d64f-4eb6-bf92-3868d9eb30df",
   "metadata": {},
   "outputs": [],
   "source": [
    "x=[1,2,3,4,5]"
   ]
  },
  {
   "cell_type": "code",
   "execution_count": 2,
   "id": "7b913b29-ac9f-4cc7-a436-adc6fe40cea7",
   "metadata": {},
   "outputs": [
    {
     "data": {
      "text/plain": [
       "1"
      ]
     },
     "execution_count": 2,
     "metadata": {},
     "output_type": "execute_result"
    }
   ],
   "source": [
    "x[0]"
   ]
  },
  {
   "cell_type": "code",
   "execution_count": 3,
   "id": "345653ef-ac74-468e-8dc4-2a79aac4448b",
   "metadata": {},
   "outputs": [],
   "source": [
    "x=[\"Colin\",\"Peter\",\"Wayanad\",19]"
   ]
  },
  {
   "cell_type": "code",
   "execution_count": 4,
   "id": "2e6db4ee-64e4-46d5-9bff-3b972122d836",
   "metadata": {},
   "outputs": [
    {
     "data": {
      "text/plain": [
       "19"
      ]
     },
     "execution_count": 4,
     "metadata": {},
     "output_type": "execute_result"
    }
   ],
   "source": [
    "x[-1]"
   ]
  },
  {
   "cell_type": "code",
   "execution_count": 5,
   "id": "ee9e5057-5679-4342-9312-3394b1c1e7c6",
   "metadata": {},
   "outputs": [],
   "source": [
    "x[-1]=18"
   ]
  },
  {
   "cell_type": "code",
   "execution_count": 6,
   "id": "95b66487-f3c4-485a-8dca-4a06e135d3e6",
   "metadata": {},
   "outputs": [
    {
     "data": {
      "text/plain": [
       "18"
      ]
     },
     "execution_count": 6,
     "metadata": {},
     "output_type": "execute_result"
    }
   ],
   "source": [
    "x[-1]"
   ]
  },
  {
   "cell_type": "code",
   "execution_count": 7,
   "id": "bb1c50f0-5053-4ff6-a475-09b7d366df64",
   "metadata": {},
   "outputs": [
    {
     "data": {
      "text/plain": [
       "['Colin', 'Peter', 'Wayanad', 18]"
      ]
     },
     "execution_count": 7,
     "metadata": {},
     "output_type": "execute_result"
    }
   ],
   "source": [
    "x"
   ]
  },
  {
   "cell_type": "code",
   "execution_count": 8,
   "id": "33db8f73-86c3-42e5-816a-4851123d43f2",
   "metadata": {},
   "outputs": [
    {
     "name": "stdout",
     "output_type": "stream",
     "text": [
      "value of x= 0\n",
      "value of x= 1\n",
      "value of x= 2\n",
      "value of x= 3\n",
      "value of x= 4\n",
      "value of x= 5\n",
      "value of x= 6\n",
      "value of x= 7\n",
      "value of x= 8\n",
      "value of x= 9\n"
     ]
    }
   ],
   "source": [
    "x=0\n",
    "while x<10:\n",
    "    print(\"value of x=\",x)\n",
    "    x=x+1"
   ]
  },
  {
   "cell_type": "code",
   "execution_count": 9,
   "id": "dcac7b3e-2756-407d-abab-b08c010f29fa",
   "metadata": {},
   "outputs": [
    {
     "name": "stdout",
     "output_type": "stream",
     "text": [
      "5050\n"
     ]
    }
   ],
   "source": [
    "x=0\n",
    "t=0\n",
    "while x<=100:\n",
    "    t=t+x\n",
    "    x=x+1\n",
    "print(t)"
   ]
  },
  {
   "cell_type": "code",
   "execution_count": null,
   "id": "6da01cf4-5384-4cf8-9f3d-b8c9d75081aa",
   "metadata": {},
   "outputs": [
    {
     "name": "stdin",
     "output_type": "stream",
     "text": [
      "Enter a value 15\n"
     ]
    }
   ],
   "source": [
    "x=int(input(\"Enter a value\"))\n",
    "c=0\n",
    "t=0\n",
    "while c<=x:\n",
    "    t=t*c\n",
    "    c=c*1\n",
    "print(t)"
   ]
  },
  {
   "cell_type": "code",
   "execution_count": null,
   "id": "05195416-803e-4cfc-be4a-c075c097d921",
   "metadata": {},
   "outputs": [],
   "source": [
    "a=int(input(\"Enter a number\"))\n",
    "x=0\n",
    "t=0\n",
    "while x<a:\n",
    "    t=t*x\n",
    "    x=x*1\n",
    "print(t)"
   ]
  },
  {
   "cell_type": "code",
   "execution_count": null,
   "id": "25e6753d-f572-4dd4-bc16-be7d93b8c4c1",
   "metadata": {},
   "outputs": [],
   "source": [
    "a=int(input(\"Enter a number\"))\n",
    "x=1\n",
    "t=1\n",
    "while x<=a:\n",
    "    t=t*x\n",
    "    x=x+1\n",
    "print(t)\n"
   ]
  },
  {
   "cell_type": "code",
   "execution_count": null,
   "id": "009ef5a5-8327-4b2c-94af-4ee1ad9000bf",
   "metadata": {},
   "outputs": [],
   "source": [
    "x=0\n",
    "t=0\n",
    "while x<=100:\n",
    "    if x%5==0:\n",
    "        t=t+x\n",
    "    x=x+5\n",
    "print(t)"
   ]
  },
  {
   "cell_type": "code",
   "execution_count": null,
   "id": "0d27412a-a3ea-4cfa-a0a2-b12440f94d4f",
   "metadata": {},
   "outputs": [],
   "source": [
    "for x in range(100):\n",
    "    print(x)"
   ]
  },
  {
   "cell_type": "code",
   "execution_count": null,
   "id": "820ff688-4934-4caa-86c1-5d72791e2739",
   "metadata": {},
   "outputs": [],
   "source": [
    "t=0\n",
    "for x in range(100):\n",
    "    t=t+x\n",
    "print(t)"
   ]
  },
  {
   "cell_type": "code",
   "execution_count": null,
   "id": "3eb61f7b-89eb-4c07-96a3-0c636178475b",
   "metadata": {},
   "outputs": [],
   "source": [
    "x=[1,2,3,4,5,6]\n",
    "for f in x:\n",
    "    print(f)"
   ]
  },
  {
   "cell_type": "code",
   "execution_count": null,
   "id": "92d81f35-f625-4401-a82f-00d7132681f5",
   "metadata": {},
   "outputs": [],
   "source": [
    "x=[\"Shravan\",\"Shane\",\"Aaron\",\"Richard\",\"George\"]\n",
    "for f in x:\n",
    "    print(f)"
   ]
  },
  {
   "cell_type": "code",
   "execution_count": null,
   "id": "cc9ac3b3-22a1-40b4-b3ea-cbc9f4e5dcf2",
   "metadata": {},
   "outputs": [],
   "source": [
    "x"
   ]
  },
  {
   "cell_type": "code",
   "execution_count": null,
   "id": "4ae4c5a8-e851-49b5-820c-74051ad1b9c4",
   "metadata": {},
   "outputs": [],
   "source": [
    "t=0\n",
    "x=[12,25,36,78,85,89,74,45,93,10]\n",
    "for f in x:\n",
    "    t=t+f\n",
    "print(t)\n"
   ]
  },
  {
   "cell_type": "code",
   "execution_count": null,
   "id": "32924644-97cb-44c2-9d91-29dd0b3d5d7b",
   "metadata": {},
   "outputs": [],
   "source": [
    "x=[19,73,28,46,5,37,19,64,3]\n",
    "t=1\n",
    "for f in x:\n",
    "    t=t*f\n",
    "print(t)"
   ]
  },
  {
   "cell_type": "code",
   "execution_count": null,
   "id": "04c06c68-00df-4fc4-91a6-6d02d96d21c9",
   "metadata": {},
   "outputs": [],
   "source": [
    "x=[75,59,85,46,53,16,25,28,91,73]\n",
    "x.sort()"
   ]
  },
  {
   "cell_type": "code",
   "execution_count": null,
   "id": "e0c32249-f01d-47c2-bf61-ab124fd693ec",
   "metadata": {},
   "outputs": [],
   "source": [
    "x\n"
   ]
  },
  {
   "cell_type": "code",
   "execution_count": null,
   "id": "d899c1b8-4921-4efa-a930-f147cf12a034",
   "metadata": {},
   "outputs": [],
   "source": [
    "x=[75,59,85,46,53,16,25,28,91,73]\n",
    "len(x)"
   ]
  },
  {
   "cell_type": "code",
   "execution_count": null,
   "id": "b43f75c7-de24-4e57-9861-a97243bf055f",
   "metadata": {},
   "outputs": [],
   "source": [
    "max(x)"
   ]
  },
  {
   "cell_type": "code",
   "execution_count": null,
   "id": "3fc95a1f-5cb6-4bc5-90a7-9aef5be99fd6",
   "metadata": {},
   "outputs": [],
   "source": [
    "min(x)"
   ]
  },
  {
   "cell_type": "code",
   "execution_count": null,
   "id": "3f579560-2ce9-448e-a1aa-b287af29d6a6",
   "metadata": {},
   "outputs": [],
   "source": [
    "x=[1,2,1,1,236,65,45,85,96]"
   ]
  },
  {
   "cell_type": "code",
   "execution_count": null,
   "id": "23ab4d37-136c-4095-a228-11e57f8f44b0",
   "metadata": {},
   "outputs": [],
   "source": [
    "x.count(1)"
   ]
  },
  {
   "cell_type": "code",
   "execution_count": null,
   "id": "034640ed-e62b-4ea7-8c07-ead0d885d208",
   "metadata": {},
   "outputs": [],
   "source": [
    "x=[1,2,3,4,5,6,7,8,9,10]"
   ]
  },
  {
   "cell_type": "code",
   "execution_count": null,
   "id": "38d3871d-0ceb-40ab-a999-b0fa75d6d1df",
   "metadata": {},
   "outputs": [],
   "source": [
    "x.append(11)"
   ]
  },
  {
   "cell_type": "code",
   "execution_count": null,
   "id": "a84382d2-4739-4c90-b6ff-a00ba820eb82",
   "metadata": {},
   "outputs": [],
   "source": [
    "x"
   ]
  },
  {
   "cell_type": "code",
   "execution_count": null,
   "id": "e5114cb1-4d53-4661-b9a9-10499995c115",
   "metadata": {},
   "outputs": [],
   "source": [
    "BBA=[]\n",
    "BCom=[]\n",
    "BSW=[]\n",
    "for f in range(10):\n",
    "    x=input(\"Enter Name:\")\n",
    "    y=int(input(\"1=BBA,2=BCom,3=BSW\"))\n",
    "    if y==1:\n",
    "        BBA.append(x)\n",
    "    if y==2:\n",
    "        BCom.append(x)\n",
    "    if y==3:\n",
    "        BSW.append(x)\n",
    "print(BBA,BCom,BSW)\n",
    "        \n",
    "        "
   ]
  },
  {
   "cell_type": "code",
   "execution_count": null,
   "id": "30fa5f8d-a5b7-48d2-9aa0-bf0a52c0990a",
   "metadata": {},
   "outputs": [],
   "source": [
    "BBA"
   ]
  },
  {
   "cell_type": "code",
   "execution_count": null,
   "id": "55d01e78-8a6e-4131-9250-8a8bd88c92c9",
   "metadata": {},
   "outputs": [],
   "source": [
    "BCom\n"
   ]
  },
  {
   "cell_type": "code",
   "execution_count": null,
   "id": "8d041112-346f-4ea1-92e4-d21c9efe7678",
   "metadata": {},
   "outputs": [],
   "source": [
    "BSW"
   ]
  },
  {
   "cell_type": "code",
   "execution_count": null,
   "id": "444504b5-353e-421a-80de-035af13f8dbf",
   "metadata": {},
   "outputs": [],
   "source": []
  }
 ],
 "metadata": {
  "kernelspec": {
   "display_name": "Python 3",
   "language": "python",
   "name": "python3"
  },
  "language_info": {
   "codemirror_mode": {
    "name": "ipython",
    "version": 3
   },
   "file_extension": ".py",
   "mimetype": "text/x-python",
   "name": "python",
   "nbconvert_exporter": "python",
   "pygments_lexer": "ipython3",
   "version": "3.8.8"
  }
 },
 "nbformat": 4,
 "nbformat_minor": 5
}
