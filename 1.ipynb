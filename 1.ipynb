{
 "cells": [
  {
   "cell_type": "code",
   "execution_count": 1,
   "id": "cfc352d1-329a-49ed-82c2-f410141e89ee",
   "metadata": {},
   "outputs": [
    {
     "name": "stdout",
     "output_type": "stream",
     "text": [
      "Colin\n"
     ]
    }
   ],
   "source": [
    "print(\"Colin\")"
   ]
  },
  {
   "cell_type": "code",
   "execution_count": 2,
   "id": "fbfc1403-61d5-4cfa-877c-51035c5afec0",
   "metadata": {},
   "outputs": [
    {
     "name": "stdout",
     "output_type": "stream",
     "text": [
      "colin\n"
     ]
    }
   ],
   "source": [
    "print(\"colin\")"
   ]
  },
  {
   "cell_type": "code",
   "execution_count": 3,
   "id": "b7b8f274-b201-439c-b5f7-721c37f95aef",
   "metadata": {},
   "outputs": [],
   "source": [
    "x=10"
   ]
  },
  {
   "cell_type": "code",
   "execution_count": 4,
   "id": "dac3381c-8eb1-46cb-89e4-1195c38d4879",
   "metadata": {},
   "outputs": [
    {
     "name": "stdout",
     "output_type": "stream",
     "text": [
      "10\n"
     ]
    }
   ],
   "source": [
    "print(x)"
   ]
  },
  {
   "cell_type": "code",
   "execution_count": 5,
   "id": "3d618058-c996-4180-bbec-7bf85bc5423a",
   "metadata": {},
   "outputs": [
    {
     "ename": "SyntaxError",
     "evalue": "cannot assign to literal (<ipython-input-5-ee4725af2c25>, line 1)",
     "output_type": "error",
     "traceback": [
      "\u001b[1;36m  File \u001b[1;32m\"<ipython-input-5-ee4725af2c25>\"\u001b[1;36m, line \u001b[1;32m1\u001b[0m\n\u001b[1;33m    x=\"India\", y=10\u001b[0m\n\u001b[1;37m      ^\u001b[0m\n\u001b[1;31mSyntaxError\u001b[0m\u001b[1;31m:\u001b[0m cannot assign to literal\n"
     ]
    }
   ],
   "source": [
    "x=\"India\", y=10"
   ]
  },
  {
   "cell_type": "code",
   "execution_count": 9,
   "id": "9c730d04-82c9-470b-aacd-794481eabcca",
   "metadata": {},
   "outputs": [],
   "source": [
    "x=\"India\"\n",
    "y=10"
   ]
  },
  {
   "cell_type": "code",
   "execution_count": 7,
   "id": "fb502689-2b63-4fba-9694-b1594d3242d8",
   "metadata": {},
   "outputs": [],
   "source": [
    "x=\"India\"\n",
    "y=10\n"
   ]
  },
  {
   "cell_type": "code",
   "execution_count": 8,
   "id": "0d1847ff-43f1-4764-bf5e-217019ff203e",
   "metadata": {},
   "outputs": [
    {
     "name": "stdout",
     "output_type": "stream",
     "text": [
      "India\n",
      "10\n"
     ]
    }
   ],
   "source": [
    "print(x)\n",
    "print(y)"
   ]
  },
  {
   "cell_type": "code",
   "execution_count": 11,
   "id": "8507eb70-441b-42bc-8153-f7bcb9506747",
   "metadata": {},
   "outputs": [
    {
     "name": "stdout",
     "output_type": "stream",
     "text": [
      "colin\n",
      "10\n",
      "India\n",
      "10\n"
     ]
    }
   ],
   "source": [
    "print(\"colin\")\n",
    "x=10\n",
    "x1=\"India\"\n",
    "y=10\n",
    "print(x)\n",
    "print(x1)\n",
    "print(y)"
   ]
  },
  {
   "cell_type": "code",
   "execution_count": 13,
   "id": "e32fd8a4-e8db-4541-b666-62ca65b97799",
   "metadata": {},
   "outputs": [
    {
     "name": "stdout",
     "output_type": "stream",
     "text": [
      "19 November 8.2\n"
     ]
    }
   ],
   "source": [
    "x=19\n",
    "y=\"November\"\n",
    "z=8.2\n",
    "print(x,y,z)"
   ]
  },
  {
   "cell_type": "code",
   "execution_count": 14,
   "id": "16cae41f-d63c-4f21-84b1-a15d0a4a52f6",
   "metadata": {},
   "outputs": [
    {
     "data": {
      "text/plain": [
       "int"
      ]
     },
     "execution_count": 14,
     "metadata": {},
     "output_type": "execute_result"
    }
   ],
   "source": [
    "type(x)"
   ]
  },
  {
   "cell_type": "code",
   "execution_count": 15,
   "id": "6a54bf9c-5d79-4d48-8516-e03f8d93f6f9",
   "metadata": {},
   "outputs": [
    {
     "data": {
      "text/plain": [
       "str"
      ]
     },
     "execution_count": 15,
     "metadata": {},
     "output_type": "execute_result"
    }
   ],
   "source": [
    "type(y)"
   ]
  },
  {
   "cell_type": "code",
   "execution_count": 16,
   "id": "cca84308-85ae-4595-82c9-de6417741eb6",
   "metadata": {},
   "outputs": [
    {
     "data": {
      "text/plain": [
       "float"
      ]
     },
     "execution_count": 16,
     "metadata": {},
     "output_type": "execute_result"
    }
   ],
   "source": [
    "type(z)"
   ]
  },
  {
   "cell_type": "code",
   "execution_count": 18,
   "id": "03b8d79b-0cb1-485f-b280-aa00b5dc4695",
   "metadata": {},
   "outputs": [
    {
     "name": "stdout",
     "output_type": "stream",
     "text": [
      "20.5\n"
     ]
    }
   ],
   "source": [
    "x=10\n",
    "y=10.5\n",
    "z=x+y\n",
    "print(z)\n"
   ]
  },
  {
   "cell_type": "code",
   "execution_count": 19,
   "id": "3b56e51d-3d39-44e6-aa95-f5649e916955",
   "metadata": {},
   "outputs": [
    {
     "name": "stdout",
     "output_type": "stream",
     "text": [
      "20.0 <class 'float'>\n"
     ]
    }
   ],
   "source": [
    "x=10\n",
    "y=10.0\n",
    "z=x+y\n",
    "print(z, type(z))"
   ]
  },
  {
   "cell_type": "code",
   "execution_count": 27,
   "id": "1b6e049d-d225-4e2e-8354-a5cbe465fc36",
   "metadata": {},
   "outputs": [
    {
     "name": "stdout",
     "output_type": "stream",
     "text": [
      "India is My Country\n"
     ]
    }
   ],
   "source": [
    "x=\"India\"\n",
    "y=\"is\"\n",
    "z=\"My Country\"\n",
    "a=x+\" \"+y+\" \"+z\n",
    "print(a)"
   ]
  },
  {
   "cell_type": "code",
   "execution_count": null,
   "id": "2b75b4d7-16f2-462c-b73b-a3e15da9094e",
   "metadata": {},
   "outputs": [],
   "source": []
  }
 ],
 "metadata": {
  "kernelspec": {
   "display_name": "Python 3",
   "language": "python",
   "name": "python3"
  },
  "language_info": {
   "codemirror_mode": {
    "name": "ipython",
    "version": 3
   },
   "file_extension": ".py",
   "mimetype": "text/x-python",
   "name": "python",
   "nbconvert_exporter": "python",
   "pygments_lexer": "ipython3",
   "version": "3.8.8"
  }
 },
 "nbformat": 4,
 "nbformat_minor": 5
}
