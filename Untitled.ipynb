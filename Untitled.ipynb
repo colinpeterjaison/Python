{
 "cells": [
  {
   "cell_type": "code",
   "execution_count": 1,
   "id": "79b98dc7-f81e-48bb-a5b6-90c8748a4e58",
   "metadata": {},
   "outputs": [],
   "source": [
    "def add(x,y):\n",
    "    z=x+y\n",
    "    print(z)"
   ]
  },
  {
   "cell_type": "code",
   "execution_count": 2,
   "id": "711cc15f-25fd-4edf-92be-c85e9e32ebab",
   "metadata": {},
   "outputs": [],
   "source": [
    "def sub(x,y):\n",
    "    z=x-y\n",
    "    print(z)"
   ]
  },
  {
   "cell_type": "code",
   "execution_count": 3,
   "id": "b45bed59-b370-48d6-af1f-f3deac9e7369",
   "metadata": {},
   "outputs": [],
   "source": [
    "def multi(x,y):\n",
    "    z=x*y\n",
    "    print(z)\n",
    "    "
   ]
  },
  {
   "cell_type": "code",
   "execution_count": 4,
   "id": "b8322ec4-9787-4f52-b828-58f560053b8e",
   "metadata": {},
   "outputs": [],
   "source": [
    "def div(x,y):\n",
    "    z=x/y\n",
    "    print(z)"
   ]
  },
  {
   "cell_type": "code",
   "execution_count": 5,
   "id": "802b7288-876f-4bbe-b759-da901cfbaa95",
   "metadata": {},
   "outputs": [],
   "source": [
    "def numbers():\n",
    "    x=int(input(\"Enter a number:\"))\n",
    "    z=input(\"Enter funtion\")\n",
    "    y=int(input(\"Enter a number:\"))\n",
    "    if z==\"+\":\n",
    "        add(x,y)\n",
    "    if z==\"-\":\n",
    "        sub(x,y)\n",
    "    if z==\"*\":\n",
    "        multi(x,y)\n",
    "    if z==\"/\":\n",
    "        div(x,y)\n",
    "    else:\n",
    "        print(\"error\")"
   ]
  },
  {
   "cell_type": "code",
   "execution_count": 6,
   "id": "137faf09-2488-4da8-be8e-97b73d74b408",
   "metadata": {},
   "outputs": [
    {
     "name": "stdin",
     "output_type": "stream",
     "text": [
      "Enter a number: 5\n",
      "Enter funtion +\n",
      "Enter a number: 3\n"
     ]
    },
    {
     "name": "stdout",
     "output_type": "stream",
     "text": [
      "8\n",
      "error\n"
     ]
    }
   ],
   "source": [
    "numbers()"
   ]
  },
  {
   "cell_type": "code",
   "execution_count": 7,
   "id": "1f3cbda8-4d1f-4c3d-b061-7c3840d88e3c",
   "metadata": {},
   "outputs": [],
   "source": [
    "def add(x,y):\n",
    "  z=x+y\n",
    "  return z"
   ]
  },
  {
   "cell_type": "code",
   "execution_count": 8,
   "id": "fcd7d5a6-924f-4a6d-8330-946d3aab4b86",
   "metadata": {},
   "outputs": [
    {
     "data": {
      "text/plain": [
       "10"
      ]
     },
     "execution_count": 8,
     "metadata": {},
     "output_type": "execute_result"
    }
   ],
   "source": [
    "add(5,5)"
   ]
  },
  {
   "cell_type": "code",
   "execution_count": 12,
   "id": "ee80a5fd-386d-4c5f-8a13-9c24816608a7",
   "metadata": {},
   "outputs": [],
   "source": [
    "def functions():\n",
    "    x=int(input(\"Enter a number:\"))\n",
    "    z=input(\"Enter funtion\")\n",
    "    y=int(input(\"Enter a number:\"))\n",
    "    def add(x,y):\n",
    "        z=x+y\n",
    "        return z\n",
    "    def sub(x,y):\n",
    "        z=x-y\n",
    "        return z\n",
    "    def multi(x,y):\n",
    "        z=x*y\n",
    "        return z\n",
    "    def div(x,y):\n",
    "        z=x/y\n",
    "        return z\n",
    "    if z==\"+\":\n",
    "        A=add(x,y)\n",
    "    if z==\"-\":\n",
    "        A=sub(x,y)\n",
    "    if z==\"*\":\n",
    "        A=multi(x,y)\n",
    "    if z==\"/\":\n",
    "        A=div(x,y)\n",
    "    print(\"A=\",A)"
   ]
  },
  {
   "cell_type": "code",
   "execution_count": 13,
   "id": "30ebbbc7-e5cc-42b2-8c5a-0ae9637b0f8e",
   "metadata": {},
   "outputs": [
    {
     "name": "stdin",
     "output_type": "stream",
     "text": [
      "Enter a number: 5\n",
      "Enter funtion +\n",
      "Enter a number: 4\n"
     ]
    },
    {
     "name": "stdout",
     "output_type": "stream",
     "text": [
      "A= 9\n"
     ]
    }
   ],
   "source": [
    "functions()"
   ]
  },
  {
   "cell_type": "code",
   "execution_count": 14,
   "id": "0f4cdc09-6b67-4834-a830-9dec5ebeef19",
   "metadata": {},
   "outputs": [
    {
     "name": "stdin",
     "output_type": "stream",
     "text": [
      "Enter first number :  5\n",
      "Enter the operation :  +\n",
      "Enter second number :  4\n"
     ]
    },
    {
     "name": "stdout",
     "output_type": "stream",
     "text": [
      "Result is A  9\n"
     ]
    },
    {
     "name": "stdin",
     "output_type": "stream",
     "text": [
      " If you want to continue , Press Y for yes and N for No Y\n",
      "Enter third number :  4\n"
     ]
    }
   ],
   "source": [
    "x=int(input(\"Enter first number : \"))\n",
    "z= input(\"Enter the operation : \")\n",
    "y=int(input(\"Enter second number : \"))\n",
    "\n",
    "def add(x,y):\n",
    "  z=x+y\n",
    "  return z\n",
    "def mul(x,y):\n",
    "  z=x*y\n",
    "  return z\n",
    "def div(x,y):\n",
    "  z=x/y\n",
    "  return z\n",
    "def sub(x,y):\n",
    "  z=x-y\n",
    "  return z\n",
    "\n",
    "if z == \"+\":\n",
    "  A = add(x,y)\n",
    "if z == \"-\":\n",
    "  A= sub(x,y)\n",
    "if z == \"*\":\n",
    "  A =mul(x,y)\n",
    "if z == \"/\":\n",
    "  A = div(x,y)\n",
    "print(\"Result is A \", A)\n",
    "B= input(\" If you want to continue , Press Y for yes and N for No\")\n",
    "if B== \"Y\":\n",
    "    m=int(input(\"Enter third number : \"))\n",
    "    n=input(\"Enter funtion\")\n",
    "    l=int(input(\"Enter fourth number : \"))\n",
    "    \n",
    "    \n"
   ]
  },
  {
   "cell_type": "code",
   "execution_count": null,
   "id": "e9cfeede-f6b8-4280-b3bb-99e61d894d49",
   "metadata": {},
   "outputs": [],
   "source": []
  }
 ],
 "metadata": {
  "kernelspec": {
   "display_name": "Python 3",
   "language": "python",
   "name": "python3"
  },
  "language_info": {
   "codemirror_mode": {
    "name": "ipython",
    "version": 3
   },
   "file_extension": ".py",
   "mimetype": "text/x-python",
   "name": "python",
   "nbconvert_exporter": "python",
   "pygments_lexer": "ipython3",
   "version": "3.8.8"
  }
 },
 "nbformat": 4,
 "nbformat_minor": 5
}
