{
 "cells": [
  {
   "cell_type": "code",
   "execution_count": 1,
   "id": "9e243f91-ba1b-49b8-8dc2-b195d88837b6",
   "metadata": {},
   "outputs": [],
   "source": [
    "import sqlite3"
   ]
  },
  {
   "cell_type": "code",
   "execution_count": 2,
   "id": "b3a4b635-4c4c-4606-9481-74047188b8d1",
   "metadata": {},
   "outputs": [],
   "source": [
    "x=sqlite3.connect(\"SalesDBNew.db\")"
   ]
  },
  {
   "cell_type": "code",
   "execution_count": 3,
   "id": "33c22168-9cae-4785-bdc6-a4b1d0c7de4e",
   "metadata": {},
   "outputs": [],
   "source": [
    "y=x.cursor()"
   ]
  },
  {
   "cell_type": "code",
   "execution_count": 4,
   "id": "45c8593c-29db-47a5-856d-4596f3bfb13f",
   "metadata": {},
   "outputs": [
    {
     "data": {
      "text/plain": [
       "<sqlite3.Connection at 0x21526e63030>"
      ]
     },
     "execution_count": 4,
     "metadata": {},
     "output_type": "execute_result"
    }
   ],
   "source": [
    "x"
   ]
  },
  {
   "cell_type": "code",
   "execution_count": 5,
   "id": "02ce69ea-7500-48b4-bd5f-f91cc7b373db",
   "metadata": {},
   "outputs": [
    {
     "ename": "OperationalError",
     "evalue": "no such table: Supermarket_sales",
     "output_type": "error",
     "traceback": [
      "\u001b[1;31m---------------------------------------------------------------------------\u001b[0m",
      "\u001b[1;31mOperationalError\u001b[0m                          Traceback (most recent call last)",
      "\u001b[1;32m<ipython-input-5-6657648d49f1>\u001b[0m in \u001b[0;36m<module>\u001b[1;34m\u001b[0m\n\u001b[1;32m----> 1\u001b[1;33m \u001b[0my\u001b[0m\u001b[1;33m.\u001b[0m\u001b[0mexecute\u001b[0m\u001b[1;33m(\u001b[0m\u001b[1;34m\"SELECT * FROM Supermarket_sales\"\u001b[0m\u001b[1;33m)\u001b[0m\u001b[1;33m\u001b[0m\u001b[1;33m\u001b[0m\u001b[0m\n\u001b[0m",
      "\u001b[1;31mOperationalError\u001b[0m: no such table: Supermarket_sales"
     ]
    }
   ],
   "source": [
    "y.execute(\"SELECT * FROM Supermarket_sales\")"
   ]
  },
  {
   "cell_type": "code",
   "execution_count": null,
   "id": "cc2dbf21-526a-4a15-8c67-3db9aee3c574",
   "metadata": {},
   "outputs": [],
   "source": []
  }
 ],
 "metadata": {
  "kernelspec": {
   "display_name": "Python 3",
   "language": "python",
   "name": "python3"
  },
  "language_info": {
   "codemirror_mode": {
    "name": "ipython",
    "version": 3
   },
   "file_extension": ".py",
   "mimetype": "text/x-python",
   "name": "python",
   "nbconvert_exporter": "python",
   "pygments_lexer": "ipython3",
   "version": "3.8.8"
  }
 },
 "nbformat": 4,
 "nbformat_minor": 5
}
