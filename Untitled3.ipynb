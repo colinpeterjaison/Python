{
 "cells": [
  {
   "cell_type": "code",
   "execution_count": 1,
   "id": "5060bf7c-467d-4fd6-b7d2-ab20582b666c",
   "metadata": {},
   "outputs": [],
   "source": [
    "def Hello():\n",
    "    print(\"hello\")"
   ]
  },
  {
   "cell_type": "code",
   "execution_count": 2,
   "id": "e27cc0c9-d292-468c-b4f4-7279f0825e04",
   "metadata": {},
   "outputs": [
    {
     "name": "stdout",
     "output_type": "stream",
     "text": [
      "hello\n"
     ]
    }
   ],
   "source": [
    "Hello()"
   ]
  },
  {
   "cell_type": "code",
   "execution_count": 9,
   "id": "1fa55046-01f2-40bb-afd4-3e10c5e17125",
   "metadata": {},
   "outputs": [
    {
     "name": "stdout",
     "output_type": "stream",
     "text": [
      "hello\n",
      "30\n"
     ]
    }
   ],
   "source": [
    "x=10\n",
    "y=20\n",
    "z=x+y\n",
    "Hello()\n",
    "print(z)"
   ]
  },
  {
   "cell_type": "code",
   "execution_count": 28,
   "id": "e77d382e-7519-4d73-b1eb-69747401dafb",
   "metadata": {},
   "outputs": [],
   "source": [
    "def add():\n",
    "    x=int(input(\"Enter first number\"))\n",
    "    y=int(input(\"enter second number\"))\n",
    "    print(x+y)"
   ]
  },
  {
   "cell_type": "code",
   "execution_count": 29,
   "id": "318b8f1a-90a2-4f43-a847-7d17cd2c8fa0",
   "metadata": {},
   "outputs": [
    {
     "name": "stdin",
     "output_type": "stream",
     "text": [
      "Enter first number 5\n",
      "enter second number 5\n"
     ]
    },
    {
     "name": "stdout",
     "output_type": "stream",
     "text": [
      "10\n"
     ]
    }
   ],
   "source": [
    "add()"
   ]
  },
  {
   "cell_type": "code",
   "execution_count": 12,
   "id": "1d1f463e-0838-455b-8be0-ab20790a7b64",
   "metadata": {},
   "outputs": [
    {
     "name": "stdout",
     "output_type": "stream",
     "text": [
      "hello\n"
     ]
    }
   ],
   "source": [
    "Hello()"
   ]
  },
  {
   "cell_type": "code",
   "execution_count": 22,
   "id": "31abef0b-8c37-40cb-bc9e-1ebd96afef26",
   "metadata": {},
   "outputs": [],
   "source": [
    "def sub():\n",
    "    x=int(input(\"Enter first number\"))\n",
    "    y=int(input(\"enter second number\"))\n",
    "    print(x-y)"
   ]
  },
  {
   "cell_type": "code",
   "execution_count": 23,
   "id": "5171ec1a-f7d2-482d-9665-8233781c9142",
   "metadata": {},
   "outputs": [
    {
     "name": "stdin",
     "output_type": "stream",
     "text": [
      "Enter first number 5\n",
      "enter second number 1\n"
     ]
    },
    {
     "name": "stdout",
     "output_type": "stream",
     "text": [
      "4\n"
     ]
    }
   ],
   "source": [
    "sub()"
   ]
  },
  {
   "cell_type": "code",
   "execution_count": 24,
   "id": "b4b8f24e-d0fe-4411-a68d-c5c802fa1217",
   "metadata": {},
   "outputs": [],
   "source": [
    "def mult():\n",
    "    x=int(input(\"Enter first number\"))\n",
    "    y=int(input(\"enter second number\"))\n",
    "    print(x*y)"
   ]
  },
  {
   "cell_type": "code",
   "execution_count": 25,
   "id": "ea48e278-04df-49a7-840e-ba64bfc64e35",
   "metadata": {},
   "outputs": [
    {
     "name": "stdin",
     "output_type": "stream",
     "text": [
      "Enter first number 5\n",
      "enter second number 5\n"
     ]
    },
    {
     "name": "stdout",
     "output_type": "stream",
     "text": [
      "25\n"
     ]
    }
   ],
   "source": [
    "mult()"
   ]
  },
  {
   "cell_type": "code",
   "execution_count": 26,
   "id": "9688a919-4a53-4205-8fe5-0a9eaa0f7c8c",
   "metadata": {},
   "outputs": [],
   "source": [
    "def div():\n",
    "    x=int(input(\"Enter first number\"))\n",
    "    y=int(input(\"enter second number\"))\n",
    "    print(x/y)"
   ]
  },
  {
   "cell_type": "code",
   "execution_count": 27,
   "id": "9576dde8-2dbf-4b14-b693-509b8a660837",
   "metadata": {},
   "outputs": [
    {
     "name": "stdin",
     "output_type": "stream",
     "text": [
      "Enter first number 5\n",
      "enter second number 1\n"
     ]
    },
    {
     "name": "stdout",
     "output_type": "stream",
     "text": [
      "5.0\n"
     ]
    }
   ],
   "source": [
    "div()"
   ]
  },
  {
   "cell_type": "code",
   "execution_count": 32,
   "id": "c3d63bcf-9e96-4fae-8be4-b15a6f068f6f",
   "metadata": {},
   "outputs": [],
   "source": [
    "def number():\n",
    "    x=int(input(\"Enter a number\"))\n",
    "    y=int(input(\"Enter a number\"))\n",
    "    z=int(input(\"Enter a function\"))\n",
    "    if x==1:\n",
    "        v=add()\n",
    "        print(v)\n",
    "    if x==2:\n",
    "        v=sub()\n",
    "        print(v)\n",
    "    if x==3:\n",
    "        v=mult()\n",
    "        print(v)\n",
    "    if x==4:\n",
    "        v=div()\n",
    "        print(v)"
   ]
  },
  {
   "cell_type": "code",
   "execution_count": 33,
   "id": "41587619-691d-4608-b4c4-287e88c0b778",
   "metadata": {},
   "outputs": [
    {
     "name": "stdin",
     "output_type": "stream",
     "text": [
      "Enter a number 5\n",
      "Enter a number 5\n",
      "Enter a function 1\n"
     ]
    }
   ],
   "source": [
    "number()"
   ]
  },
  {
   "cell_type": "code",
   "execution_count": null,
   "id": "5d27b0ea-c6ac-4429-915a-a1078f8e0fa6",
   "metadata": {},
   "outputs": [],
   "source": []
  }
 ],
 "metadata": {
  "kernelspec": {
   "display_name": "Python 3",
   "language": "python",
   "name": "python3"
  },
  "language_info": {
   "codemirror_mode": {
    "name": "ipython",
    "version": 3
   },
   "file_extension": ".py",
   "mimetype": "text/x-python",
   "name": "python",
   "nbconvert_exporter": "python",
   "pygments_lexer": "ipython3",
   "version": "3.8.8"
  }
 },
 "nbformat": 4,
 "nbformat_minor": 5
}
