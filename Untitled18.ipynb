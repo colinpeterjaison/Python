{
 "cells": [
  {
   "cell_type": "code",
   "execution_count": 2,
   "id": "bd4be0e3-3540-4ff3-890e-af7f4829b87e",
   "metadata": {},
   "outputs": [],
   "source": [
    "import numpy as np"
   ]
  },
  {
   "cell_type": "code",
   "execution_count": 4,
   "id": "d3b85832-ace8-4699-964f-5b50f519196e",
   "metadata": {},
   "outputs": [],
   "source": [
    "x=np.array([1,2,3,4,5,6,7,8,9,10,11,12,13])\n",
    "y=np.array([1859.4,2110.2,2018,1966,2166,2118,2054.3,2273,2501.95,2536.25,2433,2365,2451.2])"
   ]
  },
  {
   "cell_type": "code",
   "execution_count": 5,
   "id": "9670d5e3-9d44-4134-9bf9-72d3d80d9663",
   "metadata": {},
   "outputs": [
    {
     "data": {
      "text/plain": [
       "array([ 1,  2,  3,  4,  5,  6,  7,  8,  9, 10, 11, 12, 13])"
      ]
     },
     "execution_count": 5,
     "metadata": {},
     "output_type": "execute_result"
    }
   ],
   "source": [
    "x"
   ]
  },
  {
   "cell_type": "code",
   "execution_count": 6,
   "id": "ff6fb1ac-be91-4c0a-9bc2-a870f764ec44",
   "metadata": {},
   "outputs": [
    {
     "data": {
      "text/plain": [
       "array([1859.4 , 2110.2 , 2018.  , 1966.  , 2166.  , 2118.  , 2054.3 ,\n",
       "       2273.  , 2501.95, 2536.25, 2433.  , 2365.  , 2451.2 ])"
      ]
     },
     "execution_count": 6,
     "metadata": {},
     "output_type": "execute_result"
    }
   ],
   "source": [
    "y"
   ]
  },
  {
   "cell_type": "code",
   "execution_count": null,
   "id": "696f1138-ab93-4600-8cea-50d52bf02730",
   "metadata": {},
   "outputs": [],
   "source": []
  }
 ],
 "metadata": {
  "kernelspec": {
   "display_name": "Python 3",
   "language": "python",
   "name": "python3"
  },
  "language_info": {
   "codemirror_mode": {
    "name": "ipython",
    "version": 3
   },
   "file_extension": ".py",
   "mimetype": "text/x-python",
   "name": "python",
   "nbconvert_exporter": "python",
   "pygments_lexer": "ipython3",
   "version": "3.8.8"
  }
 },
 "nbformat": 4,
 "nbformat_minor": 5
}
